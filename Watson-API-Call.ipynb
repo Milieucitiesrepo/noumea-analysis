{
 "cells": [
  {
   "cell_type": "code",
   "execution_count": 2,
   "metadata": {
    "collapsed": true
   },
   "outputs": [],
   "source": [
    "import numpy as np\n",
    "import scipy as sp\n",
    "import pandas as pd\n",
    "import re\n",
    "import csv\n",
    "import json\n",
    "import pprint\n",
    "import json\n",
    "from watson_developer_cloud import NaturalLanguageUnderstandingV1\n",
    "import watson_developer_cloud.natural_language_understanding.features.v1 as Features"
   ]
  },
  {
   "cell_type": "code",
   "execution_count": 3,
   "metadata": {
    "collapsed": true
   },
   "outputs": [],
   "source": [
    "filename = '/home/claire/Documents/jobs/milieu/milieu-opinion-extraction-engine/noumea-sept11.json'\n",
    "with open(filename) as file:\n",
    "    json_file = json.load(file)"
   ]
  },
  {
   "cell_type": "code",
   "execution_count": 4,
   "metadata": {
    "collapsed": true
   },
   "outputs": [],
   "source": [
    "parameters = {\n",
    "  'text': '',\n",
    "  'features': {\n",
    "      'entities': {\n",
    "        'emotion': True,\n",
    "        'sentiment': True,\n",
    "        'limit' : 2\n",
    "      },\n",
    "      'sentiment': {\n",
    "      'document': True\n",
    "      },\n",
    "      'keywords': {\n",
    "        'emotion': True,\n",
    "        'sentiment': True,\n",
    "        'limit': 2\n",
    "      },\n",
    "      \"concepts\": {\n",
    "      \"limit\": 2\n",
    "      }\n",
    "    },\n",
    "    \"language\": \"fr\"\n",
    "}\n"
   ]
  },
  {
   "cell_type": "code",
   "execution_count": 47,
   "metadata": {},
   "outputs": [
    {
     "name": "stdout",
     "output_type": "stream",
     "text": [
      "Analyzing text... il faudra mettre en place un service de sécurité, et que cela ne devienne pas un endroit à clochard. J'espère qu'il y aura des services de restauration pour se restaurer le midi.\n",
      "{'sentiment': {'document': {'score': 0.0, 'label': 'neutral'}}, 'usage': {'text_units': 1, 'features': 4, 'text_characters': 178}, 'entities': [], 'language': 'fr', 'categories': [{'score': 0.624202, 'label': '/technology and computing/computer security/network security'}, {'score': 0.594835, 'label': '/food and drink/beverages/non alcoholic beverages/coffee and tea'}, {'score': 0.328334, 'label': '/technology and computing/computer security'}], 'keywords': []}\n",
      "Analyzing text... j'espère que les gares des bus ne ressembleront pas à celle de montravel\n",
      "{'sentiment': {'document': {'score': 0.0, 'label': 'neutral'}}, 'usage': {'text_units': 1, 'features': 4, 'text_characters': 72}, 'entities': [], 'language': 'fr', 'categories': [{'score': 0.999984, 'label': '/travel/transports/public transport'}, {'score': 0.0038765, 'label': '/automotive and vehicles/cars'}, {'score': 0.00130261, 'label': '/travel/specialty travel/sightseeing tours'}], 'keywords': []}\n",
      "Analyzing text... Idées géniales à condition que le site soit fermé de nuit et surveillé de jour pour éviter que l'endroit devienne un point de rencontre des clochards ou des personnes qui boivent sur la voie publique. \n",
      "{'sentiment': {'document': {'score': 0.0, 'label': 'neutral'}}, 'usage': {'text_units': 1, 'features': 4, 'text_characters': 201}, 'entities': [], 'language': 'fr', 'categories': [{'score': 0.592837, 'label': '/health and fitness/disease/gerd and acid reflux'}, {'score': 0.229156, 'label': '/automotive and vehicles/cars'}, {'score': 0.160852, 'label': '/automotive and vehicles/vehicle brands/toyota'}], 'keywords': [{'text': \"l'endroit devienne\", 'relevance': 0.972037}]}\n",
      "Analyzing text... Très bonnes idées mais je doute que tout ce matériel reste longtemps en l'état, sans dégradations, vols (surtout les éléments mobiles...)\n",
      "{'sentiment': {'document': {'score': 0.0, 'label': 'neutral'}}, 'usage': {'text_units': 1, 'features': 4, 'text_characters': 137}, 'entities': [], 'language': 'fr', 'categories': [{'score': 0.255845, 'label': '/travel/transports/air travel/airlines'}, {'score': 0.234998, 'label': '/technology and computing/consumer electronics/telephones/mobile phones'}, {'score': 0.143455, 'label': '/science/ecology/pollution'}], 'keywords': [{'text': 'Très bonnes idées', 'relevance': 0.966125}]}\n",
      "Analyzing text... pas assez d'espaces verts, et d'espaces jeunesses.\n",
      "{'sentiment': {'document': {'score': 0.0, 'label': 'neutral'}}, 'usage': {'text_units': 1, 'features': 4, 'text_characters': 50}, 'entities': [], 'language': 'fr', 'categories': [{'score': 0.425801, 'label': '/art and entertainment/visual art and design/design/interior design'}, {'score': 0.203436, 'label': '/home and garden/gardening and landscaping/landscaping'}, {'score': 0.193035, 'label': '/food and drink/food and grocery retailers/convenience stores'}], 'keywords': [{'text': \"d'espaces jeunesses\", 'relevance': 0.977061}]}\n",
      "Analyzing text... pourquoi garder tant de \"Compagnie\" de bus ?!  pourquoi ne pas mettre des vélos à dispos à l'entrée su centre ville ? \n",
      "{'sentiment': {'document': {'score': -0.654024, 'label': 'negative'}}, 'usage': {'text_units': 1, 'features': 4, 'text_characters': 118}, 'entities': [{'text': 'centre', 'sentiment': {'score': 0.0}, 'relevance': 0.978347, 'count': 1, 'disambiguation': {'subtype': ['Region']}, 'type': 'Location'}], 'language': 'fr', 'categories': [{'score': 0.707117, 'label': '/automotive and vehicles/bicycles and accessories/mountain bikes'}, {'score': 0.573662, 'label': '/travel/transports/public transport'}, {'score': 0.187906, 'label': '/business and industrial'}], 'keywords': [{'text': 'centre ville', 'relevance': 0.922348}]}\n",
      "Analyzing text... Piscine sur terrasse ? tout public ? gratuit ? \n",
      "{'sentiment': {'document': {'score': 0.0, 'label': 'neutral'}}, 'usage': {'text_units': 1, 'features': 4, 'text_characters': 47}, 'entities': [{'text': 'Piscine', 'relevance': 0.978347, 'sentiment': {'score': 0.72704}, 'type': 'Sport', 'count': 1}], 'language': 'fr', 'categories': [{'score': 0.94908, 'label': '/sports/swimming'}, {'score': 0.158566, 'label': '/home and garden/bed and bath/bathroom'}, {'score': 0.157207, 'label': '/home and garden'}], 'keywords': []}\n",
      "Analyzing text... pas assez d'espaces verts, et d'espaces jeunesses.\n",
      "{'sentiment': {'document': {'score': 0.0, 'label': 'neutral'}}, 'usage': {'text_units': 1, 'features': 4, 'text_characters': 50}, 'entities': [], 'language': 'fr', 'categories': [{'score': 0.425801, 'label': '/art and entertainment/visual art and design/design/interior design'}, {'score': 0.203436, 'label': '/home and garden/gardening and landscaping/landscaping'}, {'score': 0.193035, 'label': '/food and drink/food and grocery retailers/convenience stores'}], 'keywords': [{'text': \"d'espaces jeunesses\", 'relevance': 0.977061}]}\n",
      "Analyzing text... pourquoi garder tant de \"Compagnie\" de bus ?!  pourquoi ne pas mettre des vélos à dispos à l'entrée su centre ville ? \n",
      "{'sentiment': {'document': {'score': -0.654024, 'label': 'negative'}}, 'usage': {'text_units': 1, 'features': 4, 'text_characters': 118}, 'entities': [{'text': 'centre', 'sentiment': {'score': 0.0}, 'relevance': 0.978347, 'count': 1, 'disambiguation': {'subtype': ['Region']}, 'type': 'Location'}], 'language': 'fr', 'categories': [{'score': 0.707117, 'label': '/automotive and vehicles/bicycles and accessories/mountain bikes'}, {'score': 0.573662, 'label': '/travel/transports/public transport'}, {'score': 0.187906, 'label': '/business and industrial'}], 'keywords': [{'text': 'centre ville', 'relevance': 0.922348}]}\n",
      "Analyzing text... Piscine sur terrasse ? tout public ? gratuit ? \n",
      "{'sentiment': {'document': {'score': 0.0, 'label': 'neutral'}}, 'usage': {'text_units': 1, 'features': 4, 'text_characters': 47}, 'entities': [{'text': 'Piscine', 'relevance': 0.978347, 'sentiment': {'score': 0.72704}, 'type': 'Sport', 'count': 1}], 'language': 'fr', 'categories': [{'score': 0.94908, 'label': '/sports/swimming'}, {'score': 0.158566, 'label': '/home and garden/bed and bath/bathroom'}, {'score': 0.157207, 'label': '/home and garden'}], 'keywords': []}\n",
      "Analyzing text... J'imagine bien ce lieu comme un espace à la fois culturel et familial, lieu d'exposition, scène ouverte, quelques cafés, des lieux d'accueil, des espaces verts et potagers, ... \n",
      "{'sentiment': {'document': {'score': 0.0, 'label': 'neutral'}}, 'usage': {'text_units': 1, 'features': 4, 'text_characters': 177}, 'entities': [], 'language': 'fr', 'categories': [{'score': 0.298661, 'label': '/business and industrial'}, {'score': 0.163148, 'label': '/food and drink'}, {'score': 0.159241, 'label': '/art and entertainment'}], 'keywords': [{'text': 'espaces verts', 'relevance': 0.964844}, {'text': 'fois culturel', 'relevance': 0.911033}]}\n",
      "Analyzing text... Un lieu de loisirs et végétalisé si possible pour compenser les rejets de la SLN juste en face (un poumon vert)\n",
      "{'sentiment': {'document': {'score': 0.0, 'label': 'neutral'}}, 'usage': {'text_units': 1, 'features': 4, 'text_characters': 111}, 'entities': [], 'language': 'fr', 'categories': [{'score': 0.442743, 'label': '/home and garden/home improvement and repair/roofing'}, {'score': 0.403878, 'label': '/science/medicine/surgery/transplants'}, {'score': 0.220521, 'label': '/business and industrial/green solutions'}], 'keywords': [{'text': 'un poumon vert', 'relevance': 0.930719}, {'text': 'SLN juste', 'relevance': 0.781994}]}\n",
      "Analyzing text... Eviter la folie des grandeurs ... Je trouve de trop les quais flottants et la piscine sur terrasse (et pas très écolo me semble t-il).  \n",
      "{'sentiment': {'document': {'score': 0.0, 'label': 'neutral'}}, 'usage': {'text_units': 1, 'features': 4, 'text_characters': 136}, 'entities': [{'text': 'piscine', 'relevance': 0.978347, 'sentiment': {'score': 0.398833}, 'type': 'Sport', 'count': 1}], 'language': 'fr', 'categories': [{'score': 0.550609, 'label': '/society/unrest and war'}, {'score': 0.442349, 'label': '/sports/basketball'}, {'score': 0.388217, 'label': '/automotive and vehicles/boats and watercraft'}], 'keywords': [{'text': 'quais flottants', 'relevance': 0.940844}]}\n",
      "Analyzing text... J'imagine bien ce lieu comme un espace à la fois culturel et familial, lieu d'exposition, scène ouverte, quelques cafés, des lieux d'accueil, des espaces verts et potagers, ... \n"
     ]
    },
    {
     "name": "stdout",
     "output_type": "stream",
     "text": [
      "{'sentiment': {'document': {'score': 0.0, 'label': 'neutral'}}, 'usage': {'text_units': 1, 'features': 4, 'text_characters': 177}, 'entities': [], 'language': 'fr', 'categories': [{'score': 0.298661, 'label': '/business and industrial'}, {'score': 0.163148, 'label': '/food and drink'}, {'score': 0.159241, 'label': '/art and entertainment'}], 'keywords': [{'text': 'espaces verts', 'relevance': 0.964844}, {'text': 'fois culturel', 'relevance': 0.911033}]}\n",
      "Analyzing text... Un lieu de loisirs et végétalisé si possible pour compenser les rejets de la SLN juste en face (un poumon vert)\n",
      "{'sentiment': {'document': {'score': 0.0, 'label': 'neutral'}}, 'usage': {'text_units': 1, 'features': 4, 'text_characters': 111}, 'entities': [], 'language': 'fr', 'categories': [{'score': 0.442743, 'label': '/home and garden/home improvement and repair/roofing'}, {'score': 0.403878, 'label': '/science/medicine/surgery/transplants'}, {'score': 0.220521, 'label': '/business and industrial/green solutions'}], 'keywords': [{'text': 'un poumon vert', 'relevance': 0.930719}, {'text': 'SLN juste', 'relevance': 0.781994}]}\n",
      "Analyzing text... Eviter la folie des grandeurs ... Je trouve de trop les quais flottants et la piscine sur terrasse (et pas très écolo me semble t-il).  \n",
      "{'sentiment': {'document': {'score': 0.0, 'label': 'neutral'}}, 'usage': {'text_units': 1, 'features': 4, 'text_characters': 136}, 'entities': [{'text': 'piscine', 'relevance': 0.978347, 'sentiment': {'score': 0.398833}, 'type': 'Sport', 'count': 1}], 'language': 'fr', 'categories': [{'score': 0.550609, 'label': '/society/unrest and war'}, {'score': 0.442349, 'label': '/sports/basketball'}, {'score': 0.388217, 'label': '/automotive and vehicles/boats and watercraft'}], 'keywords': [{'text': 'quais flottants', 'relevance': 0.940844}]}\n",
      "Analyzing text... Une destruction complète de l'asphalte et création d'un grand jardin.\n",
      "{'sentiment': {'document': {'score': 0.0, 'label': 'neutral'}}, 'usage': {'text_units': 1, 'features': 4, 'text_characters': 69}, 'entities': [], 'language': 'fr', 'categories': [{'score': 0.992798, 'label': '/home and garden'}, {'score': 0.111433, 'label': '/home and garden/home improvement and repair/roofing'}, {'score': 0.0060177, 'label': '/art and entertainment/visual art and design/design'}], 'keywords': [{'text': 'Une destruction complète', 'relevance': 0.971349}]}\n",
      "Analyzing text... Construction en hauteur (tour de +100M telle que pacific plaza)\n",
      "{'sentiment': {'document': {'score': 0.0, 'label': 'neutral'}}, 'usage': {'text_units': 1, 'features': 4, 'text_characters': 63}, 'entities': [], 'language': 'fr', 'categories': [{'score': 0.901807, 'label': '/business and industrial/construction'}, {'score': 0.120559, 'label': '/sports/olympics'}, {'score': 0.101416, 'label': '/home and garden'}], 'keywords': [{'text': 'pacific plaza', 'relevance': 0.979418}]}\n",
      "Analyzing text... Une destruction complète de l'asphalte et création d'un grand jardin.\n",
      "{'sentiment': {'document': {'score': 0.0, 'label': 'neutral'}}, 'usage': {'text_units': 1, 'features': 4, 'text_characters': 69}, 'entities': [], 'language': 'fr', 'categories': [{'score': 0.992798, 'label': '/home and garden'}, {'score': 0.111433, 'label': '/home and garden/home improvement and repair/roofing'}, {'score': 0.0060177, 'label': '/art and entertainment/visual art and design/design'}], 'keywords': [{'text': 'Une destruction complète', 'relevance': 0.971349}]}\n",
      "Analyzing text... Construction en hauteur (tour de +100M telle que pacific plaza)\n",
      "{'sentiment': {'document': {'score': 0.0, 'label': 'neutral'}}, 'usage': {'text_units': 1, 'features': 4, 'text_characters': 63}, 'entities': [], 'language': 'fr', 'categories': [{'score': 0.901807, 'label': '/business and industrial/construction'}, {'score': 0.120559, 'label': '/sports/olympics'}, {'score': 0.101416, 'label': '/home and garden'}], 'keywords': [{'text': 'pacific plaza', 'relevance': 0.979418}]}\n",
      "Analyzing text... Excellent de réutiliser l'ancien Hopital \n",
      "{'sentiment': {'document': {'score': 0.0, 'label': 'neutral'}}, 'usage': {'text_units': 1, 'features': 4, 'text_characters': 41}, 'entities': [], 'language': 'fr', 'categories': [{'score': 0.964002, 'label': '/society/welfare/healthcare/hospital'}, {'score': 0.262396, 'label': '/science/ecology/waste management/recycling'}, {'score': 0.0060958, 'label': '/technology and computing'}], 'keywords': [{'text': \"l'ancien hopital\", 'relevance': 0.986366}]}\n",
      "Analyzing text... Multiplication des espaces verts sur tout le site c'est très bien par contre le skate parc c'est moyen\n",
      "{'sentiment': {'document': {'score': 0.588897, 'label': 'positive'}}, 'usage': {'text_units': 1, 'features': 4, 'text_characters': 102}, 'entities': [], 'language': 'fr', 'categories': [{'score': 0.232206, 'label': '/travel/tourist destinations/national parks'}, {'score': 0.177048, 'label': '/sports/skateboarding'}, {'score': 0.133089, 'label': '/science/mathematics/algebra'}], 'keywords': [{'text': \"skate parc c'est\", 'relevance': 0.94579}, {'text': 'espaces verts', 'relevance': 0.822962}]}\n",
      "Analyzing text... Plus de voie piétonne et vélo pour peu à peu réduire le nombre de voiture dans la ville\n",
      "{'sentiment': {'document': {'score': 0.0, 'label': 'neutral'}}, 'usage': {'text_units': 1, 'features': 4, 'text_characters': 87}, 'entities': [], 'language': 'fr', 'categories': [{'score': 0.984418, 'label': '/automotive and vehicles/cars'}, {'score': 0.106054, 'label': '/sports/bicycling/mountain biking'}, {'score': 0.0356653, 'label': '/automotive and vehicles/electric vehicles'}], 'keywords': []}\n",
      "Analyzing text... Zone sport urbain: j'aurais préféré un parc pour les plus petits avec balançoire toboggan escalade.... afin que ça devienne aussi familial \n",
      "{'sentiment': {'document': {'score': 0.0, 'label': 'neutral'}}, 'usage': {'text_units': 1, 'features': 4, 'text_characters': 139}, 'entities': [], 'language': 'fr', 'categories': [{'score': 0.185755, 'label': '/sports/golf'}, {'score': 0.180777, 'label': '/sports'}, {'score': 0.128003, 'label': '/family and parenting/children'}], 'keywords': [{'text': 'Zone sport urbain', 'relevance': 0.927722}]}\n",
      "Analyzing text... Permettre de pouvoir continuer de se garé \n",
      "{'sentiment': {'document': {'score': 0.0, 'label': 'neutral'}}, 'usage': {'text_units': 1, 'features': 4, 'text_characters': 42}, 'entities': [], 'language': 'fr', 'categories': [{'score': 0.836688, 'label': '/business and industrial/energy/oil/oil and gas prices'}, {'score': 0.149262, 'label': '/business and industrial/energy/natural gas'}, {'score': 0.107988, 'label': '/society/work/unemployment'}], 'keywords': []}\n",
      "Analyzing text... Tout ce qui est mobiles va être détruit ou volé.  Les hamacs pareil. \n",
      "{'sentiment': {'document': {'score': -0.321025, 'label': 'negative'}}, 'usage': {'text_units': 1, 'features': 4, 'text_characters': 69}, 'entities': [], 'language': 'fr', 'categories': [{'score': 0.707104, 'label': '/technology and computing/consumer electronics/telephones/mobile phones'}, {'score': 0.707089, 'label': '/home and garden/home furnishings/sofas and chairs'}, {'score': 0.00477849, 'label': '/home and garden'}], 'keywords': [{'text': 'Les hamacs pareil', 'relevance': 0.973864}]}\n",
      "Analyzing text... les voies piétonnes si elles sont à hauteur de la circulation ne risquent-elles pas de ralentir la circulation déjà difficile à certaines heures\n",
      "{'sentiment': {'document': {'score': 0.0, 'label': 'neutral'}}, 'usage': {'text_units': 1, 'features': 4, 'text_characters': 144}, 'entities': [], 'language': 'fr', 'categories': [{'score': 0.755058, 'label': '/law, govt and politics/legal issues/civil rights'}, {'score': 0.571519, 'label': '/food and drink/gastronomy/slow food'}, {'score': 0.183452, 'label': '/sports/walking'}], 'keywords': [{'text': 'voies piétonnes', 'relevance': 0.981843}]}\n",
      "Analyzing text... je ne vis pas l'intérêt de la piscine sur terrasse \n",
      "{'sentiment': {'document': {'score': 0.0, 'label': 'neutral'}}, 'usage': {'text_units': 1, 'features': 4, 'text_characters': 51}, 'entities': [{'text': 'piscine', 'relevance': 0.978347, 'sentiment': {'score': 0.0}, 'type': 'Sport', 'count': 1}], 'language': 'fr', 'categories': [{'score': 0.168632, 'label': '/home and garden'}, {'score': 0.156647, 'label': '/sports/swimming'}, {'score': 0.151412, 'label': '/food and drink/beverages/alcoholic beverages/cocktails and beer'}], 'keywords': []}\n",
      "Analyzing text... Plan difficile à comprendre, manque des légendes. Aussi,déplacement de la voie express faisable??\n"
     ]
    },
    {
     "name": "stdout",
     "output_type": "stream",
     "text": [
      "{'sentiment': {'document': {'score': 0.668898, 'label': 'positive'}}, 'usage': {'text_units': 1, 'features': 4, 'text_characters': 97}, 'entities': [], 'language': 'fr', 'categories': [{'score': 0.419379, 'label': '/automotive and vehicles/vehicle rental'}, {'score': 0.201109, 'label': '/art and entertainment/books and literature/mythology'}, {'score': 0.160664, 'label': '/business and industrial'}], 'keywords': [{'text': 'voie express faisable', 'relevance': 0.965612}]}\n",
      "Analyzing text... Manque emplacement toilettes publique. Très beau projet d'aménagement mais quel sera le coût de tout cela?\n",
      "{'sentiment': {'document': {'score': 0.687571, 'label': 'positive'}}, 'usage': {'text_units': 1, 'features': 4, 'text_characters': 106}, 'entities': [], 'language': 'fr', 'categories': [{'score': 0.707111, 'label': '/business and industrial/business operations/management/project management'}, {'score': 0.474678, 'label': '/home and garden/bed and bath/bathroom'}, {'score': 0.133704, 'label': '/home and garden/bed and bath/bedroom'}], 'keywords': [{'text': 'Très beau projet', 'relevance': 0.925534}]}\n",
      "Analyzing text... Pour l'accès des véhicules à la ville et la connexion avec les quartiers sud, il faudrait aménager une voie de contournement du centre comme prévu auparavant en passant de la vallée du tir jusqu'à la route stratégique et ainsi diminuer le trafic entrant\n",
      "{'sentiment': {'document': {'score': 0.0, 'label': 'neutral'}}, 'usage': {'text_units': 1, 'features': 4, 'text_characters': 253}, 'entities': [{'text': 'sud', 'sentiment': {'score': 0.0}, 'relevance': 0.963296, 'count': 1, 'disambiguation': {'subtype': ['Region']}, 'type': 'Location'}, {'text': 'centre', 'sentiment': {'score': 0.0}, 'relevance': 0.727882, 'count': 1, 'disambiguation': {'subtype': ['Region']}, 'type': 'Location'}], 'language': 'fr', 'categories': [{'score': 0.165279, 'label': '/technology and computing/networking/vpn and remote access'}, {'score': 0.156035, 'label': '/technology and computing'}, {'score': 0.14474, 'label': '/automotive and vehicles/cars'}], 'keywords': [{'text': 'quartiers sud', 'relevance': 0.980973}]}\n",
      "Analyzing text... Quelle proportion et type de commerce propose\n",
      "\n",
      "\n",
      "{'sentiment': {'document': {'score': 0.651636, 'label': 'positive'}}, 'usage': {'text_units': 1, 'features': 4, 'text_characters': 47}, 'entities': [], 'language': 'fr', 'categories': [{'score': 0.855342, 'label': '/health and fitness/disease/diabetes'}, {'score': 0.21346, 'label': '/health and fitness/disease/epidemic'}, {'score': 0.0961531, 'label': '/science/mathematics/geometry'}], 'keywords': []}\n",
      "Analyzing text... Le lieu doit être sécurisé par 1 présence forte toute la journée \n",
      "{'sentiment': {'document': {'score': 0.0, 'label': 'neutral'}}, 'usage': {'text_units': 1, 'features': 4, 'text_characters': 65}, 'entities': [], 'language': 'fr', 'categories': [{'score': 0.874114, 'label': '/real estate'}, {'score': 0.214742, 'label': '/business and industrial/company/merger and acquisition'}, {'score': 0.155919, 'label': '/finance/personal finance/lending/credit cards'}], 'keywords': [{'text': 'présence forte', 'relevance': 0.953135}]}\n",
      "Analyzing text... N'oubliez pas les handicapés qui doivent pouvoir circuler partout sans encombre y compris des places de parking dédiés.\n",
      "Quand il pleut peu d'endroits dans Nouméa pour se promener, un grand espace protégé de la pluie serait appréciable dans l'ensemble de votre projet.\n",
      "{'sentiment': {'document': {'score': 0.0, 'label': 'neutral'}}, 'usage': {'text_units': 1, 'features': 4, 'text_characters': 267}, 'entities': [{'text': 'Nouméa', 'sentiment': {'score': 0.0}, 'relevance': 0.978347, 'count': 1, 'disambiguation': {'subtype': ['City']}, 'type': 'Location'}], 'language': 'fr', 'categories': [{'score': 0.424936, 'label': '/law, govt and politics/law enforcement/police'}, {'score': 0.414224, 'label': '/science/weather'}, {'score': 0.10278, 'label': '/travel/transports/air travel/airports'}], 'keywords': [{'text': 'parking dédiés', 'relevance': 0.986668}]}\n",
      "Analyzing text... Pensez aux personnes handicapées, aux anciens, aux familles avec poussettes.\n",
      "{'sentiment': {'document': {'score': 0.0, 'label': 'neutral'}}, 'usage': {'text_units': 1, 'features': 4, 'text_characters': 76}, 'entities': [], 'language': 'fr', 'categories': [{'score': 0.969299, 'label': '/family and parenting'}, {'score': 0.0909568, 'label': '/sports/running and jogging'}, {'score': 0.0752613, 'label': '/family and parenting/children'}], 'keywords': []}\n",
      "Analyzing text... J'insiste, pensez aux handicapés qui n'ont pas d'endroits vraiment adaptés pour leurs loisirs, un espace dédié pour eux n'est pas prévu dans votre projet c'est dommage, les handicapés n'ont pas d'espace de loisir comme un espace spécifique sensoriel, une piscine couverte adaptée, un espace ornithologique pour découvrir les oiseaux de Nouvelle-Calédonie.\n",
      "{'sentiment': {'document': {'score': 0.0, 'label': 'neutral'}}, 'usage': {'text_units': 1, 'features': 4, 'text_characters': 355}, 'entities': [{'text': 'piscine', 'relevance': 0.963296, 'sentiment': {'score': 0.0}, 'type': 'Sport', 'count': 1}, {'text': 'Nouvelle-Calédonie', 'sentiment': {'score': 0.320866}, 'relevance': 0.28914, 'count': 1, 'disambiguation': {'subtype': ['Country']}, 'type': 'Location'}], 'language': 'fr', 'categories': [{'score': 0.21784, 'label': '/business and industrial/aerospace and defense/space technology'}, {'score': 0.166517, 'label': '/art and entertainment/visual art and design/design'}, {'score': 0.15973, 'label': '/home and garden'}], 'keywords': [{'text': 'espace spécifique sensoriel', 'relevance': 0.995989}, {'text': \"projet c'est dommage\", 'relevance': 0.832301}]}\n",
      "Analyzing text... Un espace dédié aux handicapés n'est pas prévu c'est vraiment regrettable, avec stimulation sensoriel, espace musical, de repos, de loisirs.\n",
      "{'sentiment': {'document': {'score': 0.0, 'label': 'neutral'}}, 'usage': {'text_units': 1, 'features': 4, 'text_characters': 140}, 'entities': [], 'language': 'fr', 'categories': [{'score': 0.125428, 'label': '/health and fitness/disease/epilepsy'}, {'score': 0.123635, 'label': '/health and fitness/disorders'}, {'score': 0.11543, 'label': '/art and entertainment/music'}], 'keywords': [{'text': 'espace musical', 'relevance': 0.906958}, {'text': 'stimulation sensoriel', 'relevance': 0.900927}]}\n",
      "Analyzing text... Manque de visibilité pour les commerces envisagés ( enclavement, proximité de friches artistiques= future zone délaissée par le public si aucune exposition ne voit le jour)\n",
      "RDC CHT: cette zone devrait regrouper des cafés et commerces afin de profiter pleinement des jardins envisagés et du front de mer= zone de rencontre potentielle)\n",
      "L'intégralité des bâtiments sur le front de mer devraient être réhabilité pour éviter d'avoir une zone de chantier en entrée de site.\n",
      "Les cafés sur l'arrière des bâtiments ne présentent pas d'espaces pour installer de larges terrasses, pas de zones de rencontre, ni d'espaces verts pour les familles à proximité directe.\n",
      "\n",
      "{'sentiment': {'document': {'score': 0.512233, 'label': 'positive'}}, 'usage': {'text_units': 1, 'features': 4, 'text_characters': 656}, 'entities': [{'text': 'RDC', 'sentiment': {'score': 0.0}, 'relevance': 0.978347, 'count': 1, 'disambiguation': {'subtype': ['Country']}, 'type': 'Location'}], 'language': 'fr', 'categories': [{'score': 0.17395, 'label': '/family and parenting'}, {'score': 0.150507, 'label': '/home and garden'}, {'score': 0.0987788, 'label': '/home and garden/bed and bath/bathroom'}], 'keywords': [{'text': 'artistiques= future zone', 'relevance': 0.908229}, {'text': 'commerces envisagés', 'relevance': 0.803379}]}\n",
      "Analyzing text... Trop d'usages différents pour un même espace. Sensation \"fourre tout\": ligne directrice difficile à comprendre.\n",
      "{'sentiment': {'document': {'score': 0.0, 'label': 'neutral'}}, 'usage': {'text_units': 1, 'features': 4, 'text_characters': 111}, 'entities': [], 'language': 'fr', 'categories': [{'score': 0.668893, 'label': '/business and industrial/aerospace and defense/space technology'}, {'score': 0.622425, 'label': '/hobbies and interests/needlework'}, {'score': 0.239125, 'label': '/shopping/resources/contests and freebies'}], 'keywords': [{'text': 'directrice difficile', 'relevance': 0.931615}]}\n",
      "Analyzing text... Manque de visibilité pour les commerces envisagés ( enclavement, proximité de friches artistiques= future zone délaissée par le public si aucune exposition ne voit le jour)\n",
      "RDC CHT: cette zone devrait regrouper des cafés et commerces afin de profiter pleinement des jardins envisagés et du front de mer= zone de rencontre potentielle)\n",
      "L'intégralité des bâtiments sur le front de mer devraient être réhabilité pour éviter d'avoir une zone de chantier en entrée de site.\n",
      "Les cafés sur l'arrière des bâtiments ne présentent pas d'espaces pour installer de larges terrasses, pas de zones de rencontre, ni d'espaces verts pour les familles à proximité directe.\n",
      "\n"
     ]
    },
    {
     "name": "stdout",
     "output_type": "stream",
     "text": [
      "{'sentiment': {'document': {'score': 0.512233, 'label': 'positive'}}, 'usage': {'text_units': 1, 'features': 4, 'text_characters': 656}, 'entities': [{'text': 'RDC', 'sentiment': {'score': 0.0}, 'relevance': 0.978347, 'count': 1, 'disambiguation': {'subtype': ['Country']}, 'type': 'Location'}], 'language': 'fr', 'categories': [{'score': 0.17395, 'label': '/family and parenting'}, {'score': 0.150507, 'label': '/home and garden'}, {'score': 0.0987788, 'label': '/home and garden/bed and bath/bathroom'}], 'keywords': [{'text': 'artistiques= future zone', 'relevance': 0.908229}, {'text': 'commerces envisagés', 'relevance': 0.803379}]}\n",
      "Analyzing text... Trop d'usages différents pour un même espace. Sensation \"fourre tout\": ligne directrice difficile à comprendre.\n",
      "{'sentiment': {'document': {'score': 0.0, 'label': 'neutral'}}, 'usage': {'text_units': 1, 'features': 4, 'text_characters': 111}, 'entities': [], 'language': 'fr', 'categories': [{'score': 0.668893, 'label': '/business and industrial/aerospace and defense/space technology'}, {'score': 0.622425, 'label': '/hobbies and interests/needlework'}, {'score': 0.239124, 'label': '/shopping/resources/contests and freebies'}], 'keywords': [{'text': 'directrice difficile', 'relevance': 0.931615}]}\n",
      "Analyzing text... Les manèges de port Moselle pourraient être installés ici.\n",
      "Plus agréable pour les enfants et plus sécurisé.\n",
      "{'sentiment': {'document': {'score': 0.506808, 'label': 'positive'}}, 'usage': {'text_units': 1, 'features': 4, 'text_characters': 107}, 'entities': [], 'language': 'fr', 'categories': [{'score': 0.706658, 'label': '/family and parenting/children'}, {'score': 0.368912, 'label': '/travel/specialty travel/vineyards'}, {'score': 0.116174, 'label': '/technology and computing/internet technology/email'}], 'keywords': [{'text': 'port moselle', 'relevance': 0.994321}]}\n",
      "Analyzing text... Il me semble que la piscine et à la place de la STEP.  On la déplace (ça va couter cher) ou on construit dessus ?\n",
      "{'sentiment': {'document': {'score': 0.0, 'label': 'neutral'}}, 'usage': {'text_units': 1, 'features': 4, 'text_characters': 113}, 'entities': [{'text': 'piscine', 'relevance': 0.978347, 'sentiment': {'score': 0.0}, 'type': 'Sport', 'count': 1}], 'language': 'fr', 'categories': [{'score': 0.358014, 'label': '/sports/swimming'}, {'score': 0.297276, 'label': '/style and fashion/swimwear/bikinis'}, {'score': 0.252514, 'label': '/art and entertainment/dance/pole dancing'}], 'keywords': []}\n",
      "Analyzing text... Le gouvernement pourrait s'installer là\n",
      "{'sentiment': {'document': {'score': 0.0, 'label': 'neutral'}}, 'usage': {'text_units': 1, 'features': 4, 'text_characters': 39}, 'entities': [{'text': 'gouvernement', 'relevance': 0.978347, 'sentiment': {'score': 0.0}, 'type': 'Organization', 'count': 1}], 'language': 'fr', 'categories': [{'score': 0.990782, 'label': '/law, govt and politics/government'}, {'score': 0.0345717, 'label': '/technology and computing/operating systems'}, {'score': 0.0154851, 'label': '/law, govt and politics/legal issues/legislation'}], 'keywords': [{'text': 'Le gouvernement', 'relevance': 0.979619}]}\n",
      "Analyzing text... Où se trouveront les parkings pour ces nouveaux occupants et visiteurs ?\n",
      "{'sentiment': {'document': {'score': 0.706804, 'label': 'positive'}}, 'usage': {'text_units': 1, 'features': 4, 'text_characters': 72}, 'entities': [], 'language': 'fr', 'categories': [{'score': 0.338292, 'label': '/home and garden/bed and bath/bathroom'}, {'score': 0.272667, 'label': '/travel/transports/air travel/airports'}, {'score': 0.186487, 'label': '/travel/transports/public transport'}], 'keywords': [{'text': 'nouveaux occupants', 'relevance': 0.978817}]}\n",
      "Analyzing text... Réponse à ma question de la page précédente concernant les parkings.\n",
      "{'sentiment': {'document': {'score': 0.0, 'label': 'neutral'}}, 'usage': {'text_units': 1, 'features': 4, 'text_characters': 68}, 'entities': [], 'language': 'fr', 'categories': [{'score': 0.269692, 'label': '/home and garden/laundry'}, {'score': 0.198655, 'label': '/automotive and vehicles/cars'}, {'score': 0.166369, 'label': '/business and industrial/company/annual report'}], 'keywords': [{'text': 'page précédente', 'relevance': 0.973952}]}\n",
      "Analyzing text... Pas assez d'espaces verts , où sont prévus les parking pour ces nouvelles activités proposées ? \n",
      "certains batiments \" moches \" mériteraient d'être démolis \n",
      "{'sentiment': {'document': {'score': 0.0, 'label': 'neutral'}}, 'usage': {'text_units': 1, 'features': 4, 'text_characters': 155}, 'entities': [{'text': 'nouvelles', 'relevance': 0.978347, 'sentiment': {'score': 0.0}, 'type': 'TelevisionShow', 'count': 1}], 'language': 'fr', 'categories': [{'score': 0.172705, 'label': '/home and garden/bed and bath/bedroom/bedding and bed linens'}, {'score': 0.128319, 'label': '/home and garden/gardening and landscaping/landscaping'}, {'score': 0.0981164, 'label': '/home and garden'}], 'keywords': [{'text': 'nouvelles activités proposées', 'relevance': 0.962914}]}\n",
      "Analyzing text... tant que le néobus et les travaux d'assainissement du centre ville ne sont pas terminés, le parking du CHT doit rester un parking d'entrée de ville , incitant les automobilistes à laisser leur voiture ici plutôt que d'entrer en ville \n",
      "{'sentiment': {'document': {'score': 0.0, 'label': 'neutral'}}, 'usage': {'text_units': 1, 'features': 4, 'text_characters': 234}, 'entities': [{'text': 'centre', 'sentiment': {'score': 0.0}, 'relevance': 0.978347, 'count': 1, 'disambiguation': {'subtype': ['Region']}, 'type': 'Location'}], 'language': 'fr', 'categories': [{'score': 0.210483, 'label': '/travel/tourist facilities/hotel'}, {'score': 0.127578, 'label': '/shopping'}, {'score': 0.113777, 'label': '/travel/hotels'}], 'keywords': [{'text': 'centre ville', 'relevance': 0.961975}]}\n",
      "Analyzing text... proposition trop complexe pour pouvoir se projeter dans la globalité . Attention les passerelles n'ont jamais été très populaires et sont souvent délaissées ,d'autant que celle ci devrait être haute pour laisser passer les véhicules élevés . Le calédonien n'aime pas les escaliers ....\n",
      "{'sentiment': {'document': {'score': 0.0, 'label': 'neutral'}}, 'usage': {'text_units': 1, 'features': 4, 'text_characters': 285}, 'entities': [], 'language': 'fr', 'categories': [{'score': 0.661164, 'label': '/travel/tourist facilities/hotel'}, {'score': 0.268951, 'label': '/technology and computing/software'}, {'score': 0.252424, 'label': '/society'}], 'keywords': [{'text': 'véhicules élevés', 'relevance': 0.927805}]}\n",
      "Analyzing text... le projet est ambitieux , par conséquent couteux , tout ça pour avoir  la SLN d'un coté , la voie express de l'autre .... et les fumées polluantes  des bateaux de croisières , non merci ! \n",
      "{'sentiment': {'document': {'score': 0.783119, 'label': 'positive'}}, 'usage': {'text_units': 1, 'features': 4, 'text_characters': 188}, 'entities': [], 'language': 'fr', 'categories': [{'score': 0.69413, 'label': '/travel/transports/sea travel/cruises'}, {'score': 0.287204, 'label': '/science/ecology/pollution'}, {'score': 0.223135, 'label': '/business and industrial/energy/coal'}], 'keywords': [{'text': 'fumées polluantes', 'relevance': 0.967087}, {'text': 'conséquent couteux', 'relevance': 0.913231}]}\n",
      "Analyzing text... projet très ambitieux , coût ? en a t on les moyens ? ne faudrait il pas se focaliser sur la ville , batiments insalubres , tag , .... commençons par le commencement logique \n",
      "{'sentiment': {'document': {'score': 0.0, 'label': 'neutral'}}, 'usage': {'text_units': 1, 'features': 4, 'text_characters': 174}, 'entities': [], 'language': 'fr', 'categories': [{'score': 0.707406, 'label': '/business and industrial/business operations/management/project management'}, {'score': 0.180647, 'label': '/hobbies and interests/games/board games and puzzles'}, {'score': 0.148841, 'label': '/food and drink/food/fast food'}], 'keywords': [{'text': 'batiments insalubres', 'relevance': 0.967089}]}\n",
      "Analyzing text... Problème des espaces ouverts au public est la dégradation continu et vandalisme\n",
      "{'sentiment': {'document': {'score': 0.0, 'label': 'neutral'}}, 'usage': {'text_units': 1, 'features': 4, 'text_characters': 79}, 'entities': [], 'language': 'fr', 'categories': [{'score': 0.25972, 'label': '/science/ecology/pollution'}, {'score': 0.202241, 'label': '/society/crime/property crime/larceny'}, {'score': 0.143807, 'label': '/society/crime'}], 'keywords': [{'text': 'dégradation continu', 'relevance': 0.952496}]}\n",
      "Analyzing text... Un parc avec des points d'eau (trempage des pieds) des jardins de couleurs (fleurs) des jardins de senteurs et des jeux éducatifs pour les enfants. mais surtout des barrières et de l'éclairage pour éviter les dégradations....des bancs; de la musique en diffusion continue, des oiseaux...bref un lieu de détente et de vie \n",
      "\n"
     ]
    },
    {
     "name": "stdout",
     "output_type": "stream",
     "text": [
      "{'sentiment': {'document': {'score': 0.0, 'label': 'neutral'}}, 'usage': {'text_units': 1, 'features': 4, 'text_characters': 322}, 'entities': [], 'language': 'fr', 'categories': [{'score': 0.280392, 'label': '/family and parenting/children'}, {'score': 0.164997, 'label': '/home and garden'}, {'score': 0.129546, 'label': '/food and drink/food/grains and pasta'}], 'keywords': [{'text': 'Un parc', 'relevance': 0.90561}, {'text': 'dégradations....des bancs', 'relevance': 0.905603}]}\n",
      "Analyzing text... pas de goudrons....nature nature et nature\n",
      "{'sentiment': {'document': {'score': 0.0, 'label': 'neutral'}}, 'usage': {'text_units': 1, 'features': 4, 'text_characters': 42}, 'entities': [], 'language': 'fr', 'categories': [], 'keywords': [{'text': 'goudrons....nature nature', 'relevance': 0.966712}]}\n",
      "Analyzing text... pas de voiture, de vélo.\n",
      "Un endroit pour les piétons, les enfants et les poussettes.\n",
      "{'sentiment': {'document': {'score': 0.0, 'label': 'neutral'}}, 'usage': {'text_units': 1, 'features': 4, 'text_characters': 84}, 'entities': [], 'language': 'fr', 'categories': [{'score': 0.707105, 'label': '/sports/bicycling/mountain biking'}, {'score': 0.683749, 'label': '/family and parenting/children'}, {'score': 0.161368, 'label': '/automotive and vehicles/bicycles and accessories'}], 'keywords': [{'text': 'Un endroit', 'relevance': 0.99943}]}\n",
      "Analyzing text... Les zones 8 et 9 devraient être interverties, peut-être...\n",
      "{'sentiment': {'document': {'score': 0.0, 'label': 'neutral'}}, 'usage': {'text_units': 1, 'features': 4, 'text_characters': 58}, 'entities': [], 'language': 'fr', 'categories': [{'score': 0.905965, 'label': '/law, govt and politics'}, {'score': 0.423342, 'label': '/law, govt and politics/government'}, {'score': 0.000134875, 'label': '/shopping/gifts/flowers'}], 'keywords': [{'text': 'Les zones', 'relevance': 0.974784}]}\n",
      "Analyzing text... Manque de voies piétonnes en bas à droite de votre plan\n",
      "{'sentiment': {'document': {'score': 0.0, 'label': 'neutral'}}, 'usage': {'text_units': 1, 'features': 4, 'text_characters': 55}, 'entities': [], 'language': 'fr', 'categories': [{'score': 0.759992, 'label': '/home and garden/gardening and landscaping/landscaping'}, {'score': 0.535069, 'label': '/sports/walking'}, {'score': 0.189559, 'label': '/travel/tourist destinations/national parks'}], 'keywords': [{'text': 'voies piétonnes', 'relevance': 0.986951}]}\n",
      "Analyzing text... 1 passerelle piéton traversant la voie express est une excellente idée.  \n",
      "Ce type d'aménagement serait également utile pour relier les voies cyclables qui longe la voie express vers celle du quai ferry afin d'éviter les traversées des 2 axes très passants à l'entrée de la presqu'île de Nouville. Il y a plusieurs solutions pour cela.\n",
      "{'sentiment': {'document': {'score': 0.0, 'label': 'neutral'}}, 'usage': {'text_units': 1, 'features': 4, 'text_characters': 334}, 'entities': [{'text': 'traversées', 'relevance': 0.963296, 'sentiment': {'score': 0.0}, 'type': 'GeographicFeature', 'count': 1}, {'text': 'Nouville', 'sentiment': {'score': 0.0}, 'relevance': 0.456536, 'count': 1, 'disambiguation': {'subtype': ['City']}, 'type': 'Location'}], 'language': 'fr', 'categories': [{'score': 0.703591, 'label': '/technology and computing/software'}, {'score': 0.391129, 'label': '/automotive and vehicles/cars'}, {'score': 0.385642, 'label': '/technology and computing/networking/vpn and remote access'}], 'keywords': [{'text': 'voie express', 'relevance': 0.993779}, {'text': 'excellente idée', 'relevance': 0.776788}]}\n",
      "Analyzing text... il serait intéressant d'avoir des zones à l'ombre où la population et particulièrement les jeunes puissent se réunir l'été , tout en étant occupés. C'est pourquoi je préfère le développement d'espaces artistiques et autres. \n",
      "{'sentiment': {'document': {'score': 0.0, 'label': 'neutral'}}, 'usage': {'text_units': 1, 'features': 4, 'text_characters': 224}, 'entities': [], 'language': 'fr', 'categories': [{'score': 0.580436, 'label': '/home and garden'}, {'score': 0.293415, 'label': '/art and entertainment/visual art and design/design/interior design'}, {'score': 0.191272, 'label': '/art and entertainment/visual art and design'}], 'keywords': [{'text': \"développement d'espaces artistiques\", 'relevance': 0.962806}]}\n",
      "Analyzing text... pensez aux enfants et n'oubliez pas l'ombre, un parc botanique comme le receiving sans assez de jeux pour les enfants et sans ombre ne serait pas nouveau\n",
      "{'sentiment': {'document': {'score': 0.0, 'label': 'neutral'}}, 'usage': {'text_units': 1, 'features': 4, 'text_characters': 153}, 'entities': [], 'language': 'fr', 'categories': [{'score': 0.993112, 'label': '/family and parenting/children'}, {'score': 0.0562661, 'label': '/travel/tourist destinations/national parks'}, {'score': 0.0325234, 'label': '/home and garden'}], 'keywords': [{'text': 'parc botanique', 'relevance': 0.994627}]}\n",
      "Analyzing text... encore des bureaux et des commerces, il y a des études de faites sur le besoin de ce genre d'espaces ?\n",
      "grands nombres de locaux sont actuellement libres dans Nouméa\n",
      "{'sentiment': {'document': {'score': 0.621561, 'label': 'positive'}}, 'usage': {'text_units': 1, 'features': 4, 'text_characters': 164}, 'entities': [{'text': 'Nouméa', 'sentiment': {'score': 0.0}, 'relevance': 0.978347, 'count': 1, 'disambiguation': {'subtype': ['City']}, 'type': 'Location'}], 'language': 'fr', 'categories': [{'score': 0.511319, 'label': '/art and entertainment/visual art and design/design/interior design'}, {'score': 0.478759, 'label': '/science/biology/breeding'}, {'score': 0.414723, 'label': '/business and industrial/agriculture and forestry/livestock'}], 'keywords': [{'text': 'grands nombres', 'relevance': 0.950673}]}\n",
      "Analyzing text... Espace FabLab numérique ?\n",
      "{'sentiment': {'document': {'score': 0.0, 'label': 'neutral'}}, 'usage': {'text_units': 1, 'features': 4, 'text_characters': 25}, 'entities': [], 'language': 'fr', 'categories': [{'score': 0.788982, 'label': '/technology and computing/consumer electronics/camera and photo equipment/cameras and camcorders/cameras'}, {'score': 0.322146, 'label': '/technology and computing'}, {'score': 0.296028, 'label': '/business and industrial/aerospace and defense/space technology'}], 'keywords': [{'text': 'Espace FabLab numérique', 'relevance': 0.977174}]}\n",
      "Analyzing text... Il faudrait faire de cette zone un espace de détente pour tous les nouméens mais également un pôle d'attraction pour les croisiéristes avec des spectacles et la conduite d'animations originales.\n",
      "{'sentiment': {'document': {'score': 0.0, 'label': 'neutral'}}, 'usage': {'text_units': 1, 'features': 4, 'text_characters': 194}, 'entities': [], 'language': 'fr', 'categories': [{'score': 0.173392, 'label': '/travel/transports/sea travel/cruises'}, {'score': 0.168634, 'label': '/art and entertainment/visual art and design/design'}, {'score': 0.134332, 'label': '/technology and computing/software/graphics software/animation'}], 'keywords': []}\n",
      "Analyzing text... Il faut y ajouter des aires de work-out comme celles déjà présentes à l'Anse Vata. Le sport santé aussi pour ceux qui travaillent dans les bureaux du centre-ville !\n",
      "{'sentiment': {'document': {'score': 0.0, 'label': 'neutral'}}, 'usage': {'text_units': 1, 'features': 4, 'text_characters': 164}, 'entities': [], 'language': 'fr', 'categories': [{'score': 0.704952, 'label': '/health and fitness'}, {'score': 0.241704, 'label': '/health and fitness/disorders'}, {'score': 0.214559, 'label': '/health and fitness/disorders/mental disorder/a.d.d.'}], 'keywords': [{'text': 'déjà présentes', 'relevance': 0.967369}, {'text': \"l'anse vata\", 'relevance': 0.85804}]}\n",
      "Analyzing text... Pourquoi ne pas prévoir un bâtiment en guise de parking pour les voitures ?\n",
      "{'sentiment': {'document': {'score': 0.0, 'label': 'neutral'}}, 'usage': {'text_units': 1, 'features': 4, 'text_characters': 75}, 'entities': [], 'language': 'fr', 'categories': [{'score': 0.992711, 'label': '/automotive and vehicles/cars'}, {'score': 0.0271134, 'label': '/law, govt and politics/legal issues/legislation/building laws'}, {'score': 0.0263928, 'label': '/business and industrial/construction'}], 'keywords': []}\n",
      "Analyzing text... pensez aux accès pour les personnes a mobilité réduite\n"
     ]
    },
    {
     "name": "stdout",
     "output_type": "stream",
     "text": [
      "{'sentiment': {'document': {'score': 0.0, 'label': 'neutral'}}, 'usage': {'text_units': 1, 'features': 4, 'text_characters': 54}, 'entities': [], 'language': 'fr', 'categories': [{'score': 0.845748, 'label': '/automotive and vehicles/scooters and mopeds'}, {'score': 0.392582, 'label': '/technology and computing/networking/vpn and remote access'}, {'score': 0.273567, 'label': '/technology and computing'}], 'keywords': []}\n",
      "Analyzing text... limite de vitesse et dos d'ane pour ralentir le trafics et garantir la sécurité des piétons \n",
      "{'sentiment': {'document': {'score': 0.0, 'label': 'neutral'}}, 'usage': {'text_units': 1, 'features': 4, 'text_characters': 92}, 'entities': [], 'language': 'fr', 'categories': [{'score': 0.332487, 'label': '/automotive and vehicles/bicycles and accessories'}, {'score': 0.280997, 'label': '/society/crime/personal offense/human trafficking'}, {'score': 0.155094, 'label': '/society/crime/drug trafficking'}], 'keywords': []}\n",
      "Analyzing text... pensez tout même au respect des berges et a ne pas trop détruire l'écosystème de la baie\n",
      "{'sentiment': {'document': {'score': 0.0, 'label': 'neutral'}}, 'usage': {'text_units': 1, 'features': 4, 'text_characters': 88}, 'entities': [], 'language': 'fr', 'categories': [{'score': 0.926995, 'label': '/finance/bank'}, {'score': 0.115372, 'label': '/finance'}, {'score': 0.0800767, 'label': '/law, govt and politics/government'}], 'keywords': []}\n",
      "Analyzing text... logements étudiants ? SIC ? \n",
      "{'sentiment': {'document': {'score': 0.0, 'label': 'neutral'}}, 'usage': {'text_units': 1, 'features': 4, 'text_characters': 28}, 'entities': [], 'language': 'fr', 'categories': [{'score': 0.707107, 'label': '/home and garden'}, {'score': 0.706281, 'label': '/travel/tourist destinations/eastern europe'}, {'score': 0.0205049, 'label': '/technology and computing/software/databases'}], 'keywords': [{'text': 'logements étudiants', 'relevance': 0.995781}]}\n",
      "Analyzing text... Ne nombreuses associations ont besoin de locaux, il serait bien que ça devienne un pôle ouvert sur le social, le vivre ensemble symbole des mélanges.\n",
      "{'sentiment': {'document': {'score': 0.0, 'label': 'neutral'}}, 'usage': {'text_units': 1, 'features': 4, 'text_characters': 149}, 'entities': [], 'language': 'fr', 'categories': [{'score': 0.427017, 'label': '/society/social institution/marriage'}, {'score': 0.210115, 'label': '/technology and computing/internet technology/social network'}, {'score': 0.183221, 'label': '/art and entertainment/dance/pole dancing'}], 'keywords': [{'text': 'pôle ouvert', 'relevance': 0.975545}]}\n",
      "Analyzing text... Tout ceci est très beau mais finira malheureusement tagué et vandalisé..\n",
      "{'sentiment': {'document': {'score': 0.0, 'label': 'neutral'}}, 'usage': {'text_units': 1, 'features': 4, 'text_characters': 72}, 'entities': [], 'language': 'fr', 'categories': [{'score': 0.972256, 'label': '/law, govt and politics/law enforcement/police'}, {'score': 0.228887, 'label': '/religion and spirituality/judaism'}, {'score': 0.0479574, 'label': '/automotive and vehicles/cars'}], 'keywords': []}\n",
      "Analyzing text... Il,serait interessant que,les espaces culturels puissent recevoir des expositions temporaires des grands musées parisiens/ expositions thematiques internationales.\n",
      "Il pourrait egalement etre interessant de creer une cité culturelle et artistique avec ateliers de transmission pour des stages de formation pour les jeunes, et la possibilité pour eux de vendre les produist qu'ils auront crée, avec hebergement et espaces d'exposition (avec circuits type\"ikea\"). Creer un vivier d'artistes contemporains caledoniens, et des expositions d'art morderne caledonien/ pacifique , ateliers presentants les metiers de l'artisanat savoir français et melanesien avec eventuellement un espace pour les compagnons du devoirs, ainsi qu'un espace de vente dedié aux produits fabriqués en caledonie. Est il prevu un point d'information ou office de tourisme pour accueillir les touristes et croisieristes? Si oui, où?\n",
      "Ou sont prevus les parking (gratuits de preference)?\n",
      "\n",
      "{'sentiment': {'document': {'score': 0.435793, 'label': 'positive'}}, 'usage': {'text_units': 1, 'features': 4, 'text_characters': 955}, 'entities': [{'text': 'Il,serait', 'relevance': 0.963296, 'sentiment': {'score': 0.0}, 'type': 'Person', 'count': 1}, {'text': 'Creer', 'relevance': 0.351983, 'sentiment': {'score': 0.386954}, 'type': 'Person', 'count': 1}], 'language': 'fr', 'categories': [{'score': 0.57497, 'label': '/art and entertainment/shows and events/exhibition'}, {'score': 0.56024, 'label': '/home and garden/bed and bath/bedroom/bedding and bed linens'}, {'score': 0.194088, 'label': '/travel/specialty travel/ecotourism'}], 'keywords': [{'text': 'expositions thematiques internationales', 'relevance': 0.933684}, {'text': 'expositions temporaires', 'relevance': 0.815213}]}\n",
      "Analyzing text... Si les croisieristes sont deposés à cet endroit, qui va les accueillir? A quoi servira la gare maritime? Y aura t il un point information ou office de tourisme?\n",
      "Y aura t il des parking pour que gens puissent venir se garer à proximité et profiter des espaces?\n",
      "Pourrait on y installer des postes de work out, comme sur le reste de la promenade coté baies?\n",
      "\n",
      "Merci\n",
      "{'sentiment': {'document': {'score': 0.669625, 'label': 'positive'}}, 'usage': {'text_units': 1, 'features': 4, 'text_characters': 361}, 'entities': [], 'language': 'fr', 'categories': [{'score': 0.577412, 'label': '/finance/bank/bank account'}, {'score': 0.576794, 'label': '/travel/specialty travel/ecotourism'}, {'score': 0.422695, 'label': '/technology and computing/hardware/computer components/disks'}], 'keywords': [{'text': 'gare maritime', 'relevance': 0.916397}, {'text': 'work out', 'relevance': 0.798354}]}\n",
      "Analyzing text... Le succes du Neobus n'est pas encore assuré. Il ne faudrait pas que l'entrée de la ville devient un entonnoir et aggraver les embouteillages. \n",
      "{'sentiment': {'document': {'score': 0.526355, 'label': 'positive'}}, 'usage': {'text_units': 1, 'features': 4, 'text_characters': 142}, 'entities': [], 'language': 'fr', 'categories': [{'score': 0.982356, 'label': '/health and fitness/disease/asthma'}, {'score': 0.186701, 'label': '/health and fitness/disease/allergies'}, {'score': 0.00799065, 'label': \"/health and fitness/disease/ibs and crohn's disease\"}], 'keywords': [{'text': 'Le succes', 'relevance': 0.959551}]}\n",
      "Analyzing text... Je ne comprends pas bien: la piscine vient remplacer la station d'epuration? Vue la circulation, le lieu sera t il vraiment agreable pour se baigner? Enfin, amenager des espaces verts (partie vert foncé) sous les fumées de la sln et avec vue de la sln....je suis un peu sceptique....\n",
      "{'sentiment': {'document': {'score': 0.207484, 'label': 'positive'}}, 'usage': {'text_units': 1, 'features': 4, 'text_characters': 283}, 'entities': [{'text': 'piscine', 'relevance': 0.978347, 'sentiment': {'score': 0.0}, 'type': 'Sport', 'count': 1}], 'language': 'fr', 'categories': [{'score': 0.579135, 'label': '/sports/swimming'}, {'score': 0.398895, 'label': '/science/social science/philosophy'}, {'score': 0.333584, 'label': '/law, govt and politics/government'}], 'keywords': [{'text': 'espaces verts', 'relevance': 0.902805}, {'text': \"station d'epuration\", 'relevance': 0.876258}]}\n",
      "Analyzing text... Il y a deja beaucoup d'espaces bureaux au centre ville qui ne sont pas utilisés, et il n'ya pas assez de parking, il faut prevoir plus de parking. Si le terminal des croisieristes est deplacé , que deviennent la gare maritime actuel et l'office du tourisme? Est il prevu que le terminal accueille un office de tourisme?\n",
      "{'sentiment': {'document': {'score': 0.0, 'label': 'neutral'}}, 'usage': {'text_units': 1, 'features': 4, 'text_characters': 319}, 'entities': [{'text': 'centre', 'sentiment': {'score': 0.202877}, 'relevance': 0.978347, 'count': 1, 'disambiguation': {'subtype': ['Region']}, 'type': 'Location'}], 'language': 'fr', 'categories': [{'score': 0.65843, 'label': '/travel/specialty travel/ecotourism'}, {'score': 0.284222, 'label': '/home and garden/bed and bath/bedroom/bedding and bed linens'}, {'score': 0.23989, 'label': '/home and garden/laundry'}], 'keywords': [{'text': 'gare maritime actuel', 'relevance': 0.966143}]}\n",
      "Analyzing text... Qu'appelez-vous Espace à usage pluriel ?\n",
      "Quel type de bureaux ?\n",
      "Quel type de commerces ?\n",
      "Le café donnant sur les espaces verts et la mer serait un must\n"
     ]
    },
    {
     "name": "stdout",
     "output_type": "stream",
     "text": [
      "{'sentiment': {'document': {'score': 0.824385, 'label': 'positive'}}, 'usage': {'text_units': 1, 'features': 4, 'text_characters': 151}, 'entities': [], 'language': 'fr', 'categories': [{'score': 0.473145, 'label': '/business and industrial/aerospace and defense/space technology'}, {'score': 0.319838, 'label': '/business and industrial/energy/oil/oil and gas prices'}, {'score': 0.286155, 'label': '/food and drink/beverages/non alcoholic beverages/coffee and tea'}], 'keywords': [{'text': 'usage pluriel', 'relevance': 0.912413}, {'text': 'espaces verts', 'relevance': 0.710496}]}\n",
      "Analyzing text... L'espace aire de jeu enfant serait mieux placé en 8 devant les zones de piques-niques, car les personnes accompagnées d'enfants pourront après avoir acheté leur repas en 2 et 3 s'assoir dans ces zones aves leurs enfants et rester près d'eux, de manière confortable lorsque les enfants joueront .\n",
      "Les zones 2 et 3 de restauration demandent un temps d'attente de livraison de la commande, l'espace Surface toile peintes géantes pourrait être place en 4, ce qui permettrait au consomateur en attente de les admirer.Ces surfaces pourraient être changées regulierement et serait alors un lieu d'expression des artistes et une exposition ephemere;\n",
      "Je ne suis pas convaincu de l'espace Skate Board, activité bruyante, j'y verrai plus de terrains de petanques, des jeux de societe : osselets, marelle, billes ou comme à NY un espace réservé a des anciens metiers de rue, coiffeur, barbiers, reflexo,  rémouleur, reflexo, etc ... ou d'expression comme Hyde Park : théatre, mime, artiste peintre , musicien, etc ... ou un peu des deux \n",
      "\n",
      "{'sentiment': {'document': {'score': 0.0, 'label': 'neutral'}}, 'usage': {'text_units': 1, 'features': 4, 'text_characters': 1026}, 'entities': [{'text': 'Skate Board', 'relevance': 0.958279, 'sentiment': {'score': 0.0}, 'type': 'Organization', 'count': 1}, {'text': 'NY', 'sentiment': {'score': 0.0}, 'relevance': 0.353252, 'count': 1, 'disambiguation': {'subtype': ['City']}, 'type': 'Location'}], 'language': 'fr', 'categories': [{'score': 0.576373, 'label': '/family and parenting/children'}, {'score': 0.154113, 'label': '/technology and computing/internet technology/email'}, {'score': 0.150358, 'label': '/business and industrial'}], 'keywords': [{'text': 'zones aves', 'relevance': 0.963598}, {'text': \"l'espace skate board\", 'relevance': 0.956436}]}\n",
      "Analyzing text... Faire passer la voix express par Ducos jusqu'a Numbo et construire un pont pour rejoindre Nouville. Cela permettrait d'avoir une route à 4 voies pour desservir Jules Garnier, l'Université et la future clinique et de laisser cette espace \" entrée Nord \" aux piétons, aux vélos.\n",
      "{'sentiment': {'document': {'score': 0.0, 'label': 'neutral'}}, 'usage': {'text_units': 1, 'features': 4, 'text_characters': 276}, 'entities': [{'text': 'Ducos', 'relevance': 0.95577, 'sentiment': {'score': 0.0}, 'type': 'Person', 'count': 1}, {'text': 'Jules Garnier', 'relevance': 0.513237, 'sentiment': {'score': 0.0}, 'type': 'Person', 'count': 1}], 'language': 'fr', 'categories': [{'score': 0.605063, 'label': '/automotive and vehicles/bicycles and accessories'}, {'score': 0.332944, 'label': '/technology and computing/computer certification'}, {'score': 0.246276, 'label': '/travel/transports/train travel'}], 'keywords': [{'text': \"ducos jusqu'a numbo\", 'relevance': 0.970491}, {'text': 'Jules Garnier', 'relevance': 0.813281}]}\n",
      "Analyzing text... Pourquoi ne pas aussi y transposer les points du parking du CHT en période intermediaire : zone de restauration, aire de pique-nique, espace de repos : hamac, exposition éphémere, parc de jeu enfant, etc .... ?\n",
      "{'sentiment': {'document': {'score': 0.0, 'label': 'neutral'}}, 'usage': {'text_units': 1, 'features': 4, 'text_characters': 210}, 'entities': [], 'language': 'fr', 'categories': [{'score': 0.123601, 'label': '/business and industrial'}, {'score': 0.117342, 'label': '/home and garden'}, {'score': 0.11047, 'label': '/health and fitness/therapy'}], 'keywords': [{'text': 'exposition éphémere', 'relevance': 0.981811}, {'text': 'période intermediaire', 'relevance': 0.972788}]}\n",
      "Analyzing text... Superficie du parking en silo ?\n",
      "Espace de danse avec auditorium ?  Et pourquoi pas un espace artistique, réservé aux écoles de danse, de théatre, de musique, de peinture, sculpture, etc .... avec auditorium et espace expo , un jour : une activité gratuite ? Il serait intéressant de prèvoir dans les jardins du bord de mer ou dans cet espace un écran géant pour des diffusions en plein air de films, concert, documentaire, etc ...\n",
      "A quoi correspond les espaces à usage collectif ?\n",
      "{'sentiment': {'document': {'score': 0.526363, 'label': 'positive'}}, 'usage': {'text_units': 1, 'features': 4, 'text_characters': 480}, 'entities': [], 'language': 'fr', 'categories': [{'score': 0.573289, 'label': '/home and garden/laundry'}, {'score': 0.489511, 'label': '/art and entertainment/dance'}, {'score': 0.31338, 'label': '/society/work/unions'}], 'keywords': [{'text': 'écran géant', 'relevance': 0.982505}, {'text': 'espace artistique', 'relevance': 0.981929}]}\n",
      "Analyzing text... Arrêter de déplacer des voies d'accès déjà créer : arreter de gaspiller l'argent des contribuables déjà dépensés \n",
      "{'sentiment': {'document': {'score': 0.0, 'label': 'neutral'}}, 'usage': {'text_units': 1, 'features': 4, 'text_characters': 113}, 'entities': [], 'language': 'fr', 'categories': [{'score': 0.290536, 'label': '/law, govt and politics/government'}, {'score': 0.266954, 'label': '/business and industrial/advertising and marketing/advertising'}, {'score': 0.214718, 'label': '/business and industrial'}], 'keywords': []}\n",
      "Analyzing text... Croisieristes ont déjà un quai dans la ville, il faut améliorer leur parking et accueil des bateaux avec une gestion de planning d'occupation pour maximiser ses arrivés. Les bateaux arrière tous en même temps, aucune efficacité pour les commerçants, embauche temporaire et pas au long terme. Proposer autre espaces que océanien  et skate parc déjà existants dans la commune.\n",
      "{'sentiment': {'document': {'score': 0.0, 'label': 'neutral'}}, 'usage': {'text_units': 1, 'features': 4, 'text_characters': 374}, 'entities': [], 'language': 'fr', 'categories': [{'score': 0.677565, 'label': '/business and industrial'}, {'score': 0.665772, 'label': '/automotive and vehicles/boats and watercraft'}, {'score': 0.194179, 'label': '/finance/personal finance/insurance/life insurance'}], 'keywords': [{'text': 'embauche temporaire', 'relevance': 0.952696}, {'text': \"planning d'occupation\", 'relevance': 0.855965}]}\n",
      "Analyzing text... Arrêter de créer des musées pour un rien. Ne peut on pas avoir un vrai musée avec tout? Multipliés des structures =Multipliés les dépenses.  Encore des logements,  des bureaux. Conserver les édifices historique  et retirer le reste. Faire un mall avec des boîtes de nuit et restaurants, spectacle de rue etc.\n",
      "{'sentiment': {'document': {'score': -0.439538, 'label': 'negative'}}, 'usage': {'text_units': 1, 'features': 4, 'text_characters': 308}, 'entities': [], 'language': 'fr', 'categories': [{'score': 0.582886, 'label': '/art and entertainment/visual art and design/art museums and galleries'}, {'score': 0.501392, 'label': '/home and garden'}, {'score': 0.500852, 'label': '/science/social science/history'}], 'keywords': [{'text': 'vrai musée', 'relevance': 0.928778}, {'text': 'édifices historique', 'relevance': 0.831152}]}\n",
      "Analyzing text... Un espace de loisirs mais pas résidentiels n'ai d'hôtels. \n",
      "{'sentiment': {'document': {'score': 0.0, 'label': 'neutral'}}, 'usage': {'text_units': 1, 'features': 4, 'text_characters': 58}, 'entities': [], 'language': 'fr', 'categories': [{'score': 0.997478, 'label': '/travel/hotels'}, {'score': 0.0418735, 'label': '/business and industrial/aerospace and defense/space technology'}, {'score': 0.0240351, 'label': '/science/physics/space and astronomy'}], 'keywords': [{'text': \"résidentiels n'ai d'hôtels\", 'relevance': 0.946608}]}\n",
      "Analyzing text... Démesuré\n",
      "J en ai les jambes sciées \n",
      "Faut revenir sur Terre \n",
      "Trop vite ,trop cher tout n est pas adapté \n",
      "Faudrait déjà régler tous les problèmes d insécurité de délinquance et réapprendre le civisme car pour le moment il n'y aura que les \"petits branleurs\"qui s approprieront les lieux \n",
      "\n"
     ]
    },
    {
     "name": "stdout",
     "output_type": "stream",
     "text": [
      "{'sentiment': {'document': {'score': -0.586827, 'label': 'negative'}}, 'usage': {'text_units': 1, 'features': 4, 'text_characters': 286}, 'entities': [{'text': 'Terre', 'relevance': 0.978347, 'sentiment': {'score': -0.477015}, 'type': 'GeographicFeature', 'count': 1}], 'language': 'fr', 'categories': [{'score': 0.107022, 'label': '/home and garden/home furnishings'}, {'score': 0.0945747, 'label': '/law, govt and politics/immigration'}, {'score': 0.083898, 'label': '/home and garden'}], 'keywords': [{'text': 'jambes sciées', 'relevance': 0.984201}]}\n",
      "Analyzing text... -Un parc botanique au bord de mer il vont être jolis les arbres avec un coup d Ouest (embruns)\n",
      "-Comme ça part (place publique et jet d eau)ça donne l idée que l'on déplace le centre ville\n",
      "-amphithéâtre (laissez moi rire)on se gare oû pour y aller et avec la délinquance qui augmente (et rien n est fait )\n",
      "-la place du Mua Ka à la Moselle rien de plus n a été fait alors ici \n",
      "-non mais piscine sur terrasse  je rêve \n",
      "\n",
      "{'sentiment': {'document': {'score': 0.675492, 'label': 'positive'}}, 'usage': {'text_units': 1, 'features': 4, 'text_characters': 416}, 'entities': [{'text': 'Ouest', 'sentiment': {'score': 0.0}, 'relevance': 0.958279, 'count': 1, 'disambiguation': {'subtype': ['Region']}, 'type': 'Location'}, {'text': 'centre', 'sentiment': {'score': 0.780116}, 'relevance': 0.611801, 'count': 1, 'disambiguation': {'subtype': ['Region']}, 'type': 'Location'}], 'language': 'fr', 'categories': [{'score': 0.161859, 'label': '/home and garden'}, {'score': 0.142784, 'label': '/travel/tourist facilities/hotel'}, {'score': 0.0939268, 'label': '/sports/swimming'}], 'keywords': [{'text': 'Mua Ka', 'relevance': 0.992738}]}\n",
      "Analyzing text... Non mais la faut arrêter c est \"total eclate\"pour les concepteurs du projet on est en NC pas une mégalopole \n",
      "La passerelle une barre en travers de la route c est beau comme perspective quand on arrive sur la ville\n",
      "Pourquoi pas avoir tout refait depuis le rond-point Berthelot c est là plutôt l'entrée de la ville \n",
      "Vélib (lol)qui va s en servir, ils disparaîtront bien vite \n",
      "\n",
      "{'sentiment': {'document': {'score': 0.729499, 'label': 'positive'}}, 'usage': {'text_units': 1, 'features': 4, 'text_characters': 374}, 'entities': [], 'language': 'fr', 'categories': [{'score': 0.114754, 'label': '/travel/tourist facilities/hotel'}, {'score': 0.0981407, 'label': '/travel/tourist destinations/mexico and central america'}, {'score': 0.0856371, 'label': '/business and industrial/construction'}], 'keywords': [{'text': 'mégalopole la passerelle', 'relevance': 0.954907}, {'text': 'rond-point berthelot', 'relevance': 0.827007}]}\n",
      "Analyzing text...  On en fait des choses sur papier (c est beau de rêver)encore quelque chose qui va coûter des milliards, mais en réalité qui ira dans ces lieux quand on voit la Place des cocotiers,on a pas envie d'y rester,làc est beaucoup trop loin du centre ville .\n",
      "Un réaménagement de la Moselle aurait été mieux car plus proche des commerces \n",
      "{'sentiment': {'document': {'score': 0.0, 'label': 'neutral'}}, 'usage': {'text_units': 1, 'features': 4, 'text_characters': 330}, 'entities': [{'text': 'centre', 'sentiment': {'score': 0.0}, 'relevance': 0.978347, 'count': 1, 'disambiguation': {'subtype': ['Region']}, 'type': 'Location'}], 'language': 'fr', 'categories': [{'score': 0.519454, 'label': '/travel/specialty travel/vineyards'}, {'score': 0.357199, 'label': '/real estate/low income housing'}, {'score': 0.19397, 'label': '/travel/tourist facilities/hotel'}], 'keywords': [{'text': 'centre ville', 'relevance': 0.937078}]}\n",
      "Analyzing text... Dommage que des parkings disparaissent pour ceux qui bossent en ville ainsi que pour les futurs personnes qui seraient amener à utiliser cet endroit \n",
      "{'sentiment': {'document': {'score': 0.0, 'label': 'neutral'}}, 'usage': {'text_units': 1, 'features': 4, 'text_characters': 149}, 'entities': [], 'language': 'fr', 'categories': [{'score': 0.258, 'label': '/health and fitness/disease/headaches and migraines'}, {'score': 0.257934, 'label': '/art and entertainment/books and literature'}, {'score': 0.111595, 'label': '/family and parenting/children'}], 'keywords': [{'text': 'futurs personnes', 'relevance': 0.970273}]}\n",
      "Analyzing text... Dommage de ne pas exploiter la hauteur des murs de façade avec un équipement du style mur d'escalade.\n",
      "Supprimer tous les parkings n'est pas une solution même si l'objectif est d'en diminuer l'usage avec le neobus, bcp ne sont pas desservis par lui et la voiture reste utile et préférable pour une grande majorité des trajets.\n",
      "{'sentiment': {'document': {'score': 0.0, 'label': 'neutral'}}, 'usage': {'text_units': 1, 'features': 4, 'text_characters': 325}, 'entities': [], 'language': 'fr', 'categories': [{'score': 0.31053, 'label': '/society/unrest and war'}, {'score': 0.165697, 'label': '/technology and computing'}, {'score': 0.15732, 'label': '/technology and computing/computer security/antivirus and malware'}], 'keywords': [{'text': \"style mur d'escalade\", 'relevance': 0.91587}, {'text': \"parkings n'est\", 'relevance': 0.727172}]}\n",
      "Analyzing text... Il manque une salle de spectacle pour des concerts et autres manifestations style théâtre spectacle de danses et des salles de répétition pour des troupes de danses et de théâtre.\n",
      "Les bureaux et les cafés sont à inverser. Les cafés doivent avoir une vocation de rencontre et d'échange entre les coworkers et les agents des bureaux puis des espaces de culture et éducatif.\n",
      "Il faut imaginer cette espace comme un village au sein de la ville qui doit vivre de 6h à minuit.\n",
      "\n",
      "\n",
      "{'sentiment': {'document': {'score': 0.0, 'label': 'neutral'}}, 'usage': {'text_units': 1, 'features': 4, 'text_characters': 471}, 'entities': [], 'language': 'fr', 'categories': [{'score': 0.494472, 'label': '/travel/tourist destinations/national parks'}, {'score': 0.40239, 'label': '/food and drink/food and grocery retailers/bakeries'}, {'score': 0.324371, 'label': '/art and entertainment/theatre'}], 'keywords': [{'text': 'style théâtre spectacle', 'relevance': 0.902062}, {'text': 'Les cafés', 'relevance': 0.642096}]}\n",
      "Analyzing text... À condition que ces espaces soient préservés pour la détente et non pour les clochards alcoolisés.\n",
      "{'sentiment': {'document': {'score': 0.0, 'label': 'neutral'}}, 'usage': {'text_units': 1, 'features': 4, 'text_characters': 98}, 'entities': [], 'language': 'fr', 'categories': [{'score': 0.440691, 'label': '/food and drink/beverages'}, {'score': 0.169471, 'label': '/food and drink'}, {'score': 0.130709, 'label': '/health and fitness/disorders/mental disorder/panic and anxiety'}], 'keywords': [{'text': 'clochards alcoolisés', 'relevance': 0.964484}]}\n",
      "Analyzing text... ce schéma est difficilement compréhensible. On ne voit pas les déplacements et trop d'informations. Un schéma pour chaque modification et celui-ci en dernier nous permettraient de mieux comprends les modifications envisagées.\n",
      "{'sentiment': {'document': {'score': 0.0, 'label': 'neutral'}}, 'usage': {'text_units': 1, 'features': 4, 'text_characters': 225}, 'entities': [], 'language': 'fr', 'categories': [{'score': 0.745875, 'label': '/technology and computing/software/databases'}, {'score': 0.577457, 'label': '/travel'}, {'score': 0.0853722, 'label': '/law, govt and politics/legal issues/legislation'}], 'keywords': [{'text': 'Un schéma', 'relevance': 0.980176}]}\n",
      "Analyzing text... pas de bureaux , prend les places de parking pour les gens de passage.\n",
      "{'sentiment': {'document': {'score': 0.0, 'label': 'neutral'}}, 'usage': {'text_units': 1, 'features': 4, 'text_characters': 70}, 'entities': [], 'language': 'fr', 'categories': [{'score': 0.256141, 'label': '/travel/transports/public transport'}, {'score': 0.185003, 'label': '/home and garden/laundry'}, {'score': 0.172281, 'label': '/travel/transports/air travel/airports'}], 'keywords': []}\n",
      "Analyzing text... des statues , des déco, de la verdure , des coins d'ombres , à profusion\n",
      "{'sentiment': {'document': {'score': 0.0, 'label': 'neutral'}}, 'usage': {'text_units': 1, 'features': 4, 'text_characters': 72}, 'entities': [], 'language': 'fr', 'categories': [{'score': 0.987222, 'label': '/shopping/gifts/flowers'}, {'score': 0.123613, 'label': '/home and garden'}, {'score': 0.0948655, 'label': '/home and garden/gardening and landscaping/landscaping'}], 'keywords': [{'text': \"coins d'ombres\", 'relevance': 0.985323}]}\n",
      "Analyzing text... la voie express arrêtée pour une circulation qu'avec le néobus dans la ville ou des vélos ou des piétons, il faut utiliser le haut de la ville.\n"
     ]
    },
    {
     "name": "stdout",
     "output_type": "stream",
     "text": [
      "{'sentiment': {'document': {'score': 0.0, 'label': 'neutral'}}, 'usage': {'text_units': 1, 'features': 4, 'text_characters': 143}, 'entities': [], 'language': 'fr', 'categories': [{'score': 0.902125, 'label': '/automotive and vehicles/bicycles and accessories'}, {'score': 0.329971, 'label': '/automotive and vehicles/cars'}, {'score': 0.241358, 'label': '/automotive and vehicles/bicycles and accessories/mountain bikes'}], 'keywords': [{'text': 'voie express', 'relevance': 0.839541}]}\n",
      "Analyzing text... la ville reste un lieu de débauche pour certains jeunes, prévoir des lieux conviviales pour les familles et les touristes. \n",
      "{'sentiment': {'document': {'score': 0.0, 'label': 'neutral'}}, 'usage': {'text_units': 1, 'features': 4, 'text_characters': 123}, 'entities': [], 'language': 'fr', 'categories': [{'score': 0.725012, 'label': '/family and parenting'}, {'score': 0.148396, 'label': '/travel/tourist destinations'}, {'score': 0.128648, 'label': '/society/sex'}], 'keywords': [{'text': 'lieux conviviales', 'relevance': 0.992651}]}\n",
      "Analyzing text... moins de bureaux et plus de lieu de café ou autre avec des magasins pour accueillir les touristes.\n",
      "{'sentiment': {'document': {'score': 0.0, 'label': 'neutral'}}, 'usage': {'text_units': 1, 'features': 4, 'text_characters': 98}, 'entities': [], 'language': 'fr', 'categories': [{'score': 0.657606, 'label': '/food and drink/beverages/non alcoholic beverages/coffee and tea'}, {'score': 0.19711, 'label': '/travel/tourist destinations'}, {'score': 0.137028, 'label': '/food and drink/food and grocery retailers/convenience stores'}], 'keywords': []}\n",
      "Analyzing text... Eviter que ça devient un espace occupé par la SDF et que ça zone. Eviter de faire un espace d'insécurité à l'entrée de la ville.\n",
      "{'sentiment': {'document': {'score': 0.0, 'label': 'neutral'}}, 'usage': {'text_units': 1, 'features': 4, 'text_characters': 128}, 'entities': [], 'language': 'fr', 'categories': [{'score': 0.72089, 'label': '/business and industrial/aerospace and defense/space technology'}, {'score': 0.344341, 'label': '/science/physics/space and astronomy'}, {'score': 0.264385, 'label': '/technology and computing'}], 'keywords': []}\n",
      "Analyzing text... Il faudrait prévoir un espace innovant pour donner un nouveau souffle à la ville.\n",
      "{'sentiment': {'document': {'score': 0.0, 'label': 'neutral'}}, 'usage': {'text_units': 1, 'features': 4, 'text_characters': 81}, 'entities': [], 'language': 'fr', 'categories': [{'score': 0.406596, 'label': '/technology and computing'}, {'score': 0.288772, 'label': '/art and entertainment/visual art and design/design'}, {'score': 0.245765, 'label': '/science'}], 'keywords': [{'text': 'espace innovant', 'relevance': 0.97681}]}\n",
      "Analyzing text... Pourquoi ne pas commencer à aménager un espace de jardin partager type \"les incroyables comestibles\" ?\n",
      "{'sentiment': {'document': {'score': 0.0, 'label': 'neutral'}}, 'usage': {'text_units': 1, 'features': 4, 'text_characters': 102}, 'entities': [], 'language': 'fr', 'categories': [{'score': 0.909757, 'label': '/home and garden'}, {'score': 0.113149, 'label': '/art and entertainment/visual art and design/design'}, {'score': 0.102815, 'label': '/art and entertainment/books and literature/magazines'}], 'keywords': [{'text': 'les incroyables comestibles', 'relevance': 0.946127}]}\n",
      "Analyzing text... Ah oui, c'est super de reconquérir le front de mer et de donner de la place aux modes de déplacement doux.\n",
      "{'sentiment': {'document': {'score': 0.0, 'label': 'neutral'}}, 'usage': {'text_units': 1, 'features': 4, 'text_characters': 106}, 'entities': [], 'language': 'fr', 'categories': [{'score': 0.271687, 'label': '/travel'}, {'score': 0.190442, 'label': '/home and garden/gardening and landscaping/yard and patio'}, {'score': 0.139456, 'label': '/food and drink/beverages/alcoholic beverages/wine'}], 'keywords': [{'text': \"c'est super\", 'relevance': 0.978466}]}\n",
      "Analyzing text... Un espace pour le Hip hop serait bien aussi. Un mur antibruit c'est bien, mais cela serait bien aussi de conserver des vues vers la mer.\n",
      "{'sentiment': {'document': {'score': 0.0, 'label': 'neutral'}}, 'usage': {'text_units': 1, 'features': 4, 'text_characters': 136}, 'entities': [], 'language': 'fr', 'categories': [{'score': 0.986295, 'label': '/art and entertainment/music/music genres/hip hop'}, {'score': 0.0482323, 'label': '/business and industrial/aerospace and defense/space technology'}, {'score': 0.0339485, 'label': '/art and entertainment/dance'}], 'keywords': [{'text': 'Un mur antibruit', 'relevance': 0.931885}]}\n",
      "Analyzing text... Bonjour, c'est dommage que le café et la maison du projet ne soit pas à coté mais séparés par des bureaux de recherche fermés au public.  \n",
      "{'sentiment': {'document': {'score': 0.0, 'label': 'neutral'}}, 'usage': {'text_units': 1, 'features': 4, 'text_characters': 138}, 'entities': [{'text': 'la maison', 'relevance': 0.978347, 'sentiment': {'score': 0.0}, 'type': 'Facility', 'count': 1}], 'language': 'fr', 'categories': [{'score': 0.141401, 'label': '/business and industrial'}, {'score': 0.13783, 'label': '/art and entertainment/visual art and design/design'}, {'score': 0.130967, 'label': '/family and parenting/children'}], 'keywords': [{'text': \"c'est dommage\", 'relevance': 0.970797}]}\n",
      "Analyzing text... Argent fichu en l'air\n",
      "{'sentiment': {'document': {'score': -0.774393, 'label': 'negative'}}, 'usage': {'text_units': 1, 'features': 4, 'text_characters': 21}, 'entities': [], 'language': 'fr', 'categories': [{'score': 0.789201, 'label': '/law, govt and politics/armed forces/air force'}, {'score': 0.247203, 'label': '/science/ecology/pollution'}, {'score': 0.225684, 'label': '/business and industrial/logistics/air freight'}], 'keywords': []}\n",
      "Analyzing text... pas de gaspillage d'eau avec des fontaines\n",
      "{'sentiment': {'document': {'score': 0.0, 'label': 'neutral'}}, 'usage': {'text_units': 1, 'features': 4, 'text_characters': 42}, 'entities': [], 'language': 'fr', 'categories': [{'score': 0.731438, 'label': '/science/ecology/waste management/waste disposal'}, {'score': 0.231291, 'label': '/home and garden/home furnishings'}, {'score': 0.201622, 'label': '/home and garden/gardening and landscaping/landscaping'}], 'keywords': [{'text': \"gaspillage d'eau\", 'relevance': 0.997781}]}\n",
      "Analyzing text... Velib' c'est une marque déposée attention ...\n",
      "{'sentiment': {'document': {'score': 0.0, 'label': 'neutral'}}, 'usage': {'text_units': 1, 'features': 4, 'text_characters': 45}, 'entities': [], 'language': 'fr', 'categories': [{'score': 0.840529, 'label': '/law, govt and politics/legal issues/civil law/copyright'}, {'score': 0.204763, 'label': '/health and fitness/disorders/mental disorder/a.d.d.'}, {'score': 0.180152, 'label': '/art and entertainment/visual art and design/design'}], 'keywords': [{'text': 'marque déposée attention', 'relevance': 0.984}]}\n",
      "Analyzing text... Activité enfant pres du NeoBus et d'axe de circulation j'ai un doute\n",
      "{'sentiment': {'document': {'score': 0.437056, 'label': 'positive'}}, 'usage': {'text_units': 1, 'features': 4, 'text_characters': 68}, 'entities': [{'text': 'NeoBus', 'relevance': 0.978347, 'sentiment': {'score': 0.437056}, 'type': 'Company', 'count': 1}], 'language': 'fr', 'categories': [{'score': 0.180241, 'label': '/art and entertainment/music'}, {'score': 0.167754, 'label': '/law, govt and politics/espionage and intelligence/surveillance'}, {'score': 0.158561, 'label': '/hobbies and interests/paranormal phenomena'}], 'keywords': [{'text': 'enfant pres', 'relevance': 0.931264}]}\n",
      "Analyzing text... Mieux vaut etre en travaux plus longtemps et à la cible que faire et defaire\n",
      "{'sentiment': {'document': {'score': 0.654391, 'label': 'positive'}}, 'usage': {'text_units': 1, 'features': 4, 'text_characters': 76}, 'entities': [], 'language': 'fr', 'categories': [{'score': 0.728763, 'label': '/sports/hunting and shooting/target shooting'}, {'score': 0.589075, 'label': '/business and industrial'}, {'score': 0.213809, 'label': '/shopping/retail'}], 'keywords': []}\n",
      "Analyzing text... Beaucoup de circulation pour pique nique ou sieste sur un hamac, c'est une entrée de ville ou un parc municipal ?  Tout est mélangé ça manque de cohérence \n",
      "{'sentiment': {'document': {'score': -0.703066, 'label': 'negative'}}, 'usage': {'text_units': 1, 'features': 4, 'text_characters': 155}, 'entities': [], 'language': 'fr', 'categories': [{'score': 0.707156, 'label': '/sports/martial arts'}, {'score': 0.354283, 'label': '/home and garden/home furnishings/sofas and chairs'}, {'score': 0.303391, 'label': '/family and parenting/children'}], 'keywords': [{'text': 'parc municipal', 'relevance': 0.990242}]}\n",
      "Analyzing text... Pas assez d'espaces verts \n"
     ]
    },
    {
     "name": "stdout",
     "output_type": "stream",
     "text": [
      "{'sentiment': {'document': {'score': -0.576799, 'label': 'negative'}}, 'usage': {'text_units': 1, 'features': 4, 'text_characters': 26}, 'entities': [], 'language': 'fr', 'categories': [{'score': 0.467543, 'label': '/business and industrial/green solutions'}, {'score': 0.291975, 'label': '/food and drink/beverages/non alcoholic beverages/coffee and tea'}, {'score': 0.209568, 'label': '/art and entertainment/visual art and design/design/interior design'}], 'keywords': []}\n",
      "Analyzing text... OK pour l'école de danse .... mais pensez aux salles de répétitions pour les autres associations culturelles ! :) ... théâtre, chants ... \n",
      "{'sentiment': {'document': {'score': 0.0, 'label': 'neutral'}}, 'usage': {'text_units': 1, 'features': 4, 'text_characters': 138}, 'entities': [], 'language': 'fr', 'categories': [{'score': 0.706844, 'label': '/art and entertainment/theatre'}, {'score': 0.43219, 'label': '/health and fitness/exercise'}, {'score': 0.235541, 'label': '/art and entertainment/dance'}], 'keywords': [{'text': 'associations culturelles', 'relevance': 0.985234}]}\n",
      "Analyzing text... Il faut des parkings ! :)\n",
      "{'sentiment': {'document': {'score': 0.883343, 'label': 'positive'}}, 'usage': {'text_units': 1, 'features': 4, 'text_characters': 25}, 'entities': [], 'language': 'fr', 'categories': [{'score': 0.574656, 'label': '/travel/transports/air travel/airports'}, {'score': 0.560453, 'label': '/home and garden/laundry'}, {'score': 0.235988, 'label': '/travel/transports/public transport'}], 'keywords': []}\n",
      "Analyzing text... Manque dans la ville des salles de répétitions pour les grands groupes culturels associatifs (théâtre, chants, danse .. ).\n",
      "Ces derniers mois, ces groupes ont dû quitté les écoles , le centre d'art .... qui les hébergeaient jusqu'alors. Ils doivent faire appel au système D, certains utilisent notamment dorénavant la salle d'honneur de la mairie ! Une ou des grandes salles adaptées (sorties de secours , accessibilité, taille .... ) serai(en)t la(es)  bienvenues !!!\n",
      "{'sentiment': {'document': {'score': 0.0, 'label': 'neutral'}}, 'usage': {'text_units': 1, 'features': 4, 'text_characters': 467}, 'entities': [{'text': 'centre', 'sentiment': {'score': 0.0}, 'relevance': 0.963296, 'count': 1, 'disambiguation': {'subtype': ['Region']}, 'type': 'Location'}, {'text': 'mairie', 'relevance': 0.586871, 'sentiment': {'score': 0.0}, 'type': 'Facility', 'count': 1}], 'language': 'fr', 'categories': [{'score': 0.724799, 'label': '/art and entertainment/theatre'}, {'score': 0.230525, 'label': '/art and entertainment/dance'}, {'score': 0.218986, 'label': '/health and fitness/exercise'}], 'keywords': [{'text': 'groupes culturels associatifs', 'relevance': 0.941866}, {'text': 'derniers mois', 'relevance': 0.638622}]}\n",
      "Analyzing text... en faire des bureaux, non merci!! Commerces, hôtels, restaurants, bars à spectacles style cabaret, salle de cinémas, Food center (il en faudrait vraiment un avec toute les cuisines du monde) bienvenus!!\n",
      "{'sentiment': {'document': {'score': 0.780934, 'label': 'positive'}}, 'usage': {'text_units': 1, 'features': 4, 'text_characters': 202}, 'entities': [], 'language': 'fr', 'categories': [{'score': 0.463341, 'label': '/art and entertainment'}, {'score': 0.447265, 'label': '/travel/hotels'}, {'score': 0.150759, 'label': '/travel/tourist facilities/hotel'}], 'keywords': [{'text': 'spectacles style cabaret', 'relevance': 0.976022}]}\n",
      "Analyzing text... réunir en un seul endroit tout ce qui a trait aux divertissements et redonner aux nouméens le plaisir de sortir entre amis et familles les soirs de weekend!! c'est très important pour nous tous de se relaxer ainsi, que l'on ai plus l'impression de s'ennuyer parce que rien à voir dans notre ville\n",
      "{'sentiment': {'document': {'score': 0.0, 'label': 'neutral'}}, 'usage': {'text_units': 1, 'features': 4, 'text_characters': 296}, 'entities': [], 'language': 'fr', 'categories': [{'score': 0.674307, 'label': '/family and parenting'}, {'score': 0.587915, 'label': '/travel/tourist destinations/spas'}, {'score': 0.101616, 'label': '/home and garden/gardening and landscaping/yard and patio'}], 'keywords': [{'text': 'seul endroit', 'relevance': 0.985537}]}\n",
      "Analyzing text... Très intéressant comme idée! créer un joli front de mer avec si possibles des pontons végétalisés et des bancs + tables comme à l'anse vata\n",
      "{'sentiment': {'document': {'score': 0.692311, 'label': 'positive'}}, 'usage': {'text_units': 1, 'features': 4, 'text_characters': 139}, 'entities': [], 'language': 'fr', 'categories': [{'score': 0.735795, 'label': '/home and garden/home furnishings/sofas and chairs'}, {'score': 0.258315, 'label': '/home and garden/gardening and landscaping/yard and patio'}, {'score': 0.133309, 'label': '/home and garden/home furnishings'}], 'keywords': [{'text': 'pontons végétalisés', 'relevance': 0.982205}]}\n",
      "Analyzing text... un déplacement des forains de port-moselle sur une partie de cette place serait une bonne idée aussi avec ses manèges, autotamponneuses, entourés de glaciers, crèperies, snacks, ....\n",
      "{'sentiment': {'document': {'score': 0.0, 'label': 'neutral'}}, 'usage': {'text_units': 1, 'features': 4, 'text_characters': 182}, 'entities': [], 'language': 'fr', 'categories': [{'score': 0.515919, 'label': '/travel'}, {'score': 0.328215, 'label': '/travel/transports/sea travel/cruises'}, {'score': 0.12244, 'label': '/food and drink'}], 'keywords': [{'text': 'bonne idée', 'relevance': 0.986764}]}\n",
      "Analyzing text... Et pourquoi pas un complexe de restauration-hôtellerie avec superbe vue sur le centre-ville permettant d'accueillir les touristes étrangers et locaux et des soirées nouméennes avec spectacles, concerts intra-muros, bref qu'on aie plaisir à sortir en ville les weekends?\n",
      "{'sentiment': {'document': {'score': 0.918544, 'label': 'positive'}}, 'usage': {'text_units': 1, 'features': 4, 'text_characters': 269}, 'entities': [], 'language': 'fr', 'categories': [{'score': 0.196523, 'label': '/travel/tourist facilities/hotel'}, {'score': 0.137987, 'label': '/home and garden'}, {'score': 0.12538, 'label': '/business and industrial'}], 'keywords': [{'text': 'concerts intra-muros', 'relevance': 0.962789}, {'text': 'touristes étrangers', 'relevance': 0.954326}]}\n",
      "Analyzing text... Euh ... précisez les logements et bureaux en usage mixte ... où vont se garer tous ces gens ? \n",
      "{'sentiment': {'document': {'score': 0.0, 'label': 'neutral'}}, 'usage': {'text_units': 1, 'features': 4, 'text_characters': 94}, 'entities': [], 'language': 'fr', 'categories': [{'score': 0.691858, 'label': '/home and garden'}, {'score': 0.237939, 'label': '/travel/tourist destinations/national parks'}, {'score': 0.137669, 'label': '/sports/martial arts'}], 'keywords': [{'text': 'usage mixte', 'relevance': 0.980119}]}\n",
      "Analyzing text... Le plan a disparu ...\n",
      "{'sentiment': {'document': {'score': -0.342059, 'label': 'negative'}}, 'usage': {'text_units': 1, 'features': 4, 'text_characters': 21}, 'entities': [], 'language': 'fr', 'categories': [{'score': 0.78697, 'label': '/business and industrial/business operations/business plans'}, {'score': 0.321746, 'label': '/finance/personal finance/debt management'}, {'score': 0.138613, 'label': '/finance/personal finance/financial planning/retirement and pension'}], 'keywords': [{'text': 'Le plan', 'relevance': 0.980796}]}\n",
      "Analyzing text... À peine le Néa  Bus installé,  on refait des travaux  ... Ma foi ! \n",
      "Quant au Tchou Tchou,  bruyant, polluant, dangereux et lent ... dehors ! !!\n",
      "{'sentiment': {'document': {'score': 0.0, 'label': 'neutral'}}, 'usage': {'text_units': 1, 'features': 4, 'text_characters': 143}, 'entities': [], 'language': 'fr', 'categories': [{'score': 0.650566, 'label': '/travel/transports/public transport'}, {'score': 0.539652, 'label': '/science/ecology/pollution'}, {'score': 0.29127, 'label': '/business and industrial/energy/coal'}], 'keywords': [{'text': 'Néa Bus installé', 'relevance': 0.991004}]}\n",
      "Analyzing text... De la verdure, oui !\n",
      "De l'espace, on respire ! !!\n",
      "{'sentiment': {'document': {'score': 0.846731, 'label': 'positive'}}, 'usage': {'text_units': 1, 'features': 4, 'text_characters': 49}, 'entities': [], 'language': 'fr', 'categories': [{'score': 0.706365, 'label': '/business and industrial/aerospace and defense/space technology'}, {'score': 0.698072, 'label': '/shopping/gifts/flowers'}, {'score': 0.0874077, 'label': '/home and garden'}], 'keywords': []}\n",
      "Analyzing text... Enfin un projet collaboratif ! \n",
      "On fonce !!!\n"
     ]
    },
    {
     "name": "stdout",
     "output_type": "stream",
     "text": [
      "{'sentiment': {'document': {'score': 0.825982, 'label': 'positive'}}, 'usage': {'text_units': 1, 'features': 4, 'text_characters': 44}, 'entities': [], 'language': 'fr', 'categories': [{'score': 0.974924, 'label': '/business and industrial/business operations/management/project management'}, {'score': 0.0950729, 'label': '/technology and computing/software/net conferencing'}, {'score': 0.0781281, 'label': '/technology and computing'}], 'keywords': [{'text': 'projet collaboratif', 'relevance': 0.983336}]}\n",
      "Analyzing text... Faire une cité des sciences, de l'environnement et de la biodiversité ! Génial pour les sorties scolaires!\n",
      "Faire un espace pour les jeunes comme au Rex.\n",
      "Et une grande auberge de jeunesse (gérée par un particulier sous contrat).\n",
      "{'sentiment': {'document': {'score': 0.890222, 'label': 'positive'}}, 'usage': {'text_units': 1, 'features': 4, 'text_characters': 227}, 'entities': [], 'language': 'fr', 'categories': [{'score': 0.577406, 'label': '/education/school'}, {'score': 0.577337, 'label': '/science'}, {'score': 0.521422, 'label': '/society/work/contracts'}], 'keywords': [{'text': 'sorties scolaires', 'relevance': 0.993173}]}\n",
      "Analyzing text... Je rêve de vivre assez longtemps pour assister à la fermeture de cette usine qui troque la santé des gens contre des metaux lourds...!\n",
      "{'sentiment': {'document': {'score': 0.0, 'label': 'neutral'}}, 'usage': {'text_units': 1, 'features': 4, 'text_characters': 134}, 'entities': [], 'language': 'fr', 'categories': [{'score': 0.292579, 'label': '/health and fitness'}, {'score': 0.160986, 'label': '/finance/investing/stocks'}, {'score': 0.146695, 'label': '/business and industrial'}], 'keywords': [{'text': 'metaux lourds', 'relevance': 0.950357}]}\n",
      "Analyzing text... Il faut sortir des transports polluants. Les villes sont faites pour les hommes, par pour les véhicules...\n",
      "{'sentiment': {'document': {'score': 0.0, 'label': 'neutral'}}, 'usage': {'text_units': 1, 'features': 4, 'text_characters': 106}, 'entities': [], 'language': 'fr', 'categories': [{'score': 0.534727, 'label': '/science/ecology/pollution'}, {'score': 0.423791, 'label': '/travel/transports/public transport'}, {'score': 0.417959, 'label': '/automotive and vehicles/commercial vehicles'}], 'keywords': [{'text': 'transports polluants', 'relevance': 0.989155}]}\n",
      "Analyzing text... Une zone sportive serait du plus belle effet (workout, module skate, terrain volleyball...)\n",
      "{'sentiment': {'document': {'score': 0.0, 'label': 'neutral'}}, 'usage': {'text_units': 1, 'features': 4, 'text_characters': 91}, 'entities': [{'text': 'volleyball', 'relevance': 0.978347, 'sentiment': {'score': 0.0}, 'type': 'Sport', 'count': 1}], 'language': 'fr', 'categories': [{'score': 0.739882, 'label': '/sports'}, {'score': 0.305454, 'label': '/sports/hockey/field hockey'}, {'score': 0.265183, 'label': '/sports/volleyball'}], 'keywords': [{'text': 'Une zone sportive', 'relevance': 0.975347}, {'text': 'module skate', 'relevance': 0.830665}]}\n",
      "Analyzing text... Il faut raser les horreurs pour mettre en valeur le patrimoine \n",
      "{'sentiment': {'document': {'score': 0.0, 'label': 'neutral'}}, 'usage': {'text_units': 1, 'features': 4, 'text_characters': 63}, 'entities': [], 'language': 'fr', 'categories': [{'score': 0.308038, 'label': '/society/unrest and war'}, {'score': 0.279754, 'label': '/hobbies and interests/collecting/stamps and coins'}, {'score': 0.190022, 'label': '/art and entertainment/movies and tv/comedies'}], 'keywords': []}\n",
      "Analyzing text... La grande rade doit garder un caractère commerciale et industriel. Une piscine au dessus de la Step??\n",
      "La partie botanique peut être positionnée à doniambo\n",
      "{'sentiment': {'document': {'score': 0.547301, 'label': 'positive'}}, 'usage': {'text_units': 1, 'features': 4, 'text_characters': 154}, 'entities': [{'text': 'piscine', 'relevance': 0.978347, 'sentiment': {'score': 0.618724}, 'type': 'Sport', 'count': 1}], 'language': 'fr', 'categories': [{'score': 0.577461, 'label': '/sports/swimming'}, {'score': 0.474642, 'label': '/automotive and vehicles/commercial vehicles'}, {'score': 0.421237, 'label': '/science/biology/botany'}], 'keywords': [{'text': 'La grande rade', 'relevance': 0.94438}, {'text': 'La partie botanique', 'relevance': 0.834532}]}\n",
      "Analyzing text... Mieux réfléchir la circulation piétonne sera la cle. Peut on prévoir de vrais pistes cyclable partagées avec le petit train (rails à fleur de pavé)\n",
      "{'sentiment': {'document': {'score': 0.0, 'label': 'neutral'}}, 'usage': {'text_units': 1, 'features': 4, 'text_characters': 147}, 'entities': [], 'language': 'fr', 'categories': [{'score': 0.693024, 'label': '/law, govt and politics/legal issues/civil rights'}, {'score': 0.319355, 'label': '/automotive and vehicles/bicycles and accessories'}, {'score': 0.264526, 'label': '/shopping/gifts'}], 'keywords': [{'text': 'vrais pistes cyclable', 'relevance': 0.986095}]}\n",
      "Analyzing text... Ce lieu doit être le départ d'activités touristiques\n",
      "{'sentiment': {'document': {'score': 0.0, 'label': 'neutral'}}, 'usage': {'text_units': 1, 'features': 4, 'text_characters': 52}, 'entities': [], 'language': 'fr', 'categories': [{'score': 0.498669, 'label': '/travel/specialty travel/ecotourism'}, {'score': 0.15224, 'label': '/hobbies and interests/arts and crafts'}, {'score': 0.149831, 'label': '/travel'}], 'keywords': []}\n",
      "Analyzing text... Il faut raser le cube ideux et les autres horreurs qui cachent le patrimoine \n",
      "{'sentiment': {'document': {'score': 0.0, 'label': 'neutral'}}, 'usage': {'text_units': 1, 'features': 4, 'text_characters': 77}, 'entities': [], 'language': 'fr', 'categories': [{'score': 0.283516, 'label': '/society/unrest and war'}, {'score': 0.267563, 'label': '/automotive and vehicles/vehicle brands/nissan'}, {'score': 0.242032, 'label': '/art and entertainment/movies and tv/comedies'}], 'keywords': [{'text': 'cube ideux', 'relevance': 0.98008}]}\n",
      "Analyzing text... Si maison de la danse retenue, ne pas oublier la nécessité d'un collège \n",
      "{'sentiment': {'document': {'score': 0.686276, 'label': 'positive'}}, 'usage': {'text_units': 1, 'features': 4, 'text_characters': 72}, 'entities': [], 'language': 'fr', 'categories': [{'score': 0.992843, 'label': '/education/graduate school/college'}, {'score': 0.110642, 'label': '/art and entertainment/dance'}, {'score': 0.00504111, 'label': '/education/school/private school'}], 'keywords': []}\n",
      "Analyzing text... Parking en sillo si implantation d'un espace de convention et d'exposition \n",
      "{'sentiment': {'document': {'score': 0.0, 'label': 'neutral'}}, 'usage': {'text_units': 1, 'features': 4, 'text_characters': 75}, 'entities': [], 'language': 'fr', 'categories': [{'score': 0.41059, 'label': '/business and industrial'}, {'score': 0.390134, 'label': '/art and entertainment/shows and events/exhibition'}, {'score': 0.201464, 'label': '/art and entertainment/visual art and design/design'}], 'keywords': []}\n",
      "Analyzing text... L'identification de l'emprise de la prochaine voie est à matérialiser\n",
      "{'sentiment': {'document': {'score': 0.0, 'label': 'neutral'}}, 'usage': {'text_units': 1, 'features': 4, 'text_characters': 69}, 'entities': [], 'language': 'fr', 'categories': [], 'keywords': [{'text': 'prochaine voie', 'relevance': 0.996552}]}\n",
      "Analyzing text... La position des bureaux et des locaux partagés pourrait être revue \n",
      "{'sentiment': {'document': {'score': 0.0, 'label': 'neutral'}}, 'usage': {'text_units': 1, 'features': 4, 'text_characters': 67}, 'entities': [], 'language': 'fr', 'categories': [{'score': 0.985825, 'label': '/careers/resume writing and advice'}, {'score': 0.162875, 'label': '/finance/personal finance/insurance/health insurance'}, {'score': 0.0234751, 'label': '/finance/personal finance/insurance'}], 'keywords': [{'text': 'locaux partagés', 'relevance': 0.925258}]}\n",
      "Analyzing text... Y a t-il assez de parking ? Je sais que faire lâcher la voiture aux Calédoniens tient d'un utopie mais soyons optimistes et rêvons !!\n",
      "{'sentiment': {'document': {'score': 0.11766, 'label': 'positive'}}, 'usage': {'text_units': 1, 'features': 4, 'text_characters': 133}, 'entities': [], 'language': 'fr', 'categories': [{'score': 0.594009, 'label': '/society'}, {'score': 0.406343, 'label': '/travel/transports/air travel/airports'}, {'score': 0.3963, 'label': '/home and garden/laundry'}], 'keywords': []}\n",
      "Analyzing text... Arrêts Néobus/Karuia proches prévus ailleurs pour une bonne connexion ?\n",
      "Arrêt Néobus/Karuia proches des parkings et des vélib' mis à dispo pour favoriser les déplacements en modes doux ?\n"
     ]
    },
    {
     "name": "stdout",
     "output_type": "stream",
     "text": [
      "{'sentiment': {'document': {'score': 0.545665, 'label': 'positive'}}, 'usage': {'text_units': 1, 'features': 4, 'text_characters': 186}, 'entities': [], 'language': 'fr', 'categories': [{'score': 0.550864, 'label': '/travel'}, {'score': 0.237867, 'label': '/business and industrial'}, {'score': 0.0971577, 'label': '/home and garden/bed and bath/bedroom/bedding and bed linens'}], 'keywords': [{'text': 'proches prévus', 'relevance': 0.942433}, {'text': 'bonne connexion', 'relevance': 0.76476}]}\n",
      "Analyzing text... Les treillis avec hamacs ne sont-ils pas trop proches de la route, si c'est la détente qu'on vise. Pourquoi ne pas inverser avec le 10 ?\n",
      "{'sentiment': {'document': {'score': 0.0, 'label': 'neutral'}}, 'usage': {'text_units': 1, 'features': 4, 'text_characters': 136}, 'entities': [], 'language': 'fr', 'categories': [{'score': 0.593996, 'label': '/technology and computing/internet technology/web search/people search'}, {'score': 0.273914, 'label': '/home and garden/home furnishings/sofas and chairs'}, {'score': 0.269989, 'label': '/science/mathematics/geometry'}], 'keywords': [{'text': 'Les treillis', 'relevance': 0.972474}]}\n",
      "Analyzing text... Un espace café non loin des jardins et au RDC\n",
      "{'sentiment': {'document': {'score': 0.611838, 'label': 'positive'}}, 'usage': {'text_units': 1, 'features': 4, 'text_characters': 45}, 'entities': [{'text': 'RDC', 'sentiment': {'score': 0.611838}, 'relevance': 0.978347, 'count': 1, 'disambiguation': {'subtype': ['Country']}, 'type': 'Location'}], 'language': 'fr', 'categories': [{'score': 0.432298, 'label': '/food and drink/beverages/non alcoholic beverages/coffee and tea'}, {'score': 0.176791, 'label': '/science/physics/space and astronomy'}, {'score': 0.16311, 'label': '/business and industrial/aerospace and defense/space technology'}], 'keywords': [{'text': 'Un espace', 'relevance': 0.904983}]}\n",
      "Analyzing text... La destination de ces bâtiments durant la phase temporaire relèvera uniquement du gouvernement\n",
      "{'sentiment': {'document': {'score': 0.0, 'label': 'neutral'}}, 'usage': {'text_units': 1, 'features': 4, 'text_characters': 94}, 'entities': [{'text': 'du gouvernement', 'relevance': 0.978347, 'sentiment': {'score': 0.0}, 'type': 'Organization', 'count': 1}], 'language': 'fr', 'categories': [{'score': 0.941129, 'label': '/law, govt and politics/government'}, {'score': 0.179443, 'label': '/business and industrial/construction'}, {'score': 0.0814417, 'label': '/technology and computing/hardware/computer networking/router'}], 'keywords': [{'text': 'phase temporaire', 'relevance': 0.987237}]}\n",
      "Analyzing text... La Nouvelle-Calédonie est riche d'une extraordinaire biodiversité, les espèces endémiques calédoniennes doivent être largement valorisées pour donner une vraie identité à ces espaces verts. Cce qui n'a pas été le cas avec la plantation récente sur les quais de palmiers Roystonea originaires d'Amérique alors que des Chambeyronia ou Kentiopsis, supportant le plein soleil et de culture facile, auraient pu avantageusement être employés.\n",
      "{'sentiment': {'document': {'score': 0.0, 'label': 'neutral'}}, 'usage': {'text_units': 1, 'features': 4, 'text_characters': 436}, 'entities': [{'text': 'La Nouvelle-Calédonie', 'sentiment': {'score': 0.593993}, 'relevance': 0.963296, 'count': 1, 'disambiguation': {'subtype': ['Country']}, 'type': 'Location'}, {'text': \"d'Amérique\", 'sentiment': {'score': 0.0}, 'relevance': 0.391183, 'count': 1, 'disambiguation': {'subtype': ['Country']}, 'type': 'Location'}], 'language': 'fr', 'categories': [{'score': 0.267276, 'label': '/science/biology/zoology/endangered species'}, {'score': 0.221334, 'label': '/pets/birds'}, {'score': 0.183843, 'label': '/travel/tourist destinations/australia and new zealand'}], 'keywords': [{'text': 'palmiers roystonea originaires', 'relevance': 0.95861}, {'text': \"riche d'une extraordinaire\", 'relevance': 0.848792}]}\n",
      "Analyzing text... Des façades végétales pour apporter esthétiquement une continuité avec le parc botanique prévu en face de l'ancien hôpital. Ces murs végétaux pourraient accueillir diverses plantes locales (florales) et endémiques mais également aux niveaux des toitures terrasses des espaces dédiées aux jardins potagers et des ruches pour permettre aux abeilles d'effectuer naturellement la pollinisation des fleurs. D'où une certaine nécessité de regrouper le milieu végétal avec le milieu d'insecte.\n",
      "{'sentiment': {'document': {'score': 0.0, 'label': 'neutral'}}, 'usage': {'text_units': 1, 'features': 4, 'text_characters': 486}, 'entities': [{'text': 'le parc', 'relevance': 0.978347, 'sentiment': {'score': 0.0}, 'type': 'Facility', 'count': 1}], 'language': 'fr', 'categories': [{'score': 0.289238, 'label': '/home and garden'}, {'score': 0.261187, 'label': '/business and industrial/agriculture and forestry/crops and seed'}, {'score': 0.147962, 'label': '/health and fitness/disease'}], 'keywords': [{'text': 'façades végétales', 'relevance': 0.901363}, {'text': 'jardins potagers', 'relevance': 0.867973}]}\n",
      "Analyzing text... Des façades végétales pour apporter esthétiquement une continuité avec le parc botanique prévu en face de l'ancien hôpital. Ces murs végétaux pourraient accueillir diverses plantes locales (florales) et endémiques mais également aux niveaux des toitures terrasses des espaces dédiées aux jardins potagers et des ruches pour permettre aux abeilles d'effectuer naturellement la pollinisation des fleurs. D'où une certaine nécessité de regrouper le milieu végétal avec le milieu d'insecte.\n",
      "{'sentiment': {'document': {'score': 0.0, 'label': 'neutral'}}, 'usage': {'text_units': 1, 'features': 4, 'text_characters': 486}, 'entities': [{'text': 'le parc', 'relevance': 0.978347, 'sentiment': {'score': 0.0}, 'type': 'Facility', 'count': 1}], 'language': 'fr', 'categories': [{'score': 0.289238, 'label': '/home and garden'}, {'score': 0.261187, 'label': '/business and industrial/agriculture and forestry/crops and seed'}, {'score': 0.147962, 'label': '/health and fitness/disease'}], 'keywords': [{'text': 'façades végétales', 'relevance': 0.901363}, {'text': 'jardins potagers', 'relevance': 0.867973}]}\n",
      "Analyzing text... la VDE ne peut-elle pas être \"dégagée\" plus loin ??\n",
      "{'sentiment': {'document': {'score': 0.0, 'label': 'neutral'}}, 'usage': {'text_units': 1, 'features': 4, 'text_characters': 51}, 'entities': [], 'language': 'fr', 'categories': [{'score': 0.409369, 'label': '/technology and computing/operating systems/mac os'}, {'score': 0.293654, 'label': '/art and entertainment/movies and tv/comedies'}, {'score': 0.200314, 'label': '/art and entertainment/music/recording industry/record labels'}], 'keywords': []}\n",
      "Analyzing text... tout ceci et très joli, mais la desserte camion de la SLN est un vrai problème qui doit être résolu avant de lancer ce projet.\n",
      "{'sentiment': {'document': {'score': 0.0, 'label': 'neutral'}}, 'usage': {'text_units': 1, 'features': 4, 'text_characters': 126}, 'entities': [], 'language': 'fr', 'categories': [{'score': 0.253367, 'label': '/business and industrial/aerospace and defense/space technology'}, {'score': 0.235143, 'label': '/business and industrial/business operations/management/project management'}, {'score': 0.162467, 'label': '/technology and computing'}], 'keywords': [{'text': 'vrai problème', 'relevance': 0.968692}]}\n",
      "Analyzing text... Le changement de la voie camion SLN sera une catastrophe, on parle de 14000 roulages par an environ, transférés sur la voie principale ils vont créer des bouchons et le fait de les restreindre hors des heures de pointe va poser des problèmes techniques pour les sociétés de roulage, impactant le coût des exports de la SLN.\n",
      "{'sentiment': {'document': {'score': 0.0, 'label': 'neutral'}}, 'usage': {'text_units': 1, 'features': 4, 'text_characters': 323}, 'entities': [{'text': 'catastrophe', 'sentiment': {'score': 0.0}, 'relevance': 0.978347, 'count': 1, 'disambiguation': {'subtype': ['NaturalDisaster']}, 'type': 'NaturalEvent'}], 'language': 'fr', 'categories': [{'score': 0.196815, 'label': '/business and industrial'}, {'score': 0.100878, 'label': '/automotive and vehicles/trucks and suvs/truck accessories'}, {'score': 0.100626, 'label': '/business and industrial/company/merger and acquisition'}], 'keywords': [{'text': 'voie camion sln', 'relevance': 0.938236}, {'text': 'voie principale', 'relevance': 0.664682}]}\n",
      "Analyzing text... Embellir l'entrée de la ville est indispensable, de surcroît si on tend à accueillir plus de croisiéristes dans cette zone. \n",
      "La gare maritime a été un échec depuis le début, on a tendance à pressentir la même chose pour le village océanien...Il faudrait peut être intégrer l'espace pédagogique à l'espace culturel. \n",
      "Quais et amphithéâtre flottants (???), piscine sur terrasse, place avec jets d'eau...ont tout l'air de dépenses inconsidérées, autant pour la construction que pour l'entretien.\n",
      "La zone sports urbains, oui peut être, à condition que les jeunes soient isolés au maximum de la pollution par une végétalisation massive.\n"
     ]
    },
    {
     "name": "stdout",
     "output_type": "stream",
     "text": [
      "{'sentiment': {'document': {'score': 0.0, 'label': 'neutral'}}, 'usage': {'text_units': 1, 'features': 4, 'text_characters': 631}, 'entities': [{'text': 'piscine', 'relevance': 0.978347, 'sentiment': {'score': 0.705786}, 'type': 'Sport', 'count': 1}], 'language': 'fr', 'categories': [{'score': 0.322286, 'label': '/travel/transports/sea travel/cruises'}, {'score': 0.237905, 'label': '/science'}, {'score': 0.221775, 'label': '/science/ecology/pollution'}], 'keywords': [{'text': 'jeunes soient isolés', 'relevance': 0.976082}, {'text': 'zone sports urbains', 'relevance': 0.958914}]}\n",
      "Analyzing text... On imagine mal des enfants dans cet environnement pollué, et encore moins se détendre dans des hamacs ou pique-niquer à cet endroit. Les équipements doivent être prévus pour durer, l'incivilité étant ce qu'elle est les potagers et autres équipements fragiles ne feront pas long feu. Cependant, revégétaliser la zone est une bonne idée, et un mur anti-bruits ne serait pas de trop, les oeuvres d'artistes pourraient mettre de la couleur dans cet environnement bétonné. La zone est passante, l'idée des food trucks, déjà présents (mais de piètre qualité), est intéressante, tout comme celle des marchés éphémères (les colporteurs auraient ainsi un espace adapté, par rapport aux bords de route actuels), les parasols pourquoi pas pour manger sur le pouce près des foodtrucks.\n",
      "{'sentiment': {'document': {'score': 0.0, 'label': 'neutral'}}, 'usage': {'text_units': 1, 'features': 4, 'text_characters': 773}, 'entities': [], 'language': 'fr', 'categories': [{'score': 0.489078, 'label': '/family and parenting/children'}, {'score': 0.221144, 'label': '/home and garden/home furnishings/sofas and chairs'}, {'score': 0.148845, 'label': '/food and drink'}], 'keywords': [{'text': 'équipements fragiles', 'relevance': 0.982652}, {'text': 'bonne idée', 'relevance': 0.889618}]}\n",
      "Analyzing text... Dans la mesure du possible, éviter de  mettre les parkings et gares routières sur le front de mer\n",
      "{'sentiment': {'document': {'score': 0.0, 'label': 'neutral'}}, 'usage': {'text_units': 1, 'features': 4, 'text_characters': 97}, 'entities': [], 'language': 'fr', 'categories': [{'score': 0.282022, 'label': '/home and garden/gardening and landscaping/yard and patio'}, {'score': 0.17219, 'label': '/travel/transports/air travel/airports'}, {'score': 0.155776, 'label': '/law, govt and politics'}], 'keywords': [{'text': 'gares routières', 'relevance': 0.994333}]}\n",
      "Analyzing text... Le café, lieu de rencontre et d'échange, est essentiel pour un tel projet où la rencontre entre des expertises et activités différentes va amener de l'échange et très probablement de la création.\n",
      "\n",
      "Mais si c'est là que réside le cœur, pourquoi l'isoler dans un coin ? Il devrait au contraire être au centre !\n",
      "{'sentiment': {'document': {'score': 0.069516, 'label': 'positive'}}, 'usage': {'text_units': 1, 'features': 4, 'text_characters': 307}, 'entities': [{'text': 'centre', 'sentiment': {'score': 0.0}, 'relevance': 0.978347, 'count': 1, 'disambiguation': {'subtype': ['Region']}, 'type': 'Location'}], 'language': 'fr', 'categories': [{'score': 0.706258, 'label': '/technology and computing/data centers'}, {'score': 0.496558, 'label': '/home and garden'}, {'score': 0.312616, 'label': '/health and fitness/disease/heart disease'}], 'keywords': [{'text': 'Le café', 'relevance': 0.987639}]}\n",
      "Analyzing text... Et on roule où la dedans , je pense que l'idée est bonne en général mais je suis Calédonien et tout Calédonien qui se respecte aime sa voiture , l'Australie est un compromis complet là dessus vous devriez en tenir compte , parce que moi le tout à pied pourrait me faire c**** , alors qu'un bon compromis me rendrait   le sourire , bonne journée . \n",
      "{'sentiment': {'document': {'score': 0.718491, 'label': 'positive'}}, 'usage': {'text_units': 1, 'features': 4, 'text_characters': 347}, 'entities': [{'text': \"l'Australie\", 'sentiment': {'score': 0.572485}, 'relevance': 0.978347, 'count': 1, 'disambiguation': {'subtype': ['Country']}, 'type': 'Location'}], 'language': 'fr', 'categories': [{'score': 0.268047, 'label': '/travel/tourist destinations/australia and new zealand'}, {'score': 0.143448, 'label': '/finance/bank/bank account'}, {'score': 0.129916, 'label': '/art and entertainment/theatre'}], 'keywords': [{'text': 'bon compromis', 'relevance': 0.984972}, {'text': 'compromis complet', 'relevance': 0.955309}]}\n",
      "Analyzing text... Tant que se n'est pas au détriment de la voiture ...\n",
      "{'sentiment': {'document': {'score': 0.0, 'label': 'neutral'}}, 'usage': {'text_units': 1, 'features': 4, 'text_characters': 52}, 'entities': [], 'language': 'fr', 'categories': [], 'keywords': []}\n",
      "Analyzing text... Je vois que c'est encore les automobilistes qui vont en pâtir, cela devient impossible de se rendre en ville avec tout çà , ben vivement le Géant de Dumbéa  , sinon je vois bien des dos d'âne par tout , pour aller avec ceux de la VDE \n",
      "{'sentiment': {'document': {'score': 0.553892, 'label': 'positive'}}, 'usage': {'text_units': 1, 'features': 4, 'text_characters': 234}, 'entities': [], 'language': 'fr', 'categories': [{'score': 0.242774, 'label': '/science/ecology/waste management/recycling'}, {'score': 0.173695, 'label': '/technology and computing/consumer electronics/game systems and consoles/nintendo'}, {'score': 0.170449, 'label': '/pets/dogs'}], 'keywords': [{'text': \"dos d'âne\", 'relevance': 0.997845}]}\n",
      "Analyzing text... Ne peut on pas inverser Café et RDC espace public,situation centralisée vue sur mer proximité espaces verts  \n",
      "{'sentiment': {'document': {'score': 0.0, 'label': 'neutral'}}, 'usage': {'text_units': 1, 'features': 4, 'text_characters': 109}, 'entities': [{'text': 'RDC', 'sentiment': {'score': 0.0}, 'relevance': 0.978347, 'count': 1, 'disambiguation': {'subtype': ['Country']}, 'type': 'Location'}], 'language': 'fr', 'categories': [{'score': 0.273316, 'label': '/food and drink/beverages/non alcoholic beverages/coffee and tea'}, {'score': 0.107497, 'label': '/technology and computing'}, {'score': 0.0974238, 'label': '/art and entertainment/visual art and design/design'}], 'keywords': [{'text': 'proximité espaces verts', 'relevance': 0.944819}, {'text': 'RDC espace', 'relevance': 0.722029}]}\n",
      "Analyzing text... Cité de la création et de l'innovation, quel joli nom, ca pète! Mais ca sent la structure qui va couter un bras et qui finira vide avec un cout final qui ira encore engraisser les mêmes.. dommage.\n",
      "{'sentiment': {'document': {'score': 0.772979, 'label': 'positive'}}, 'usage': {'text_units': 1, 'features': 4, 'text_characters': 196}, 'entities': [], 'language': 'fr', 'categories': [{'score': 0.524177, 'label': '/society/sex'}, {'score': 0.400271, 'label': '/technology and computing/technological innovation'}, {'score': 0.261091, 'label': '/technology and computing/programming languages/c and c++'}], 'keywords': [{'text': 'joli nom', 'relevance': 0.944114}]}\n",
      "Analyzing text... Attention avec l’amphithéâtre flottant, on repart dans les mauvais travers..  Sur le papier ca fait rêver mais en pratique je pense que c'est une idée à la con.\n",
      "{'sentiment': {'document': {'score': 0.0, 'label': 'neutral'}}, 'usage': {'text_units': 1, 'features': 4, 'text_characters': 160}, 'entities': [], 'language': 'fr', 'categories': [{'score': 0.34201, 'label': '/art and entertainment/visual art and design'}, {'score': 0.252761, 'label': '/art and entertainment/theatre'}, {'score': 0.225597, 'label': '/news'}], 'keywords': [{'text': 'mauvais travers', 'relevance': 0.963779}]}\n",
      "Analyzing text... La passerelle végétalisé est une très bonne idée, tout comme le parc botanique! Enfin une idée qui donne l'impression d’être sortie de la tête de quelqu'un qui a un cerveau et qui sait s'en servir, bravo! Ca manque ici..\n",
      "{'sentiment': {'document': {'score': 0.360468, 'label': 'positive'}}, 'usage': {'text_units': 1, 'features': 4, 'text_characters': 220}, 'entities': [{'text': 'le parc', 'relevance': 0.978347, 'sentiment': {'score': 0.56991}, 'type': 'Facility', 'count': 1}], 'language': 'fr', 'categories': [{'score': 0.472635, 'label': '/travel/tourist destinations/national parks'}, {'score': 0.213376, 'label': '/home and garden'}, {'score': 0.213176, 'label': '/health and fitness/disease/cancer/brain tumor'}], 'keywords': [{'text': \"l'impression d’être sortie\", 'relevance': 0.911758}, {'text': 'parc botanique', 'relevance': 0.747549}]}\n",
      "Analyzing text... Tout ce qui va amener les gens à \"trainer\" ou à s'endormir sur place est à proscrire, notamment les hamacs, quelle idée! Le reste c'est top mais alors ca..\n",
      "\n"
     ]
    },
    {
     "name": "stdout",
     "output_type": "stream",
     "text": [
      "{'sentiment': {'document': {'score': 0.512805, 'label': 'positive'}}, 'usage': {'text_units': 1, 'features': 4, 'text_characters': 156}, 'entities': [], 'language': 'fr', 'categories': [{'score': 0.28927, 'label': '/home and garden/home furnishings/sofas and chairs'}, {'score': 0.127861, 'label': '/shopping/toys'}, {'score': 0.116132, 'label': '/sports/auto racing'}], 'keywords': [{'text': \"reste c'est top\", 'relevance': 0.980698}]}\n",
      "Analyzing text... Très bon projet, Il faut végétaliser et arborer le front de mer nouvellement crée!!! Et jusqu'à Port Moselle, afin de donner une unité à ce bord de mer et gommer cette image de \"tiers-monde\" qui est une honte lorsqu'on mise sur l'afflux de touristes (croisiéristes en l’occurrence)\n",
      "{'sentiment': {'document': {'score': 0.735504, 'label': 'positive'}}, 'usage': {'text_units': 1, 'features': 4, 'text_characters': 281}, 'entities': [], 'language': 'fr', 'categories': [{'score': 0.428631, 'label': '/sports/fishing/fly fishing'}, {'score': 0.378566, 'label': '/home and garden/gardening and landscaping/yard and patio'}, {'score': 0.309727, 'label': '/business and industrial/business operations/management/project management'}], 'keywords': [{'text': 'Très bon projet', 'relevance': 0.924539}]}\n",
      "Analyzing text... je m'interroge de l'interdiction des deux roues motorisé non superieur a 125 cm3 sur la portion de voie qui va du cht au rond point berthelot, et egalement sur la SAV. que va t il en etre dans votre projet ?\n",
      "{'sentiment': {'document': {'score': 0.0, 'label': 'neutral'}}, 'usage': {'text_units': 1, 'features': 4, 'text_characters': 207}, 'entities': [], 'language': 'fr', 'categories': [{'score': 0.70718, 'label': '/business and industrial/business operations/management/project management'}, {'score': 0.603186, 'label': '/automotive and vehicles/scooters and mopeds'}, {'score': 0.0890412, 'label': '/health and fitness/therapy'}], 'keywords': []}\n",
      "Analyzing text... Nouméa est une jolie petite ville qui le serait davantage si ses murs ne portaient d'affreux tags. Il ne devrait pas être permis de laisser ce phénomène se répandre sans mesures punitives. Tous les citoyens de cette ville ont le droit de vivre dans un environnement agréable et sain et tous ont le devoir de faire respecter cette aspiration de chacun.\n",
      "L'entrée nord sera belle si toute la ville est belle aussi.\n",
      "{'sentiment': {'document': {'score': 0.509649, 'label': 'positive'}}, 'usage': {'text_units': 1, 'features': 4, 'text_characters': 411}, 'entities': [{'text': 'Nouméa', 'relevance': 0.963296, 'sentiment': {'score': 0.0}, 'type': 'Person', 'count': 1}, {'text': 'nord', 'sentiment': {'score': 0.891874}, 'relevance': 0.0643585, 'count': 1, 'disambiguation': {'subtype': ['Region']}, 'type': 'Location'}], 'language': 'fr', 'categories': [{'score': 0.593341, 'label': '/travel/tourist destinations/australia and new zealand'}, {'score': 0.391497, 'label': '/family and parenting/children/daycare and preschool'}, {'score': 0.327775, 'label': '/education/adult education'}], 'keywords': [{'text': 'jolie petite ville', 'relevance': 0.956333}, {'text': 'environnement agréable', 'relevance': 0.751707}]}\n",
      "Analyzing text... Cette entrée sera très belle si les réaménagements et l'ensemble de l'environnement paysager et constructions diverses sont respectés et restent propres. Des propositions devront être faites et surtout mises en pratique en ce sens, sinon ce paradis deviendra vite un enfer\n",
      "{'sentiment': {'document': {'score': 0.649781, 'label': 'positive'}}, 'usage': {'text_units': 1, 'features': 4, 'text_characters': 272}, 'entities': [], 'language': 'fr', 'categories': [{'score': 0.311219, 'label': '/law, govt and politics/government/legislative'}, {'score': 0.305516, 'label': '/business and industrial'}, {'score': 0.243252, 'label': '/home and garden/gardening and landscaping/landscaping'}], 'keywords': []}\n",
      "Analyzing text... Pour quelle population les parkings sont-ils prévus ? Touristes ou/et habitants ? Seront-ils prévus sur plusieurs étages ? Cela permettrait de disposer d'un plus grand nombre de places et payants seront d'un bon apport pour leur entretien\n",
      "{'sentiment': {'document': {'score': 0.597222, 'label': 'positive'}}, 'usage': {'text_units': 1, 'features': 4, 'text_characters': 238}, 'entities': [], 'language': 'fr', 'categories': [{'score': 0.575845, 'label': '/finance/personal finance/financial planning/retirement and pension'}, {'score': 0.570514, 'label': '/travel/tourist destinations'}, {'score': 0.484973, 'label': '/home and garden/home furnishings/rugs and carpets'}], 'keywords': [{'text': 'parkings sont-ils prévus', 'relevance': 0.981808}, {'text': 'bon apport', 'relevance': 0.660615}]}\n",
      "Analyzing text... Est-il prévu une surveillance afin que les lieux restent propres et surtout qu'aucun tag ne viennent tout salir comme c'est le cas partout à Nouméa aujourd'hui\n",
      "Nous avons droit à un environnement agréable et sain.\n",
      "Merci\n",
      "{'sentiment': {'document': {'score': 0.856267, 'label': 'positive'}}, 'usage': {'text_units': 1, 'features': 4, 'text_characters': 219}, 'entities': [{'text': 'Nouméa', 'sentiment': {'score': 0.0}, 'relevance': 0.978347, 'count': 1, 'disambiguation': {'subtype': ['City']}, 'type': 'Location'}], 'language': 'fr', 'categories': [{'score': 0.181158, 'label': '/business and industrial'}, {'score': 0.150013, 'label': '/travel/tourist destinations/australia and new zealand'}, {'score': 0.147292, 'label': '/business and industrial/advertising and marketing/marketing'}], 'keywords': [{'text': 'environnement agréable', 'relevance': 0.930455}]}\n",
      "Analyzing text... Difficile de se faire une idée sur un plan plat. Un 3D sera surement plus concret et permettra de mieux visualiser vos propositions \n",
      "{'sentiment': {'document': {'score': 0.266352, 'label': 'positive'}}, 'usage': {'text_units': 1, 'features': 4, 'text_characters': 132}, 'entities': [], 'language': 'fr', 'categories': [{'score': 0.611214, 'label': '/law, govt and politics/government/legislative'}, {'score': 0.237831, 'label': '/business and industrial/business operations/business plans'}, {'score': 0.145304, 'label': '/business and industrial/construction'}], 'keywords': [{'text': 'plan plat', 'relevance': 0.988916}]}\n",
      "Analyzing text... Qu'est-ce qu'une piscine sur terrasse ?\n",
      "{'sentiment': {'document': {'score': 0.64062, 'label': 'positive'}}, 'usage': {'text_units': 1, 'features': 4, 'text_characters': 39}, 'entities': [{'text': 'piscine', 'relevance': 0.978347, 'sentiment': {'score': 0.702843}, 'type': 'Sport', 'count': 1}], 'language': 'fr', 'categories': [{'score': 0.94908, 'label': '/sports/swimming'}, {'score': 0.158566, 'label': '/home and garden/bed and bath/bathroom'}, {'score': 0.157207, 'label': '/home and garden'}], 'keywords': [{'text': \"Qu'est-ce qu'une piscine\", 'relevance': 0.931545}]}\n",
      "Analyzing text... Le plan est incompréhensible, il faudrait un avant et un après pour voir la différence. \n",
      "{'sentiment': {'document': {'score': 0.0, 'label': 'neutral'}}, 'usage': {'text_units': 1, 'features': 4, 'text_characters': 88}, 'entities': [], 'language': 'fr', 'categories': [{'score': 0.78697, 'label': '/business and industrial/business operations/business plans'}, {'score': 0.321746, 'label': '/finance/personal finance/debt management'}, {'score': 0.138613, 'label': '/finance/personal finance/financial planning/retirement and pension'}], 'keywords': [{'text': 'Le plan', 'relevance': 0.993163}]}\n",
      "Analyzing text... Je trouve excellente l'idée d'une vegetalisation forte du site, tout en lui conférant un statut de lieu de vie avec un amphithéâtre permettant la tenue d'événements. J'apprécie également qu'il n'y ait pas délimitation affirmée entre la terre et la mer rendant à l'espace côtier un statut de lieu de loisir un peu à l'australienne (aménagements urbains pour lesquels ils sont assez doués il faut le reconnaître)\n",
      "{'sentiment': {'document': {'score': 0.55308, 'label': 'positive'}}, 'usage': {'text_units': 1, 'features': 4, 'text_characters': 410}, 'entities': [], 'language': 'fr', 'categories': [{'score': 0.458106, 'label': '/art and entertainment/shows and events/circus'}, {'score': 0.338304, 'label': '/family and parenting/children'}, {'score': 0.313573, 'label': '/art and entertainment/shows and events/concert'}], 'keywords': [{'text': \"excellente l'idée d'une\", 'relevance': 0.96232}, {'text': \"également qu'il n'y\", 'relevance': 0.7773}]}\n",
      "Analyzing text... Dans la rade pourquoi pas un jet d'eau style jet d'eau de Genève ? \n"
     ]
    },
    {
     "name": "stdout",
     "output_type": "stream",
     "text": [
      "{'sentiment': {'document': {'score': 0.684425, 'label': 'positive'}}, 'usage': {'text_units': 1, 'features': 4, 'text_characters': 67}, 'entities': [{'text': 'Genève', 'sentiment': {'score': 0.716706}, 'relevance': 0.978347, 'count': 1, 'disambiguation': {'subtype': ['City']}, 'type': 'Location'}], 'language': 'fr', 'categories': [{'score': 0.81222, 'label': \"/style and fashion/men 's fashion\"}, {'score': 0.251345, 'label': '/style and fashion/clothing/wedding dresses'}, {'score': 0.127613, 'label': '/home and garden/home furnishings'}], 'keywords': [{'text': \"jet d'eau\", 'relevance': 0.931603}]}\n",
      "Analyzing text... Pourquoi ne pas aménager les quais citées en face , avec une passerelle piéton ?\n",
      "{'sentiment': {'document': {'score': 0.0, 'label': 'neutral'}}, 'usage': {'text_units': 1, 'features': 4, 'text_characters': 80}, 'entities': [], 'language': 'fr', 'categories': [{'score': 0.477193, 'label': '/automotive and vehicles/boats and watercraft'}, {'score': 0.216066, 'label': '/technology and computing/networking/vpn and remote access'}, {'score': 0.141435, 'label': '/technology and computing/hardware/computer'}], 'keywords': [{'text': 'passerelle piéton', 'relevance': 0.982066}]}\n",
      "Analyzing text... Parking en silo ?\n",
      "{'sentiment': {'document': {'score': 0.0, 'label': 'neutral'}}, 'usage': {'text_units': 1, 'features': 4, 'text_characters': 17}, 'entities': [], 'language': 'fr', 'categories': [{'score': 0.992168, 'label': '/home and garden/laundry'}, {'score': 0.0645927, 'label': '/automotive and vehicles/cars'}, {'score': 0.055119, 'label': '/home and garden/bed and bath/bedroom'}], 'keywords': []}\n",
      "Analyzing text... C'est difficile de visualiser juste avec le plan\n",
      "{'sentiment': {'document': {'score': -0.453069, 'label': 'negative'}}, 'usage': {'text_units': 1, 'features': 4, 'text_characters': 48}, 'entities': [], 'language': 'fr', 'categories': [{'score': 0.78697, 'label': '/business and industrial/business operations/business plans'}, {'score': 0.321746, 'label': '/finance/personal finance/debt management'}, {'score': 0.138613, 'label': '/finance/personal finance/financial planning/retirement and pension'}], 'keywords': [{'text': \"C'est difficile\", 'relevance': 0.993084}]}\n",
      "Analyzing text... je ne suis pas du pour mettre encore du logement dans les préfabriqués ... Un peu de verdure comme présenté plus haut allègerait  ce monstre de béton !\n",
      "Il y a suffisamment de logement de basse qualité autour pour en rajouter !!!\n",
      "\n",
      "{'sentiment': {'document': {'score': 0.525039, 'label': 'positive'}}, 'usage': {'text_units': 1, 'features': 4, 'text_characters': 229}, 'entities': [], 'language': 'fr', 'categories': [{'score': 0.815666, 'label': '/home and garden'}, {'score': 0.219085, 'label': '/home and garden/gardening and landscaping/landscaping'}, {'score': 0.152373, 'label': '/technology and computing/consumer electronics/audio equipment/headphones'}], 'keywords': []}\n",
      "Analyzing text... génial !!!\n",
      "\n",
      "{'sentiment': {'document': {'score': 0.937224, 'label': 'positive'}}, 'usage': {'text_units': 1, 'features': 4, 'text_characters': 11}, 'entities': [], 'language': 'fr', 'categories': [{'score': 0.654313, 'label': '/technology and computing/consumer electronics/tv and video equipment/televisions/lcd tvs'}, {'score': 0.200179, 'label': '/sports/snowboarding'}, {'score': 0.158801, 'label': '/shopping/resources/contests and freebies'}], 'keywords': []}\n",
      "Analyzing text... super sympa !!!\n",
      "\n",
      "{'sentiment': {'document': {'score': 0.977417, 'label': 'positive'}}, 'usage': {'text_units': 1, 'features': 4, 'text_characters': 16}, 'entities': [], 'language': 'fr', 'categories': [{'score': 0.630916, 'label': '/technology and computing/consumer electronics/game systems and consoles/nintendo'}, {'score': 0.129702, 'label': '/automotive and vehicles/vehicle brands/lamborghini'}, {'score': 0.125356, 'label': '/sports/auto racing'}], 'keywords': [{'text': 'super sympa', 'relevance': 0.993343}]}\n",
      "Analyzing text... merveilleux multi complexe !\n",
      "j'adore \n",
      "{'sentiment': {'document': {'score': 0.950987, 'label': 'positive'}}, 'usage': {'text_units': 1, 'features': 4, 'text_characters': 37}, 'entities': [], 'language': 'fr', 'categories': [], 'keywords': [{'text': 'merveilleux multi complexe', 'relevance': 0.967192}]}\n",
      "Analyzing text... Il faudrait regrouper les services administratifs recevant du public (impôts, mairie, ...) à l'entrée de la ville pour éviter de rentrer dans la ville.\n",
      "{'sentiment': {'document': {'score': 0.0, 'label': 'neutral'}}, 'usage': {'text_units': 1, 'features': 4, 'text_characters': 151}, 'entities': [], 'language': 'fr', 'categories': [{'score': 0.240047, 'label': '/business and industrial/business operations/human resources'}, {'score': 0.0972691, 'label': '/society/work/retirement'}, {'score': 0.0812038, 'label': '/finance'}], 'keywords': [{'text': 'services administratifs', 'relevance': 0.921519}]}\n",
      "Analyzing text... Attention au niveau de bruit généré par toutes ces infrastructures (pour que les gens puissent se détendre), au flux de déplacement des population dans cette espace (pour éviter que les gens se marchent dessus) et enfin à la sécurité des personnes (la délinquance est très présente en ville)\n",
      "{'sentiment': {'document': {'score': 0.441397, 'label': 'positive'}}, 'usage': {'text_units': 1, 'features': 4, 'text_characters': 291}, 'entities': [], 'language': 'fr', 'categories': [{'score': 0.107582, 'label': '/society/crime'}, {'score': 0.105663, 'label': '/health and fitness'}, {'score': 0.0968035, 'label': '/business and industrial/energy/electricity'}], 'keywords': [{'text': 'la délinquance', 'relevance': 0.960241}]}\n",
      "Analyzing text... Il faudrait que la SLN soit déménager à l'extérieur de la ville (par exemple à la place de l'usine de VALE actuelle) du fait de la pollution:\n",
      "- de l'air\n",
      "- visuelle\n",
      "- sonore\n",
      "{'sentiment': {'document': {'score': 0.557144, 'label': 'positive'}}, 'usage': {'text_units': 1, 'features': 4, 'text_characters': 172}, 'entities': [], 'language': 'fr', 'categories': [{'score': 0.834798, 'label': '/science/ecology/pollution'}, {'score': 0.12929, 'label': '/business and industrial/energy/nuclear power'}, {'score': 0.11432, 'label': '/home and garden'}], 'keywords': [{'text': 'VALE actuelle', 'relevance': 0.967288}]}\n",
      "Analyzing text... De bonnes idées dans l'ensemble mais au vu de la dernière grande houle je me dis que le jardin flottant c'est bien mais bon dans les mêmes conditions météorologiques que ceux de ce fameux soir ou même dans le cas d'un cyclone est-ce que cela va tenir ?! Parce-que une partie du littoral de l'entrée nord a été  ravager par la force des vagues. On peut nettement noté l'érosion de cette partie du littoral suite à cette grande houle. Sinon dans l'ensemble je trouve que c'est une bonne idée. Notamment d'intégrer un village océanien dans cet espace. Pour ce qui est des jets d'eaux je reste un peu perplexe. Mais j'attends de voir le résultat final. \n",
      "{'sentiment': {'document': {'score': 0.504648, 'label': 'positive'}}, 'usage': {'text_units': 1, 'features': 4, 'text_characters': 649}, 'entities': [{'text': 'cyclone', 'sentiment': {'score': 0.491065}, 'relevance': 0.963296, 'count': 1, 'disambiguation': {'subtype': ['NaturalDisaster']}, 'type': 'NaturalEvent'}, {'text': 'nord', 'sentiment': {'score': 0.0}, 'relevance': 0.600199, 'count': 1, 'disambiguation': {'subtype': ['Region']}, 'type': 'Location'}], 'language': 'fr', 'categories': [{'score': 0.576243, 'label': '/sports/surfing and bodyboarding'}, {'score': 0.49878, 'label': '/society/unrest and war'}, {'score': 0.493011, 'label': '/business and industrial/business operations/business plans'}], 'keywords': [{'text': 'grande houle', 'relevance': 0.906166}, {'text': 'littoral suite', 'relevance': 0.598559}]}\n",
      "Analyzing text... Vous avez ajouter ce qui selon moi manquait dans notre place des cocotiers : un espace dédier aux enfants, des abris (ce parasol géant c'est une superbe idée parce-qu'en Calédonie il pleut souvent et il est difficile de trouver un abris dans la place des cocotiers à part le kiosque à musique), un espace pour les artistes et même un marché. Cette végétation qui prend la place du bitume c'est parfait. C'est l'idée exact que je me fais d'une ville océanienne.  C'est exactement ce qui manque à notre centre ville. Un espace vert nous permettons de nous posé entre ami(e)s ou en famille. Un lieu de détente et par dessus tout conviviale. Impatiente de voir le résultat final. \n"
     ]
    },
    {
     "name": "stdout",
     "output_type": "stream",
     "text": [
      "{'sentiment': {'document': {'score': 0.756537, 'label': 'positive'}}, 'usage': {'text_units': 1, 'features': 4, 'text_characters': 676}, 'entities': [{'text': 'centre', 'sentiment': {'score': 0.45146}, 'relevance': 0.978347, 'count': 1, 'disambiguation': {'subtype': ['Region']}, 'type': 'Location'}], 'language': 'fr', 'categories': [{'score': 0.577394, 'label': '/health and fitness/weight loss'}, {'score': 0.575836, 'label': '/society/unrest and war'}, {'score': 0.509107, 'label': '/home and garden/home improvement and repair/roofing'}], 'keywords': [{'text': \"idée parce-qu'en calédonie\", 'relevance': 0.932219}, {'text': \"bitume c'est parfait\", 'relevance': 0.914579}]}\n",
      "Analyzing text... Très bonne idée de mélanger les activités liés à l'art, à la culture, à la recherche, au commerce et au travail au sein d'un même espace. C'est bien ce qui manquait à cette ville. Un pôle concentrant divers activités au sein de ce grand ensemble \"fantôme\"  qu'est l'ancien CHT. Impatiente de voir le résultat. \n",
      "{'sentiment': {'document': {'score': 0.714878, 'label': 'positive'}}, 'usage': {'text_units': 1, 'features': 4, 'text_characters': 310}, 'entities': [], 'language': 'fr', 'categories': [{'score': 0.44189, 'label': '/business and industrial/company/merger and acquisition'}, {'score': 0.228913, 'label': '/health and fitness/therapy'}, {'score': 0.152794, 'label': '/science'}], 'keywords': [{'text': 'Très bonne idée', 'relevance': 0.975723}, {'text': \"qu'est l'ancien cht\", 'relevance': 0.775837}]}\n",
      "Analyzing text... De bonnes idées dans l'ensemble mais au vu de la dernière grande houle je me dis que le jardin flottant c'est bien mais bon dans les mêmes conditions météorologiques que ceux de ce fameux soir ou même dans le cas d'un cyclone est-ce que cela va tenir ?! Parce-que une partie du littoral de l'entrée nord a été  ravager par la force des vagues. On peut nettement noté l'érosion de cette partie du littoral suite à cette grande houle. Sinon dans l'ensemble je trouve que c'est une bonne idée. Notamment d'intégrer un village océanien dans cet espace. Pour ce qui est des jets d'eaux je reste un peu perplexe. Mais j'attends de voir le résultat final. \n",
      "{'sentiment': {'document': {'score': 0.504648, 'label': 'positive'}}, 'usage': {'text_units': 1, 'features': 4, 'text_characters': 649}, 'entities': [{'text': 'cyclone', 'sentiment': {'score': 0.491065}, 'relevance': 0.963296, 'count': 1, 'disambiguation': {'subtype': ['NaturalDisaster']}, 'type': 'NaturalEvent'}, {'text': 'nord', 'sentiment': {'score': 0.0}, 'relevance': 0.600199, 'count': 1, 'disambiguation': {'subtype': ['Region']}, 'type': 'Location'}], 'language': 'fr', 'categories': [{'score': 0.576243, 'label': '/sports/surfing and bodyboarding'}, {'score': 0.49878, 'label': '/society/unrest and war'}, {'score': 0.493011, 'label': '/business and industrial/business operations/business plans'}], 'keywords': [{'text': 'grande houle', 'relevance': 0.906166}, {'text': 'littoral suite', 'relevance': 0.598559}]}\n",
      "Analyzing text... Vous avez ajouter ce qui selon moi manquait dans notre place des cocotiers : un espace dédier aux enfants, des abris (ce parasol géant c'est une superbe idée parce-qu'en Calédonie il pleut souvent et il est difficile de trouver un abris dans la place des cocotiers à part le kiosque à musique), un espace pour les artistes et même un marché. Cette végétation qui prend la place du bitume c'est parfait. C'est l'idée exact que je me fais d'une ville océanienne.  C'est exactement ce qui manque à notre centre ville. Un espace vert nous permettons de nous posé entre ami(e)s ou en famille. Un lieu de détente et par dessus tout conviviale. Impatiente de voir le résultat final. \n",
      "{'sentiment': {'document': {'score': 0.756537, 'label': 'positive'}}, 'usage': {'text_units': 1, 'features': 4, 'text_characters': 676}, 'entities': [{'text': 'centre', 'sentiment': {'score': 0.45146}, 'relevance': 0.978347, 'count': 1, 'disambiguation': {'subtype': ['Region']}, 'type': 'Location'}], 'language': 'fr', 'categories': [{'score': 0.577394, 'label': '/health and fitness/weight loss'}, {'score': 0.575836, 'label': '/society/unrest and war'}, {'score': 0.509107, 'label': '/home and garden/home improvement and repair/roofing'}], 'keywords': [{'text': \"idée parce-qu'en calédonie\", 'relevance': 0.932219}, {'text': \"bitume c'est parfait\", 'relevance': 0.914579}]}\n",
      "Analyzing text... Très bonne idée de mélanger les activités liés à l'art, à la culture, à la recherche, au commerce et au travail au sein d'un même espace. C'est bien ce qui manquait à cette ville. Un pôle concentrant divers activités au sein de ce grand ensemble \"fantôme\"  qu'est l'ancien CHT. Impatiente de voir le résultat. \n",
      "{'sentiment': {'document': {'score': 0.714878, 'label': 'positive'}}, 'usage': {'text_units': 1, 'features': 4, 'text_characters': 310}, 'entities': [], 'language': 'fr', 'categories': [{'score': 0.44189, 'label': '/business and industrial/company/merger and acquisition'}, {'score': 0.228913, 'label': '/health and fitness/therapy'}, {'score': 0.152794, 'label': '/science'}], 'keywords': [{'text': 'Très bonne idée', 'relevance': 0.975723}, {'text': \"qu'est l'ancien cht\", 'relevance': 0.775837}]}\n",
      "Analyzing text... Sypers idées au niveau cultute et environnement ! J'adore \n",
      "\n",
      "{'sentiment': {'document': {'score': 0.964816, 'label': 'positive'}}, 'usage': {'text_units': 1, 'features': 4, 'text_characters': 59}, 'entities': [], 'language': 'fr', 'categories': [{'score': 0.961813, 'label': '/technology and computing/computer certification'}, {'score': 0.222929, 'label': '/business and industrial'}, {'score': 0.0748233, 'label': '/science'}], 'keywords': [{'text': 'niveau cultute', 'relevance': 0.941253}]}\n",
      "Analyzing text... je ne comprends pas le projet concernant le Musée Maritime.\n",
      "{'sentiment': {'document': {'score': 0.0, 'label': 'neutral'}}, 'usage': {'text_units': 1, 'features': 4, 'text_characters': 59}, 'entities': [{'text': 'Musée Maritime', 'relevance': 0.978347, 'sentiment': {'score': -0.427403}, 'type': 'Facility', 'count': 1}], 'language': 'fr', 'categories': [{'score': 0.321183, 'label': '/science/social science/history/archaeology'}, {'score': 0.320492, 'label': '/business and industrial/shipbuilding'}, {'score': 0.227567, 'label': '/law, govt and politics/law enforcement/coast guard'}], 'keywords': [{'text': 'Musée Maritime', 'relevance': 0.972502}]}\n",
      "Analyzing text... Insuffisamment clair pour avoir un avis;\n",
      "{'sentiment': {'document': {'score': 0.0, 'label': 'neutral'}}, 'usage': {'text_units': 1, 'features': 4, 'text_characters': 40}, 'entities': [], 'language': 'fr', 'categories': [{'score': 0.801375, 'label': '/law, govt and politics/government'}, {'score': 0.593729, 'label': '/law, govt and politics'}, {'score': 0.0710895, 'label': '/health and fitness'}], 'keywords': []}\n",
      "Analyzing text... Est-ce bien le lieu pour des jardins potagers?\n",
      "12. les hamacs seront vandalisés en un rien de temps.\n",
      "5. Pourquoi pas du dur, type kiosque à musique?\n",
      "{'sentiment': {'document': {'score': 0.840057, 'label': 'positive'}}, 'usage': {'text_units': 1, 'features': 4, 'text_characters': 148}, 'entities': [], 'language': 'fr', 'categories': [{'score': 0.478379, 'label': '/law, govt and politics/law enforcement/police'}, {'score': 0.420157, 'label': '/home and garden/home furnishings/sofas and chairs'}, {'score': 0.364808, 'label': '/technology and computing/hardware/computer components/disks'}], 'keywords': [{'text': 'jardins potagers', 'relevance': 0.963535}]}\n",
      "Analyzing text... OK, mais je verrais mieux le café à proximité des espaces verts, et surtout face à la mer.\n",
      "{'sentiment': {'document': {'score': 0.0, 'label': 'neutral'}}, 'usage': {'text_units': 1, 'features': 4, 'text_characters': 90}, 'entities': [], 'language': 'fr', 'categories': [{'score': 0.909809, 'label': '/food and drink/beverages/non alcoholic beverages/coffee and tea'}, {'score': 0.0560333, 'label': '/food and drink'}, {'score': 0.0560222, 'label': '/business and industrial/agriculture and forestry/crops and seed'}], 'keywords': [{'text': 'espaces verts', 'relevance': 0.960228}]}\n",
      "Analyzing text... Les associations qui gèrent les manquements des collectivités publiques devraient être prioritaire pour occuper ces locaux, sous réserve qu'ils proposent des activités tout public: accueil des publics les plus en difficultés, déposer en demi-journee les enfants,les personnes âgées, handicapés, ou tout simplement un espace repos pour les personnes qui arrivent de brousse (pour quelques heurs de repos) et ont besoin d'un lieux accueillant mais pas excessif au niveau tarif avec douche publiques et espaces cafes\n"
     ]
    },
    {
     "name": "stdout",
     "output_type": "stream",
     "text": [
      "{'sentiment': {'document': {'score': 0.0, 'label': 'neutral'}}, 'usage': {'text_units': 1, 'features': 4, 'text_characters': 513}, 'entities': [{'text': 'brousse', 'relevance': 0.978347, 'sentiment': {'score': 0.476546}, 'type': 'Person', 'count': 1}], 'language': 'fr', 'categories': [{'score': 0.207426, 'label': '/family and parenting/children'}, {'score': 0.124738, 'label': '/home and garden/bed and bath/bedroom'}, {'score': 0.116846, 'label': '/home and garden/bed and bath/bathroom'}], 'keywords': [{'text': \"besoin d'un lieux\", 'relevance': 0.909626}, {'text': 'espace repos', 'relevance': 0.77495}]}\n",
      "Analyzing text... Espaces jardins vente expo pour les a autres communes du Sud, les communes du Nord et et iles \n",
      "{'sentiment': {'document': {'score': 0.0, 'label': 'neutral'}}, 'usage': {'text_units': 1, 'features': 4, 'text_characters': 94}, 'entities': [{'text': 'du Sud', 'sentiment': {'score': 0.0}, 'relevance': 0.963296, 'count': 1, 'disambiguation': {'subtype': ['Region']}, 'type': 'Location'}, {'text': 'du Nord', 'sentiment': {'score': 0.0}, 'relevance': 0.475973, 'count': 1, 'disambiguation': {'subtype': ['Region']}, 'type': 'Location'}], 'language': 'fr', 'categories': [{'score': 0.268035, 'label': '/law, govt and politics/government/parliament'}, {'score': 0.168087, 'label': '/automotive and vehicles/campers and rvs'}, {'score': 0.136955, 'label': '/business and industrial/agriculture and forestry/farms and ranches'}], 'keywords': [{'text': 'jardins vente expo', 'relevance': 0.907372}]}\n",
      "Analyzing text... Plutot un tunnel\n",
      "{'sentiment': {'document': {'score': 0.573129, 'label': 'positive'}}, 'usage': {'text_units': 1, 'features': 4, 'text_characters': 16}, 'entities': [], 'language': 'fr', 'categories': [{'score': 0.999851, 'label': '/technology and computing/networking/vpn and remote access'}, {'score': 0.016193, 'label': '/business and industrial/construction'}, {'score': 0.002939, 'label': '/technology and computing/hardware/computer networking/router'}], 'keywords': []}\n",
      "Analyzing text... Bar à sieste, ateliers:yoga, sport plein air taichi qi gong, Local aidant les personnes en voie de réinsertion pour des séances de relooking, journée coaching,  Base pour le samu social?\n",
      "{'sentiment': {'document': {'score': 0.492409, 'label': 'positive'}}, 'usage': {'text_units': 1, 'features': 4, 'text_characters': 186}, 'entities': [], 'language': 'fr', 'categories': [{'score': 0.674451, 'label': '/sports/martial arts'}, {'score': 0.237699, 'label': '/society'}, {'score': 0.209655, 'label': '/art and entertainment'}], 'keywords': [{'text': 'samu social', 'relevance': 0.950541}]}\n",
      "Analyzing text... Y aur-t-il ds logements types logements de concierges pour surveiller et accueillir et proposer différents services: allant de la garde d'enfant au  café ou services divers?\n",
      "{'sentiment': {'document': {'score': 0.0, 'label': 'neutral'}}, 'usage': {'text_units': 1, 'features': 4, 'text_characters': 173}, 'entities': [], 'language': 'fr', 'categories': [{'score': 0.961449, 'label': '/home and garden'}, {'score': 0.0690969, 'label': '/food and drink/beverages/non alcoholic beverages/coffee and tea'}, {'score': 0.0621264, 'label': '/family and parenting/children'}], 'keywords': [{'text': 'ds logements types', 'relevance': 0.911931}]}\n",
      "Analyzing text... prévoir un espace résidentiel dans une zone concentrant les nuisances sonores il faut etre très haut! mêmes défauts que les pacifique arcade\n",
      "\n",
      "{'sentiment': {'document': {'score': 0.0, 'label': 'neutral'}}, 'usage': {'text_units': 1, 'features': 4, 'text_characters': 141}, 'entities': [], 'language': 'fr', 'categories': [{'score': 0.520176, 'label': '/health and fitness/disease/deafness'}, {'score': 0.268904, 'label': '/business and industrial/aerospace and defense/space technology'}, {'score': 0.266334, 'label': '/health and fitness/disorders'}], 'keywords': [{'text': 'espace résidentiel', 'relevance': 0.917599}]}\n",
      "Analyzing text... passerelle pour rejoindre le bord de mer agrandi interessant\n",
      "{'sentiment': {'document': {'score': 0.82463, 'label': 'positive'}}, 'usage': {'text_units': 1, 'features': 4, 'text_characters': 60}, 'entities': [], 'language': 'fr', 'categories': [{'score': 0.43021, 'label': '/technology and computing'}, {'score': 0.340975, 'label': '/technology and computing/networking/vpn and remote access'}, {'score': 0.203681, 'label': '/technology and computing/hardware/computer/portable computer/laptop'}], 'keywords': []}\n",
      "Analyzing text... quand un bateau de croisière utilise la baie ne serait il pas judicieux d'envisager une zone d'accueil ombragée cafés terrasse sur le bord de mer une passerelle au dessus de la voie de dégagement pour rejoindre le complexe GB ou sont les parkings? ou sont les rues pietonnes pour rejoindre le centre ville\n",
      "{'sentiment': {'document': {'score': 0.0, 'label': 'neutral'}}, 'usage': {'text_units': 1, 'features': 4, 'text_characters': 305}, 'entities': [{'text': 'centre', 'sentiment': {'score': 0.540486}, 'relevance': 0.978347, 'count': 1, 'disambiguation': {'subtype': ['Region']}, 'type': 'Location'}], 'language': 'fr', 'categories': [{'score': 0.286444, 'label': '/home and garden/gardening and landscaping/yard and patio'}, {'score': 0.189501, 'label': '/travel/tourist facilities/hotel'}, {'score': 0.169714, 'label': '/home and garden'}], 'keywords': [{'text': 'ombragée cafés terrasse', 'relevance': 0.928706}, {'text': 'complexe gb', 'relevance': 0.705114}]}\n",
      "Analyzing text... Que devient les places de parking actuelles? Où vont se garer les personnes qui y stationnent actuellement?\n",
      "{'sentiment': {'document': {'score': -0.461327, 'label': 'negative'}}, 'usage': {'text_units': 1, 'features': 4, 'text_characters': 107}, 'entities': [], 'language': 'fr', 'categories': [{'score': 0.636187, 'label': '/travel/tourist destinations/national parks'}, {'score': 0.406469, 'label': '/travel/transports/air travel/airports'}, {'score': 0.396333, 'label': '/home and garden/laundry'}], 'keywords': [{'text': 'parking actuelles', 'relevance': 0.979297}]}\n",
      "Analyzing text... Il faudrait peut être garder quelques places de parking.. ..\n",
      "{'sentiment': {'document': {'score': 0.0, 'label': 'neutral'}}, 'usage': {'text_units': 1, 'features': 4, 'text_characters': 60}, 'entities': [], 'language': 'fr', 'categories': [{'score': 0.368274, 'label': '/automotive and vehicles/cars'}, {'score': 0.284852, 'label': '/business and industrial/energy/electricity'}, {'score': 0.183763, 'label': '/travel/hotels'}], 'keywords': []}\n",
      "Analyzing text... N est ce pas un peu ambitieux pour une population de 300000 personnes? Ouvrons nos frontières pour devenir 5000000 !\n",
      "{'sentiment': {'document': {'score': 0.517126, 'label': 'positive'}}, 'usage': {'text_units': 1, 'features': 4, 'text_characters': 116}, 'entities': [], 'language': 'fr', 'categories': [{'score': 0.447726, 'label': '/science/medicine/genetics'}, {'score': 0.409964, 'label': '/business and industrial/agriculture and forestry/food production'}, {'score': 0.372243, 'label': '/health and fitness/aging'}], 'keywords': []}\n",
      "Analyzing text... Tout mobilier urbain permettant le squat des sdf me semble dangereux \n",
      "{'sentiment': {'document': {'score': 0.0, 'label': 'neutral'}}, 'usage': {'text_units': 1, 'features': 4, 'text_characters': 69}, 'entities': [], 'language': 'fr', 'categories': [{'score': 0.999054, 'label': '/home and garden/home furnishings'}, {'score': 0.0125663, 'label': '/home and garden'}, {'score': 0.00925183, 'label': '/business and industrial/agriculture and forestry/forestry'}], 'keywords': [{'text': 'mobilier urbain', 'relevance': 0.907758}]}\n",
      "Analyzing text... Ça suffit avec les hôtels désespérément vides !\n",
      "Ne pas dédier de logement sur ce site.\n",
      "Attribuer des \"espaces\" pour la recherche médicale, scientifique et environnementale que nous nous emploierions à regrouper ou reprocher afin de favoriser les échanges entre les différents centres de recherche.\n",
      "{'sentiment': {'document': {'score': -0.515922, 'label': 'negative'}}, 'usage': {'text_units': 1, 'features': 4, 'text_characters': 297}, 'entities': [], 'language': 'fr', 'categories': [{'score': 0.577776, 'label': '/home and garden'}, {'score': 0.577435, 'label': '/travel/hotels'}, {'score': 0.461615, 'label': '/science/medicine/medical research'}], 'keywords': [{'text': 'recherche médicale', 'relevance': 0.950462}]}\n",
      "Analyzing text... Pas de \"roulottes\" mais plus des petits resto comme sur la BD Citrons.\n",
      "Pas de hamac, histoire de ne pas voir s'éterniser des \"squatters\".\n"
     ]
    },
    {
     "name": "stdout",
     "output_type": "stream",
     "text": [
      "{'sentiment': {'document': {'score': 0.0, 'label': 'neutral'}}, 'usage': {'text_units': 1, 'features': 4, 'text_characters': 137}, 'entities': [], 'language': 'fr', 'categories': [{'score': 0.423741, 'label': '/food and drink/food/condiments and dressings'}, {'score': 0.353675, 'label': '/home and garden'}, {'score': 0.247972, 'label': '/science/social science/history'}], 'keywords': [{'text': 'petits resto', 'relevance': 0.987451}]}\n",
      "Analyzing text... Cafétéria trop loin de l'entrée principale, au milieu du complexe serait mieux approprié.\n",
      "La maison du projet devrait se trouver à l'entrée principale.\n",
      "{'sentiment': {'document': {'score': 0.0, 'label': 'neutral'}}, 'usage': {'text_units': 1, 'features': 4, 'text_characters': 151}, 'entities': [{'text': 'La maison', 'relevance': 0.978347, 'sentiment': {'score': 0.642529}, 'type': 'Facility', 'count': 1}], 'language': 'fr', 'categories': [{'score': 0.383716, 'label': '/science/social science/history/prehistory'}, {'score': 0.344996, 'label': '/art and entertainment/visual art and design/design'}, {'score': 0.320081, 'label': '/business and industrial/construction'}], 'keywords': [{'text': \"l'entrée principale\", 'relevance': 0.923314}]}\n",
      "Analyzing text... Pas de treillis avec hamac car ils risquent d être squattés la nuit\n",
      "{'sentiment': {'document': {'score': 0.0, 'label': 'neutral'}}, 'usage': {'text_units': 1, 'features': 4, 'text_characters': 67}, 'entities': [], 'language': 'fr', 'categories': [{'score': 0.998598, 'label': '/home and garden/home furnishings/sofas and chairs'}, {'score': 0.0232081, 'label': '/travel/tourist facilities/camping'}, {'score': 0.0222896, 'label': '/home and garden/gardening and landscaping/yard and patio'}], 'keywords': []}\n",
      "Analyzing text... les batiments non classés du CHT devraient être remplacé par des espaces verts ou jardins familiaux, limitant \"le dédale\" et permettant aux autres bâtiment de mieux respirer\n",
      "{'sentiment': {'document': {'score': 0.0, 'label': 'neutral'}}, 'usage': {'text_units': 1, 'features': 4, 'text_characters': 173}, 'entities': [], 'language': 'fr', 'categories': [{'score': 0.136713, 'label': '/business and industrial'}, {'score': 0.119282, 'label': '/health and fitness'}, {'score': 0.106405, 'label': '/health and fitness/therapy'}], 'keywords': [{'text': 'espaces verts', 'relevance': 0.920842}, {'text': 'jardins familiaux', 'relevance': 0.84942}]}\n",
      "Analyzing text... 1. éviter la \"végétalisation\" excessive : mieux vaut une jolie passerelle non végétalisée, qu'une végétalisée qui ne tienne pas dans le temps / nécessite trop d'entretien\n",
      "2. ainsi placée, la passerelle transforme l'ex-CHT en un lieu de passage fréquenté, ce qui n'est pas cohérent avec ses passages relativement étroits et ses multiples recoins (veiller à ne pas en faire une zone d'insécurité/incivilités et/ou complexe à surveiller)\n",
      "{'sentiment': {'document': {'score': 0.0, 'label': 'neutral'}}, 'usage': {'text_units': 1, 'features': 4, 'text_characters': 434}, 'entities': [], 'language': 'fr', 'categories': [{'score': 0.305579, 'label': '/home and garden/home improvement and repair/roofing'}, {'score': 0.137985, 'label': '/health and fitness'}, {'score': 0.120932, 'label': '/education'}], 'keywords': [{'text': \"passerelle transforme l'ex-CHT\", 'relevance': 0.924644}, {'text': 'jolie passerelle', 'relevance': 0.781208}]}\n",
      "Analyzing text... minimiser les investissements destinés à un usage temporaire\n",
      "{'sentiment': {'document': {'score': 0.446159, 'label': 'positive'}}, 'usage': {'text_units': 1, 'features': 4, 'text_characters': 60}, 'entities': [], 'language': 'fr', 'categories': [], 'keywords': [{'text': 'investissements destinés', 'relevance': 0.965716}]}\n",
      "Analyzing text... Il faut du parking pour re dynamiser le centre !!\n",
      "{'sentiment': {'document': {'score': 0.452274, 'label': 'positive'}}, 'usage': {'text_units': 1, 'features': 4, 'text_characters': 49}, 'entities': [{'text': 'centre', 'sentiment': {'score': 0.0}, 'relevance': 0.978347, 'count': 1, 'disambiguation': {'subtype': ['Region']}, 'type': 'Location'}], 'language': 'fr', 'categories': [{'score': 0.256141, 'label': '/travel/transports/public transport'}, {'score': 0.185003, 'label': '/home and garden/laundry'}, {'score': 0.172281, 'label': '/travel/transports/air travel/airports'}], 'keywords': []}\n",
      "Analyzing text... Pour l'espace artistique, la présence d'un atelier de fabrication avec des machine en libre partage sera bien utile !\n",
      "{'sentiment': {'document': {'score': 0.862409, 'label': 'positive'}}, 'usage': {'text_units': 1, 'features': 4, 'text_characters': 117}, 'entities': [], 'language': 'fr', 'categories': [{'score': 0.426338, 'label': '/business and industrial/manufacturing'}, {'score': 0.19126, 'label': '/technology and computing'}, {'score': 0.151018, 'label': '/business and industrial'}], 'keywords': []}\n",
      "Analyzing text... Les musées\n",
      " ne sont pas très visités\n",
      " en Calédonie\n",
      "{'sentiment': {'document': {'score': -0.294533, 'label': 'negative'}}, 'usage': {'text_units': 1, 'features': 4, 'text_characters': 50}, 'entities': [{'text': 'Calédonie', 'sentiment': {'score': 0.0}, 'relevance': 0.978347, 'count': 1, 'disambiguation': {'subtype': ['City']}, 'type': 'Location'}], 'language': 'fr', 'categories': [{'score': 0.643123, 'label': '/travel/tourist destinations/australia and new zealand'}, {'score': 0.396531, 'label': '/art and entertainment/visual art and design/art museums and galleries'}, {'score': 0.176666, 'label': '/travel/tourist destinations'}], 'keywords': [{'text': 'Les musées', 'relevance': 0.999615}]}\n",
      "Analyzing text... Jardinière mobile facilement sujette au vol ? \n",
      "{'sentiment': {'document': {'score': 0.0, 'label': 'neutral'}}, 'usage': {'text_units': 1, 'features': 4, 'text_characters': 46}, 'entities': [], 'language': 'fr', 'categories': [{'score': 0.88228, 'label': '/society/crime/property crime/larceny'}, {'score': 0.32444, 'label': '/technology and computing/consumer electronics/telephones/mobile phones'}, {'score': 0.049305, 'label': '/technology and computing'}], 'keywords': [{'text': 'Jardinière mobile', 'relevance': 0.843054}]}\n",
      "Analyzing text... Plus d'espaces vert \n",
      "{'sentiment': {'document': {'score': 0.0, 'label': 'neutral'}}, 'usage': {'text_units': 1, 'features': 4, 'text_characters': 20}, 'entities': [], 'language': 'fr', 'categories': [{'score': 0.467543, 'label': '/business and industrial/green solutions'}, {'score': 0.291975, 'label': '/food and drink/beverages/non alcoholic beverages/coffee and tea'}, {'score': 0.209568, 'label': '/art and entertainment/visual art and design/design/interior design'}], 'keywords': [{'text': \"d'espaces vert\", 'relevance': 0.925016}]}\n",
      "Analyzing text... oui bonne idée pour l'utilisation des bâtis pour les professionnels. Mais le loisir n'aura pas assez d'attrait\n",
      "{'sentiment': {'document': {'score': 0.00732592, 'label': 'positive'}}, 'usage': {'text_units': 1, 'features': 4, 'text_characters': 110}, 'entities': [], 'language': 'fr', 'categories': [{'score': 0.448645, 'label': '/business and industrial/business operations/business plans'}, {'score': 0.240548, 'label': '/real estate/buying and selling homes'}, {'score': 0.164304, 'label': '/technology and computing/hardware/computer/portable computer'}], 'keywords': [{'text': 'bonne idée', 'relevance': 0.995117}]}\n",
      "Analyzing text... C'est un espace qui a vue sur la SLN, a droite la vue est bouché et à gauche le port de commerce. Sans compter l'eau qui est pollué de la SLN, il y a des centaines de baie plus attirante que ça en calédonie. A mon avis le lieu aura beau etre habilité de la meilleur manière qui soit, il n'y aura jamais personne pour y venir.\n",
      "{'sentiment': {'document': {'score': 0.0, 'label': 'neutral'}}, 'usage': {'text_units': 1, 'features': 4, 'text_characters': 325}, 'entities': [], 'language': 'fr', 'categories': [{'score': 0.620404, 'label': '/health and fitness/sexuality'}, {'score': 0.54679, 'label': '/science/ecology/pollution'}, {'score': 0.408031, 'label': '/travel/tourist destinations/australia and new zealand'}], 'keywords': [{'text': 'meilleur manière', 'relevance': 0.870986}]}\n",
      "Analyzing text... C'est un espace qui a vue sur la SLN, a droite la vue est bouché et à gauche le port de commerce. Sans compter l'eau qui est pollué de la SLN, il y a des centaines de baie plus attirante que ça en calédonie. A mon avis le lieu aura beau etre habilité de la meilleur manière qui soit, il n'y aura jamais personne pour y venir.\n"
     ]
    },
    {
     "name": "stdout",
     "output_type": "stream",
     "text": [
      "{'sentiment': {'document': {'score': 0.0, 'label': 'neutral'}}, 'usage': {'text_units': 1, 'features': 4, 'text_characters': 325}, 'entities': [], 'language': 'fr', 'categories': [{'score': 0.620404, 'label': '/health and fitness/sexuality'}, {'score': 0.54679, 'label': '/science/ecology/pollution'}, {'score': 0.408031, 'label': '/travel/tourist destinations/australia and new zealand'}], 'keywords': [{'text': 'meilleur manière', 'relevance': 0.870986}]}\n",
      "Analyzing text... C'est un espace qui a vue sur la SLN, a droite la vue est bouché et à gauche le port de commerce. Sans compter l'eau qui est pollué de la SLN, il y a des centaines de baie plus attirante que ça en calédonie. A mon avis le lieu aura beau etre habilité de la meilleur manière qui soit, il n'y aura jamais personne pour y venir.\n",
      "{'sentiment': {'document': {'score': 0.0, 'label': 'neutral'}}, 'usage': {'text_units': 1, 'features': 4, 'text_characters': 325}, 'entities': [], 'language': 'fr', 'categories': [{'score': 0.620404, 'label': '/health and fitness/sexuality'}, {'score': 0.54679, 'label': '/science/ecology/pollution'}, {'score': 0.408031, 'label': '/travel/tourist destinations/australia and new zealand'}], 'keywords': [{'text': 'meilleur manière', 'relevance': 0.870986}]}\n",
      "Analyzing text... Quel usage collectif pourrait être mis en place à proximité de logement et d'une voie? Plutôt envisage un espace vert avec jeux pour enfants.\n",
      "{'sentiment': {'document': {'score': 0.0, 'label': 'neutral'}}, 'usage': {'text_units': 1, 'features': 4, 'text_characters': 141}, 'entities': [], 'language': 'fr', 'categories': [{'score': 0.670624, 'label': '/family and parenting/children'}, {'score': 0.568541, 'label': '/home and garden'}, {'score': 0.188524, 'label': '/home and garden/gardening and landscaping/landscaping'}], 'keywords': [{'text': 'usage collectif', 'relevance': 0.904283}]}\n",
      "Analyzing text... Les aménagements proposés pourraient permettre de donner une autre image de l'entrée nord et être un nouvel endroit sympa à fréquenter \n",
      "{'sentiment': {'document': {'score': 0.701808, 'label': 'positive'}}, 'usage': {'text_units': 1, 'features': 4, 'text_characters': 135}, 'entities': [{'text': 'nord', 'sentiment': {'score': 0.701808}, 'relevance': 0.978347, 'count': 1, 'disambiguation': {'subtype': ['Region']}, 'type': 'Location'}], 'language': 'fr', 'categories': [{'score': 0.368975, 'label': '/technology and computing/consumer electronics/camera and photo equipment/telescopes'}, {'score': 0.232905, 'label': '/real estate/low income housing'}, {'score': 0.219313, 'label': '/home and garden'}], 'keywords': [{'text': 'Les aménagements proposés', 'relevance': 0.922954}, {'text': 'nouvel endroit', 'relevance': 0.583543}]}\n",
      "Analyzing text... Les travaux pour le neobus est en cours. Si le souhait est de déplacer son tracé, il faudrait le faire de suite et éviter les doubles dépenses.\n",
      "{'sentiment': {'document': {'score': 0.0, 'label': 'neutral'}}, 'usage': {'text_units': 1, 'features': 4, 'text_characters': 143}, 'entities': [], 'language': 'fr', 'categories': [{'score': 0.214322, 'label': '/business and industrial/energy/oil/oil and gas prices'}, {'score': 0.144359, 'label': '/society/unrest and war'}, {'score': 0.135371, 'label': '/society/work/retirement'}], 'keywords': [{'text': 'Les travaux', 'relevance': 0.994822}]}\n",
      "Analyzing text... Le projet prévoit la rénovation des bâtiments à haute valeur patrimoniale. Cependant, la vocation envisagée n'est pas précisée.  Qu' est il proposé à l'issue de la rénovation? Un musee? Un Hotel? Cela pourrait être sympa dans des bâtiments historique.\n",
      "Aussi, l'emplacement des cafés serait mieux à la place de l'espace recherche scientifique et en face de la maison d'expo. Ils se situent en continuité du hall dédiée aux commerces et jardins. \n",
      "Enfin, que doit on entendre par espace pluriel?\n",
      "{'sentiment': {'document': {'score': 0.61272, 'label': 'positive'}}, 'usage': {'text_units': 1, 'features': 4, 'text_characters': 492}, 'entities': [{'text': 'la maison', 'relevance': 0.978347, 'sentiment': {'score': 0.0}, 'type': 'Facility', 'count': 1}], 'language': 'fr', 'categories': [{'score': 0.579987, 'label': '/science/social science/history'}, {'score': 0.577418, 'label': '/travel/tourist facilities/hotel'}, {'score': 0.52734, 'label': '/religion and spirituality/christianity/catholicism'}], 'keywords': [{'text': \"vocation envisagée n'est\", 'relevance': 0.975478}, {'text': 'haute valeur patrimoniale', 'relevance': 0.949965}]}\n",
      "Analyzing text... Y aura t-il des espaces de jeu pour les enfants? \n",
      "{'sentiment': {'document': {'score': 0.0, 'label': 'neutral'}}, 'usage': {'text_units': 1, 'features': 4, 'text_characters': 49}, 'entities': [], 'language': 'fr', 'categories': [{'score': 0.997428, 'label': '/family and parenting/children'}, {'score': 0.0464491, 'label': '/home and garden/home furnishings'}, {'score': 0.0197375, 'label': '/technology and computing/software/databases'}], 'keywords': []}\n",
      "Analyzing text... J'aime toutes vos idées !\n",
      "{'sentiment': {'document': {'score': 0.958215, 'label': 'positive'}}, 'usage': {'text_units': 1, 'features': 4, 'text_characters': 25}, 'entities': [], 'language': 'fr', 'categories': [], 'keywords': []}\n",
      "Analyzing text... Très bonne idée mais par contre la vidéo craint du boudin, faites quelque chose à votre responsable comm s'il vous plait !\n",
      "{'sentiment': {'document': {'score': 0.712067, 'label': 'positive'}}, 'usage': {'text_units': 1, 'features': 4, 'text_characters': 122}, 'entities': [], 'language': 'fr', 'categories': [{'score': 0.424074, 'label': '/business and industrial/business operations/business plans'}, {'score': 0.189974, 'label': '/health and fitness/exercise'}, {'score': 0.150329, 'label': '/technology and computing/hardware/computer'}], 'keywords': [{'text': 'Très bonne idée', 'relevance': 0.95615}]}\n",
      "Analyzing text... RDC aménagé en grande salle de spectacle (comparable aux Arène du Sud ) pas de grande salle actuellement sur Nouméa.\n",
      "{'sentiment': {'document': {'score': 0.0, 'label': 'neutral'}}, 'usage': {'text_units': 1, 'features': 4, 'text_characters': 116}, 'entities': [{'text': 'RDC', 'sentiment': {'score': 0.587998}, 'relevance': 0.963296, 'count': 1, 'disambiguation': {'subtype': ['Country']}, 'type': 'Location'}, {'text': 'du Sud', 'sentiment': {'score': 0.0}, 'relevance': 0.793458, 'count': 1, 'disambiguation': {'subtype': ['Region']}, 'type': 'Location'}], 'language': 'fr', 'categories': [{'score': 0.662165, 'label': '/home and garden/bed and bath/bedroom'}, {'score': 0.30003, 'label': '/technology and computing/internet technology/chat'}, {'score': 0.297325, 'label': '/travel/tourist facilities/hotel'}], 'keywords': [{'text': 'grande salle', 'relevance': 0.980051}]}\n",
      "Analyzing text... Les jardins partagés potager c est vraiment une bonne idee \n",
      "{'sentiment': {'document': {'score': 0.83315, 'label': 'positive'}}, 'usage': {'text_units': 1, 'features': 4, 'text_characters': 59}, 'entities': [], 'language': 'fr', 'categories': [{'score': 0.996361, 'label': '/home and garden'}, {'score': 0.0181659, 'label': '/business and industrial/business operations/business plans'}, {'score': 0.00914578, 'label': '/society/social institution/marriage/weddings'}], 'keywords': [{'text': 'Les jardins partagés', 'relevance': 0.976701}]}\n",
      "Analyzing text... plutôt que des jardins suspendus (attention à la situation/exposition aux vent, ...) préférez des noues ou autres storm garden, le skate park peut etre concu en ce sens (inondable). le théâtre flottant... bof. le quai flottant c'est génial, mais toujours pareil connaissant bien la zone... quand il y a un coup d'ouest il y a beaucoup de vague.\n",
      "{'sentiment': {'document': {'score': 0.0, 'label': 'neutral'}}, 'usage': {'text_units': 1, 'features': 4, 'text_characters': 344}, 'entities': [{'text': 'skate park', 'relevance': 0.978347, 'sentiment': {'score': 0.0}, 'type': 'Facility', 'count': 1}], 'language': 'fr', 'categories': [{'score': 0.576941, 'label': '/art and entertainment/theatre'}, {'score': 0.230163, 'label': '/science/weather/meteorological disaster/flood'}, {'score': 0.193506, 'label': '/automotive and vehicles/boats and watercraft'}], 'keywords': [{'text': \"c'est génial\", 'relevance': 0.919966}, {'text': 'storm garden', 'relevance': 0.886294}]}\n",
      "Analyzing text... l'intermodalité Néobus/gare routière va de soi. dommage que cela ne prenne pas une place plus \"centrale\" avec animation urbaines et activités pour garder le lieu vivant, là il parait encaissé (trop de souvenir de retour en 98/99 du Lycée agricole à la gare routière à coté des pompier en mode glauque et abandonnée), le choix n'est peut etre pas evident si on considère le tracé d'insertion urbaine du TCSP. dommage on ne sent pas si il y a des intention de reconnecter la place des cocotier au front de mer Nord par un maillage piéton mais ce sentiment n'est peut être pas justifié...\n"
     ]
    },
    {
     "name": "stdout",
     "output_type": "stream",
     "text": [
      "{'sentiment': {'document': {'score': 0.0, 'label': 'neutral'}}, 'usage': {'text_units': 1, 'features': 4, 'text_characters': 585}, 'entities': [{'text': 'Nord', 'sentiment': {'score': 0.0}, 'relevance': 0.141391, 'count': 1, 'disambiguation': {'subtype': ['Region']}, 'type': 'Location'}], 'language': 'fr', 'categories': [{'score': 0.655942, 'label': '/sports/auto racing'}, {'score': 0.212407, 'label': '/travel/tourist facilities/hotel'}, {'score': 0.107724, 'label': '/business and industrial/energy/oil'}], 'keywords': [{'text': \"tracé d'insertion urbaine\", 'relevance': 0.919178}, {'text': 'animation urbaines', 'relevance': 0.789869}]}\n",
      "Analyzing text... des idées intéressantes mais couteuses pour certaines, particulièrement le mur végétalisé anti bruit non efficace, couteux en mise en oeuvre et en entretien. la durabilité surtout sur ce secteur exposé au vent n'est pas des plus judicieux.\n",
      "je ne crois pas au système d'agriculture urbaine sur espace public, dans ce contexte, ça fonctionnera pas avec la culture locale (notion de propriété, usage, gestion, ...) cette thématique à plus sa place dans des programmes sociaux de logements type jardins familliaux, ...). Il faut mettre l'accent sur l'intermodalité avec la station Néobus (continuité piétonne, valorisation modes doux, aire de covoiturage)\n",
      "{'sentiment': {'document': {'score': 0.52236, 'label': 'positive'}}, 'usage': {'text_units': 1, 'features': 4, 'text_characters': 651}, 'entities': [], 'language': 'fr', 'categories': [{'score': 0.453935, 'label': '/sports/sailing'}, {'score': 0.384051, 'label': '/technology and computing/enterprise technology/enterprise resource planning'}, {'score': 0.159622, 'label': '/science/weather'}], 'keywords': [{'text': 'logements type jardins', 'relevance': 0.947168}, {'text': 'valorisation modes doux', 'relevance': 0.943865}]}\n",
      "Analyzing text... Cet espace devrait être l'aboutissement d'une vision de la ville entière, ce que l'on ne ressent pas. On a l'impression que l'on a rempli certaines cases par défaut de mieux...\n",
      "{'sentiment': {'document': {'score': 0.0, 'label': 'neutral'}}, 'usage': {'text_units': 1, 'features': 4, 'text_characters': 176}, 'entities': [], 'language': 'fr', 'categories': [{'score': 0.563039, 'label': '/technology and computing/consumer electronics/tv and video equipment/dvrs and set-top boxes'}, {'score': 0.175409, 'label': '/business and industrial/business operations/business plans'}, {'score': 0.15763, 'label': '/art and entertainment/shows and events/exhibition'}], 'keywords': [{'text': \"l'aboutissement d'une vision\", 'relevance': 0.908005}]}\n",
      "Analyzing text... Quelle est l'idée Générale ? Quel est le lien avec le centre-ville ancien et le patrimoine industriel de l'autre côté de la rade ? Quel public pour investir ces lieux et ne pas en faire des espaces dévitalisés ?  Qui va gérer ou vouloir investir ? Il me semble que la proposition relève davantage d'un urbanisme standardisé (ce projet pourrait être repris tel quel partout dans le monde...d'ailleurs il doit peu ou prou déjà exister, suffit de renommer village océanien par un autre nom) que dans la réponse aux attentes des nouméens et d'un levier qui pourrait économiquement et qualitativement renforcer l'avenir de la ville et de ses habitants.\n",
      "{'sentiment': {'document': {'score': 0.520843, 'label': 'positive'}}, 'usage': {'text_units': 1, 'features': 4, 'text_characters': 647}, 'entities': [{'text': 'océanien', 'relevance': 0.978347, 'sentiment': {'score': 0.0}, 'type': 'GeographicFeature', 'count': 1}], 'language': 'fr', 'categories': [{'score': 0.577505, 'label': '/business and industrial/energy/coal'}, {'score': 0.508145, 'label': '/finance/investing/funds/mutual funds'}, {'score': 0.2928, 'label': '/health and fitness/disease'}], 'keywords': [{'text': 'centre-ville ancien', 'relevance': 0.915475}, {'text': 'patrimoine industriel', 'relevance': 0.892136}]}\n",
      "Analyzing text... La réussite du projet tient en partie à l'offre de stationnement qui sera développée, et ce d'autant plus que l'on est dans un secteur de HUB transport public. Egalement, le rôle et le gabarit des voies jalonnant le site doit être mesuré et hiérarchisé afin de rapprocher aménagement et usage et ce notamment vis-à-vis de la qualité de l'espace public: il ne faut pas que se site devienne un ilot en Ville.\n",
      "{'sentiment': {'document': {'score': 0.0, 'label': 'neutral'}}, 'usage': {'text_units': 1, 'features': 4, 'text_characters': 406}, 'entities': [], 'language': 'fr', 'categories': [{'score': 0.328558, 'label': '/travel/transports/public transport'}, {'score': 0.322472, 'label': '/art and entertainment/visual art and design/design'}, {'score': 0.151667, 'label': '/business and industrial'}], 'keywords': [{'text': 'HUB transport public', 'relevance': 0.957967}, {'text': 'La réussite', 'relevance': 0.792955}]}\n",
      "Analyzing text... Il me semble que l'on a calqué des éléments vus ailleurs les uns à côté des autres sans réfléchir aux besoins du Centre-Ville et pas simplement du site CHT. Exemple: pourquoi proposer un marché éphémère à 400m de la place des cocotiers qui accueille déjà ce type d'offre et à moins d'un km du marché de Vallé du Tir qui a du mal à exister ? L'espace est chargé de fonctions compartimentées. Un benchmarking a t il été fait pour observer des entrées de ville dans des villes de tailles plus ou moins similaires ?Ne faudrait-il pas qualifier et nommer l'espace dans sa globalité avant de travailler à développer ses fonctions internes ?\n",
      "{'sentiment': {'document': {'score': 0.0, 'label': 'neutral'}}, 'usage': {'text_units': 1, 'features': 4, 'text_characters': 634}, 'entities': [], 'language': 'fr', 'categories': [{'score': 0.577505, 'label': '/business and industrial/aerospace and defense/space technology'}, {'score': 0.536789, 'label': '/health and fitness/therapy'}, {'score': 0.0873767, 'label': '/business and industrial/energy/oil'}], 'keywords': [{'text': 'similaires ?Ne faudrait-il', 'relevance': 0.917981}, {'text': 'site cht', 'relevance': 0.809554}]}\n",
      "Analyzing text... Le risque de la requalification du site tel quel, est de produire une coquille vide. Il faut inviter des gens extérieur à pratiquer le futur site à toutes les heures de la journée. Pourquoi ne pas placer le café au centre (perspective sur la mer), accompagné d'une offre complémentaire en restos ou loisirs ? C'est l'opportunité de dynamiser un centre ville qui en a largement besoin, et cela ne transparaît pas dans les propositions...\n",
      "{'sentiment': {'document': {'score': 0.0, 'label': 'neutral'}}, 'usage': {'text_units': 1, 'features': 4, 'text_characters': 436}, 'entities': [{'text': 'coquille', 'relevance': 0.963296, 'sentiment': {'score': -0.626498}, 'type': 'Company', 'count': 1}, {'text': 'centre', 'sentiment': {'score': 0.265805}, 'relevance': 0.647299, 'count': 2, 'disambiguation': {'subtype': ['Region']}, 'type': 'Location'}], 'language': 'fr', 'categories': [{'score': 0.526788, 'label': '/business and industrial'}, {'score': 0.214191, 'label': '/business and industrial/energy/oil/oil company'}, {'score': 0.170484, 'label': '/travel/tourist facilities/hotel'}], 'keywords': [{'text': 'coquille vide', 'relevance': 0.920503}, {'text': 'futur site', 'relevance': 0.787453}]}\n",
      "Analyzing text... Ce projet dans son ensemble, est peut être bien pensé, mais aussi révélateur de la gabegie qui caractérise la politique de la Ville de Nouméa. Celle-ci multiplie les investissements importants (centre aquatique, parc des 5 îles, aménagement de l'entrée Nord), alors que les autres communes de l'agglomération ont de grandes difficultés financières.\n",
      "Il serait plus urgent de revoir la répartition des recettes entre les communes plutôt que de dépenses encore l'argent du contribuable.\n",
      "{'sentiment': {'document': {'score': 0.0, 'label': 'neutral'}}, 'usage': {'text_units': 1, 'features': 4, 'text_characters': 483}, 'entities': [{'text': 'centre', 'sentiment': {'score': 0.408578}, 'relevance': 0.963296, 'count': 1, 'disambiguation': {'subtype': ['Region']}, 'type': 'Location'}, {'text': 'Nord', 'sentiment': {'score': 0.0}, 'relevance': 0.80477, 'count': 1, 'disambiguation': {'subtype': ['Region']}, 'type': 'Location'}], 'language': 'fr', 'categories': [{'score': 0.373597, 'label': '/business and industrial'}, {'score': 0.301161, 'label': '/travel/tourist destinations/national parks'}, {'score': 0.249558, 'label': '/business and industrial/company/earnings'}], 'keywords': [{'text': 'grandes difficultés financières', 'relevance': 0.901596}, {'text': 'centre aquatique', 'relevance': 0.769287}]}\n",
      "Analyzing text... Espace foot urbain plutôt que skatepark\n"
     ]
    },
    {
     "name": "stdout",
     "output_type": "stream",
     "text": [
      "{'sentiment': {'document': {'score': 0.0, 'label': 'neutral'}}, 'usage': {'text_units': 1, 'features': 4, 'text_characters': 39}, 'entities': [], 'language': 'fr', 'categories': [{'score': 0.995825, 'label': '/sports/football'}, {'score': 0.0220154, 'label': '/business and industrial/agriculture and forestry/forestry'}, {'score': 0.0119569, 'label': '/sports'}], 'keywords': [{'text': 'Espace foot urbain', 'relevance': 0.975456}]}\n",
      "Analyzing text... Nouvelle caserne pour les pompier !\n",
      "Nouveau commissariat de police !\n",
      "Et des parkings pour accéder au centre ville à pieds !\n",
      "{'sentiment': {'document': {'score': 0.721062, 'label': 'positive'}}, 'usage': {'text_units': 1, 'features': 4, 'text_characters': 123}, 'entities': [{'text': 'centre ville', 'relevance': 0.978347, 'sentiment': {'score': 0.0}, 'type': 'Facility', 'count': 1}], 'language': 'fr', 'categories': [{'score': 0.577666, 'label': '/law, govt and politics/law enforcement/fire department'}, {'score': 0.423984, 'label': '/art and entertainment/radio'}, {'score': 0.334135, 'label': '/travel/tourist facilities/hotel'}], 'keywords': [{'text': 'Nouvelle caserne', 'relevance': 0.99217}, {'text': 'Nouveau commissariat', 'relevance': 0.923036}]}\n",
      "Analyzing text... Le café devrait donner plutôt sur les espaces verts et être à proximité de la mer, des espaces publics et dynamiques. Les différents usages  prévus sont intéressants mais mal organisés à mon avis. Il faudrait regrouper en différentes zones les espaces publics/commerciaux/éducatifs et de l'autre côté les bureaux, etc. \n",
      "{'sentiment': {'document': {'score': 0.0, 'label': 'neutral'}}, 'usage': {'text_units': 1, 'features': 4, 'text_characters': 319}, 'entities': [], 'language': 'fr', 'categories': [{'score': 0.513538, 'label': '/art and entertainment/visual art and design/design/interior design'}, {'score': 0.267895, 'label': '/food and drink/beverages/non alcoholic beverages/coffee and tea'}, {'score': 0.231196, 'label': '/food and drink/food and grocery retailers/convenience stores'}], 'keywords': [{'text': 'espaces verts', 'relevance': 0.911032}, {'text': 'espaces publics', 'relevance': 0.890676}]}\n",
      "Analyzing text... Une tour.\n",
      "{'sentiment': {'document': {'score': 0.0, 'label': 'neutral'}}, 'usage': {'text_units': 1, 'features': 4, 'text_characters': 9}, 'entities': [], 'language': 'fr', 'categories': [{'score': 0.999967, 'label': '/sports/golf'}, {'score': 0.00534775, 'label': '/style and fashion/jewelry/rings'}, {'score': 0.00402804, 'label': '/food and drink'}], 'keywords': [{'text': 'Une tour', 'relevance': 0.965534}]}\n",
      "Analyzing text... Pas de maison de projet. Faire une appli du projet avec WiFi gratuit dans le CHT pour la consulter et l'alimenter en direct par les usagers.\n",
      "{'sentiment': {'document': {'score': 0.0, 'label': 'neutral'}}, 'usage': {'text_units': 1, 'features': 4, 'text_characters': 140}, 'entities': [], 'language': 'fr', 'categories': [{'score': 0.482077, 'label': '/business and industrial/business operations/management/project management'}, {'score': 0.283417, 'label': '/home and garden/home improvement and repair/house painting and finishing'}, {'score': 0.177158, 'label': '/art and entertainment/visual art and design/design'}], 'keywords': [{'text': 'WiFi gratuit', 'relevance': 0.979339}]}\n",
      "Analyzing text... Pourquoi une piscine sur terasse. allo allez à la mer... et des places public avec jets d'eau... nonnn on est pas à Dubai... \n",
      "Parcontre les zones culturelles, amphitheatre, jardin suspendue ! j'adore \n",
      "{'sentiment': {'document': {'score': 0.114621, 'label': 'positive'}}, 'usage': {'text_units': 1, 'features': 4, 'text_characters': 200}, 'entities': [{'text': 'piscine', 'relevance': 0.963296, 'sentiment': {'score': -0.613574}, 'type': 'Sport', 'count': 1}, {'text': 'Dubai', 'sentiment': {'score': -0.715197}, 'relevance': 0.635605, 'count': 1, 'disambiguation': {'subtype': ['City']}, 'type': 'Location'}], 'language': 'fr', 'categories': [{'score': 0.5773, 'label': '/home and garden'}, {'score': 0.577199, 'label': '/sports/swimming'}, {'score': 0.462828, 'label': '/travel/transports/air travel/airplanes'}], 'keywords': [{'text': \"jets d'eau\", 'relevance': 0.928142}, {'text': 'places public', 'relevance': 0.909297}]}\n",
      "Analyzing text... Oui oui de la végétation.. pas trop de batiment ! ... :) \n",
      "{'sentiment': {'document': {'score': 0.853068, 'label': 'positive'}}, 'usage': {'text_units': 1, 'features': 4, 'text_characters': 57}, 'entities': [], 'language': 'fr', 'categories': [{'score': 0.850098, 'label': '/business and industrial'}, {'score': 0.434848, 'label': '/technology and computing/software/graphics software'}, {'score': 0.173467, 'label': '/law, govt and politics/legal issues/legislation/building laws'}], 'keywords': []}\n",
      "Analyzing text... Non mais Néobus.. ils auraient pu nous donner notre avis avant... pourquoi ne pas déjà privatiser des routes pour les bus actuelles pour qu'ils soit à l'heure.. j'espère que KARUIA pourrat emprunter les voies du NEOBUS... Et aussi... junkfood là... pas trop non plus. surtout pas les grandes marques comme Macdo et Quick qui engraisse les plus riches et qui font augmenter nos taux de Diabetique !!! \n",
      "{'sentiment': {'document': {'score': 0.0, 'label': 'neutral'}}, 'usage': {'text_units': 1, 'features': 4, 'text_characters': 400}, 'entities': [{'text': 'Néobus..', 'relevance': 0.95577, 'sentiment': {'score': 0.0}, 'type': 'Person', 'count': 1}, {'text': 'KARUIA', 'relevance': 0.626479, 'sentiment': {'score': 0.0}, 'type': 'Organization', 'count': 1}], 'language': 'fr', 'categories': [{'score': 0.535042, 'label': '/society'}, {'score': 0.532611, 'label': '/travel/transports/public transport'}, {'score': 0.229559, 'label': '/hobbies and interests/inventors and patents'}], 'keywords': [{'text': 'bus actuelles', 'relevance': 0.935382}, {'text': 'grandes marques', 'relevance': 0.820285}]}\n",
      "Analyzing text... Vraiment vraiment des jardins potagers où il pourrait y avoir des formation sur la permaculture et pouvoir partager ses jardins (comme la Mairie le fait à la Vallée du Tir) mais pour plusieurs famille.. pourquoi pas :) \n",
      "{'sentiment': {'document': {'score': 0.85422, 'label': 'positive'}}, 'usage': {'text_units': 1, 'features': 4, 'text_characters': 219}, 'entities': [{'text': 'Mairie', 'relevance': 0.978347, 'sentiment': {'score': 0.4854}, 'type': 'Facility', 'count': 1}], 'language': 'fr', 'categories': [{'score': 0.659139, 'label': '/sports/archery'}, {'score': 0.190818, 'label': '/education/alumni and reunions'}, {'score': 0.177672, 'label': '/hobbies and interests/arts and crafts'}], 'keywords': [{'text': 'jardins potagers', 'relevance': 0.971855}]}\n",
      "Analyzing text... Un tunnel pour la grosse route ? :)\n",
      "{'sentiment': {'document': {'score': 0.891726, 'label': 'positive'}}, 'usage': {'text_units': 1, 'features': 4, 'text_characters': 35}, 'entities': [], 'language': 'fr', 'categories': [{'score': 0.772879, 'label': '/technology and computing/networking/vpn and remote access'}, {'score': 0.416553, 'label': '/hobbies and interests/guitar'}, {'score': 0.389316, 'label': '/automotive and vehicles/cars'}], 'keywords': [{'text': 'grosse route', 'relevance': 0.970228}]}\n",
      "Analyzing text... Il faudrait de beaux espaces verts pour rendre l'aire hospitalière à côté de la grosse route \n",
      "{'sentiment': {'document': {'score': 0.0, 'label': 'neutral'}}, 'usage': {'text_units': 1, 'features': 4, 'text_characters': 93}, 'entities': [], 'language': 'fr', 'categories': [{'score': 0.562098, 'label': '/society/welfare/healthcare/hospital'}, {'score': 0.218103, 'label': '/automotive and vehicles/cars'}, {'score': 0.170634, 'label': '/hobbies and interests/guitar'}], 'keywords': [{'text': 'beaux espaces verts', 'relevance': 0.971077}]}\n",
      "Analyzing text... L'idée de jardins potagers semble géniale!\n",
      "{'sentiment': {'document': {'score': 0.829784, 'label': 'positive'}}, 'usage': {'text_units': 1, 'features': 4, 'text_characters': 42}, 'entities': [], 'language': 'fr', 'categories': [{'score': 0.994529, 'label': '/home and garden'}, {'score': 0.104429, 'label': '/home and garden/gardening and landscaping/gardening'}, {'score': 0.00228898, 'label': '/sports/swimming'}], 'keywords': [{'text': 'jardins potagers', 'relevance': 0.966474}]}\n",
      "Analyzing text... Privilégier la création (artistique, entreprises) pour démontrer le \"savoir faire\" plutôt que de privilégier le mercantil pur\n"
     ]
    },
    {
     "name": "stdout",
     "output_type": "stream",
     "text": [
      "{'sentiment': {'document': {'score': 0.0, 'label': 'neutral'}}, 'usage': {'text_units': 1, 'features': 4, 'text_characters': 125}, 'entities': [], 'language': 'fr', 'categories': [{'score': 0.566052, 'label': '/art and entertainment/theatre/theatre companies'}, {'score': 0.453922, 'label': '/sports/gymnastics'}, {'score': 0.219662, 'label': '/art and entertainment/dance/modern dance'}], 'keywords': [{'text': 'mercantil pur', 'relevance': 0.966158}]}\n",
      "Analyzing text... A première vue, pas assez de places de parking...\n",
      "{'sentiment': {'document': {'score': -0.393619, 'label': 'negative'}}, 'usage': {'text_units': 1, 'features': 4, 'text_characters': 49}, 'entities': [], 'language': 'fr', 'categories': [{'score': 0.574656, 'label': '/travel/transports/air travel/airports'}, {'score': 0.560453, 'label': '/home and garden/laundry'}, {'score': 0.235988, 'label': '/travel/transports/public transport'}], 'keywords': []}\n",
      "Analyzing text... Les hamacs seraient de bons dortoirs pour les alcolisés\n",
      "{'sentiment': {'document': {'score': 0.580228, 'label': 'positive'}}, 'usage': {'text_units': 1, 'features': 4, 'text_characters': 55}, 'entities': [], 'language': 'fr', 'categories': [{'score': 0.622948, 'label': '/home and garden'}, {'score': 0.485788, 'label': '/home and garden/home furnishings/sofas and chairs'}, {'score': 0.455023, 'label': '/real estate/apartments'}], 'keywords': [{'text': 'bons dortoirs', 'relevance': 0.9608}]}\n",
      "Analyzing text... Une aire de jrux pour les enfants est une très bonne idée mais pas placée entre 2 zones de restauration rapide. Elle serait plus saine placée à proximité des espaces verts\n",
      "{'sentiment': {'document': {'score': 0.0, 'label': 'neutral'}}, 'usage': {'text_units': 1, 'features': 4, 'text_characters': 171}, 'entities': [], 'language': 'fr', 'categories': [{'score': 0.657008, 'label': '/family and parenting/children'}, {'score': 0.200938, 'label': '/food and drink/food/fast food'}, {'score': 0.157692, 'label': '/food and drink'}], 'keywords': [{'text': 'espaces verts', 'relevance': 0.914004}, {'text': 'restauration rapide', 'relevance': 0.902593}]}\n",
      "Analyzing text... Une aire de jrux pour les enfants est une très bonne idée mais pas placée entre 2 zones de restauration rapide. Elle serait plus saine placée à proximité des espaces verts\n",
      "{'sentiment': {'document': {'score': 0.0, 'label': 'neutral'}}, 'usage': {'text_units': 1, 'features': 4, 'text_characters': 171}, 'entities': [], 'language': 'fr', 'categories': [{'score': 0.657008, 'label': '/family and parenting/children'}, {'score': 0.200938, 'label': '/food and drink/food/fast food'}, {'score': 0.157692, 'label': '/food and drink'}], 'keywords': [{'text': 'espaces verts', 'relevance': 0.914004}, {'text': 'restauration rapide', 'relevance': 0.902593}]}\n",
      "Analyzing text... Prévoir des locaux pour des associations qui en ont cruellement besoin en ce moment: l'APS, le sci-fi club, témoignage d'un passé...\n",
      "{'sentiment': {'document': {'score': 0.0, 'label': 'neutral'}}, 'usage': {'text_units': 1, 'features': 4, 'text_characters': 132}, 'entities': [], 'language': 'fr', 'categories': [{'score': 0.26357, 'label': '/law, govt and politics/government/courts and judiciary'}, {'score': 0.244779, 'label': '/business and industrial'}, {'score': 0.210685, 'label': '/science/physics'}], 'keywords': [{'text': 'sci-fi club', 'relevance': 0.9153}]}\n",
      "Analyzing text... Quid de la (des) connection(s) piétonne vers la VDT ?\n",
      "{'sentiment': {'document': {'score': 0.0, 'label': 'neutral'}}, 'usage': {'text_units': 1, 'features': 4, 'text_characters': 53}, 'entities': [], 'language': 'fr', 'categories': [{'score': 0.998883, 'label': '/technology and computing/networking/vpn and remote access'}, {'score': 0.0385763, 'label': '/technology and computing/hardware/computer networking/router'}, {'score': 0.0126502, 'label': '/family and parenting/children'}], 'keywords': []}\n",
      "Analyzing text... Des work out seraient bien ici\n",
      "{'sentiment': {'document': {'score': 0.555009, 'label': 'positive'}}, 'usage': {'text_units': 1, 'features': 4, 'text_characters': 30}, 'entities': [], 'language': 'fr', 'categories': [], 'keywords': [{'text': 'work out', 'relevance': 0.952572}]}\n",
      "Analyzing text... Une petite correction des fautes d'orthographe de la présentation serait la bienvenue. \n",
      "{'sentiment': {'document': {'score': 0.0, 'label': 'neutral'}}, 'usage': {'text_units': 1, 'features': 4, 'text_characters': 87}, 'entities': [], 'language': 'fr', 'categories': [{'score': 0.999275, 'label': '/business and industrial/business operations/business plans'}, {'score': 0.035703, 'label': '/technology and computing/consumer electronics/tv and video equipment/projectors'}, {'score': 0.00612238, 'label': '/technology and computing/software/graphics software'}], 'keywords': [{'text': 'Une petite correction', 'relevance': 0.982329}]}\n",
      "Analyzing text... original.Beaucoup d'idées novatrices.Beaucoup de travail!\n",
      "\n",
      "{'sentiment': {'document': {'score': 0.0, 'label': 'neutral'}}, 'usage': {'text_units': 1, 'features': 4, 'text_characters': 58}, 'entities': [], 'language': 'fr', 'categories': [{'score': 0.401789, 'label': '/technology and computing'}, {'score': 0.375198, 'label': '/art and entertainment/visual art and design/design/industrial and product design'}, {'score': 0.252494, 'label': '/technology and computing/technological innovation'}], 'keywords': [{'text': \"d'idées novatrices.Beaucoup\", 'relevance': 0.803393}]}\n",
      "Analyzing text... en premier lieu je tiens à remercier Mme le Maire pour cette idée de participation citoyenne qui se développera à l'usage.Bravo donc.\n",
      "{'sentiment': {'document': {'score': 0.0, 'label': 'neutral'}}, 'usage': {'text_units': 1, 'features': 4, 'text_characters': 133}, 'entities': [], 'language': 'fr', 'categories': [{'score': 0.33131, 'label': '/law, govt and politics/government/state and local government'}, {'score': 0.296127, 'label': '/law, govt and politics/government/embassies and consulates'}, {'score': 0.286492, 'label': '/law, govt and politics/politics/elections'}], 'keywords': [{'text': 'participation citoyenne', 'relevance': 0.985708}]}\n",
      "Analyzing text... et merci les poussières de la SLN dans la piscine ! \n",
      "{'sentiment': {'document': {'score': 0.902137, 'label': 'positive'}}, 'usage': {'text_units': 1, 'features': 4, 'text_characters': 52}, 'entities': [{'text': 'piscine', 'relevance': 0.978347, 'sentiment': {'score': 0.824185}, 'type': 'Sport', 'count': 1}], 'language': 'fr', 'categories': [{'score': 0.957948, 'label': '/sports/swimming'}, {'score': 0.0659837, 'label': '/health and fitness/disease/allergies'}, {'score': 0.0506874, 'label': '/home and garden/home furnishings/rugs and carpets'}], 'keywords': []}\n",
      "Analyzing text... ne pas associer bars/boîtes de nuit et logements. au vu de la position du site, privilégier des bureaux pour le jour et des bars/boîtes de nuit pour la nuit plutôt que de mettre des logements.\n",
      "{'sentiment': {'document': {'score': 0.0, 'label': 'neutral'}}, 'usage': {'text_units': 1, 'features': 4, 'text_characters': 192}, 'entities': [], 'language': 'fr', 'categories': [{'score': 0.709483, 'label': '/home and garden'}, {'score': 0.106468, 'label': '/travel/tourist destinations'}, {'score': 0.105385, 'label': '/travel/hotels'}], 'keywords': []}\n",
      "Analyzing text... anticiper les aménagements au vu des dégradations/saccages par les usagers (tags très importants dans la ville, beaucoup de destruction de matériel) et du coût de maintenance (jets d'eau...)\n",
      "{'sentiment': {'document': {'score': -0.308413, 'label': 'negative'}}, 'usage': {'text_units': 1, 'features': 4, 'text_characters': 190}, 'entities': [], 'language': 'fr', 'categories': [{'score': 0.205666, 'label': '/technology and computing'}, {'score': 0.187929, 'label': '/travel/transports/air travel/airplanes'}, {'score': 0.141271, 'label': '/business and industrial/chemicals industry/plastics and polymers'}], 'keywords': [{'text': \"jets d'eau\", 'relevance': 0.980354}]}\n",
      "Analyzing text... dommage d'avoir à déplacer des routes qui font actuellement l'objet de travaux. encore des dépenses financières supplémentaires par manque de vision à moyen et long termes.\n",
      "{'sentiment': {'document': {'score': 0.0, 'label': 'neutral'}}, 'usage': {'text_units': 1, 'features': 4, 'text_characters': 172}, 'entities': [], 'language': 'fr', 'categories': [{'score': 0.674437, 'label': '/automotive and vehicles/vehicle rental'}, {'score': 0.270817, 'label': '/law, govt and politics/government'}, {'score': 0.268204, 'label': '/business and industrial'}], 'keywords': [{'text': 'dépenses financières supplémentaires', 'relevance': 0.982506}]}\n",
      "Analyzing text... ne pas associer bars/boîtes de nuit et logements. au vu de la position du site, privilégier des bureaux pour le jour et des bars/boîtes de nuit pour la nuit plutôt que de mettre des logements.\n"
     ]
    },
    {
     "name": "stdout",
     "output_type": "stream",
     "text": [
      "{'sentiment': {'document': {'score': 0.0, 'label': 'neutral'}}, 'usage': {'text_units': 1, 'features': 4, 'text_characters': 192}, 'entities': [], 'language': 'fr', 'categories': [{'score': 0.709483, 'label': '/home and garden'}, {'score': 0.106468, 'label': '/travel/tourist destinations'}, {'score': 0.105385, 'label': '/travel/hotels'}], 'keywords': []}\n",
      "Analyzing text... anticiper les aménagements au vu des dégradations/saccages par les usagers (tags très importants dans la ville, beaucoup de destruction de matériel) et du coût de maintenance (jets d'eau...)\n",
      "{'sentiment': {'document': {'score': -0.308413, 'label': 'negative'}}, 'usage': {'text_units': 1, 'features': 4, 'text_characters': 190}, 'entities': [], 'language': 'fr', 'categories': [{'score': 0.205666, 'label': '/technology and computing'}, {'score': 0.187929, 'label': '/travel/transports/air travel/airplanes'}, {'score': 0.141271, 'label': '/business and industrial/chemicals industry/plastics and polymers'}], 'keywords': [{'text': \"jets d'eau\", 'relevance': 0.980354}]}\n",
      "Analyzing text... dommage d'avoir à déplacer des routes qui font actuellement l'objet de travaux. encore des dépenses financières supplémentaires par manque de vision à moyen et long termes.\n",
      "{'sentiment': {'document': {'score': 0.0, 'label': 'neutral'}}, 'usage': {'text_units': 1, 'features': 4, 'text_characters': 172}, 'entities': [], 'language': 'fr', 'categories': [{'score': 0.674437, 'label': '/automotive and vehicles/vehicle rental'}, {'score': 0.270817, 'label': '/law, govt and politics/government'}, {'score': 0.268204, 'label': '/business and industrial'}], 'keywords': [{'text': 'dépenses financières supplémentaires', 'relevance': 0.982506}]}\n",
      "Analyzing text... Oui à la culture et la qualité de vie, stop à l'invasion des commerces et des bureaux, quand tant de gens n'ont pas de perspective de boulot et de payes décentes.\n",
      "{'sentiment': {'document': {'score': 0.0, 'label': 'neutral'}}, 'usage': {'text_units': 1, 'features': 4, 'text_characters': 162}, 'entities': [], 'language': 'fr', 'categories': [{'score': 0.326606, 'label': '/business and industrial'}, {'score': 0.153506, 'label': '/careers/job search'}, {'score': 0.138751, 'label': '/society/unrest and war'}], 'keywords': [{'text': 'payes décentes', 'relevance': 0.990453}]}\n",
      "Analyzing text... On a la mer, arrêtons avec les piscines en terrasse! Quant à l'amphithéâtre flottant, n'est-ce pas un peu trop?\n",
      "{'sentiment': {'document': {'score': 0.662122, 'label': 'positive'}}, 'usage': {'text_units': 1, 'features': 4, 'text_characters': 111}, 'entities': [], 'language': 'fr', 'categories': [{'score': 0.706867, 'label': '/art and entertainment/theatre'}, {'score': 0.70614, 'label': '/sports/swimming'}, {'score': 0.0143639, 'label': '/home and garden'}], 'keywords': []}\n",
      "Analyzing text... Nos impôts y suffiront-ils ou faudra-t-il éliminer les voitures de fonction, chauffeurs, voyages gratuits et autres abus éhontés de nos élus?\n",
      "{'sentiment': {'document': {'score': 0.0, 'label': 'neutral'}}, 'usage': {'text_units': 1, 'features': 4, 'text_characters': 141}, 'entities': [], 'language': 'fr', 'categories': [{'score': 0.613331, 'label': '/automotive and vehicles/cars'}, {'score': 0.280236, 'label': '/law, govt and politics/legal issues/human rights'}, {'score': 0.118999, 'label': '/travel'}], 'keywords': [{'text': 'voyages gratuits', 'relevance': 0.99713}]}\n",
      "Analyzing text... Oui, des plantes, des fleurs, des marchés, des bus accessibles et performants, des lieux d'expression artistiques au lieu de magasins et d'hôtels de luxe à moitié vides! \n",
      "{'sentiment': {'document': {'score': 0.0, 'label': 'neutral'}}, 'usage': {'text_units': 1, 'features': 4, 'text_characters': 170}, 'entities': [], 'language': 'fr', 'categories': [{'score': 0.373623, 'label': '/travel/hotels'}, {'score': 0.208983, 'label': '/art and entertainment'}, {'score': 0.12157, 'label': '/travel/tourist facilities/hotel'}], 'keywords': [{'text': \"lieux d'expression artistiques\", 'relevance': 0.914866}]}\n",
      "Analyzing text... Un projet ambitieux et sûrement utile pour transformer notre ville, si moche pour l'instant et si peu représentative des beautés du Pacifique. Je suis un peu surprise que le projet soit présenté du point de vue des touristes, étant donné que ce sont les Nouméens qui pâtissent en priorité de la laideur de l'urbanisme de la ville. J'ajouterai qu'il serait normal que la culture kanak et océanienne soit présente dans l'architecture et l'organisation des lieux, pour ne pas en faire un espace de plus entièrement dédié aux européens et aux croisiéristes.\n",
      "Enfin, l'investissement considérable que ce projet va nécessiter se justifiera si en même temps, les budgets alloués au domaine social (je pense aux plus démunis qui sont légions en Calédonie) sont entièrement repensés. Il est aussi urgent de proposer quelque chose à la jeunesse en perdition de notre île. Je ne suis pas sûre qu'elle pense que l'urbanisme (bureaux, commerces) soit une priorité.\n",
      "(Même si je suis convaincue que l'environnement dans lequel on vit est un facteur essentiel au bien-être)\n",
      "{'sentiment': {'document': {'score': 0.0, 'label': 'neutral'}}, 'usage': {'text_units': 1, 'features': 4, 'text_characters': 1056}, 'entities': [{'text': 'du Pacifique', 'relevance': 0.963296, 'sentiment': {'score': 0.0}, 'type': 'GeographicFeature', 'count': 1}, {'text': 'Calédonie', 'sentiment': {'score': 0.0}, 'relevance': 0.408444, 'count': 1, 'disambiguation': {'subtype': ['City']}, 'type': 'Location'}], 'language': 'fr', 'categories': [{'score': 0.462313, 'label': '/family and parenting/children'}, {'score': 0.262611, 'label': '/finance/personal finance/financial planning/retirement and pension'}, {'score': 0.255561, 'label': '/finance/personal finance/financial planning/estate planning'}], 'keywords': [{'text': 'Un projet ambitieux', 'relevance': 0.994408}, {'text': 'sûrement utile', 'relevance': 0.841905}]}\n",
      "Analyzing text... Oui à la culture et la qualité de vie, stop à l'invasion des commerces et des bureaux, quand tant de gens n'ont pas de perspective de boulot et de payes décentes.\n",
      "{'sentiment': {'document': {'score': 0.0, 'label': 'neutral'}}, 'usage': {'text_units': 1, 'features': 4, 'text_characters': 162}, 'entities': [], 'language': 'fr', 'categories': [{'score': 0.326606, 'label': '/business and industrial'}, {'score': 0.153506, 'label': '/careers/job search'}, {'score': 0.138751, 'label': '/society/unrest and war'}], 'keywords': [{'text': 'payes décentes', 'relevance': 0.990453}]}\n",
      "Analyzing text... On a la mer, arrêtons avec les piscines en terrasse! Quant à l'amphithéâtre flottant, n'est-ce pas un peu trop?\n",
      "{'sentiment': {'document': {'score': 0.662122, 'label': 'positive'}}, 'usage': {'text_units': 1, 'features': 4, 'text_characters': 111}, 'entities': [], 'language': 'fr', 'categories': [{'score': 0.706867, 'label': '/art and entertainment/theatre'}, {'score': 0.70614, 'label': '/sports/swimming'}, {'score': 0.0143639, 'label': '/home and garden'}], 'keywords': []}\n",
      "Analyzing text... Nos impôts y suffiront-ils ou faudra-t-il éliminer les voitures de fonction, chauffeurs, voyages gratuits et autres abus éhontés de nos élus?\n",
      "{'sentiment': {'document': {'score': 0.0, 'label': 'neutral'}}, 'usage': {'text_units': 1, 'features': 4, 'text_characters': 141}, 'entities': [], 'language': 'fr', 'categories': [{'score': 0.613331, 'label': '/automotive and vehicles/cars'}, {'score': 0.280236, 'label': '/law, govt and politics/legal issues/human rights'}, {'score': 0.118999, 'label': '/travel'}], 'keywords': [{'text': 'voyages gratuits', 'relevance': 0.99713}]}\n",
      "Analyzing text... Oui, des plantes, des fleurs, des marchés, des bus accessibles et performants, des lieux d'expression artistiques au lieu de magasins et d'hôtels de luxe à moitié vides! \n",
      "{'sentiment': {'document': {'score': 0.0, 'label': 'neutral'}}, 'usage': {'text_units': 1, 'features': 4, 'text_characters': 170}, 'entities': [], 'language': 'fr', 'categories': [{'score': 0.373623, 'label': '/travel/hotels'}, {'score': 0.208983, 'label': '/art and entertainment'}, {'score': 0.12157, 'label': '/travel/tourist facilities/hotel'}], 'keywords': [{'text': \"lieux d'expression artistiques\", 'relevance': 0.914866}]}\n",
      "Analyzing text... Un projet ambitieux et sûrement utile pour transformer notre ville, si moche pour l'instant et si peu représentative des beautés du Pacifique. Je suis un peu surprise que le projet soit présenté du point de vue des touristes, étant donné que ce sont les Nouméens qui pâtissent en priorité de la laideur de l'urbanisme de la ville. J'ajouterai qu'il serait normal que la culture kanak et océanienne soit présente dans l'architecture et l'organisation des lieux, pour ne pas en faire un espace de plus entièrement dédié aux européens et aux croisiéristes.\n",
      "Enfin, l'investissement considérable que ce projet va nécessiter se justifiera si en même temps, les budgets alloués au domaine social (je pense aux plus démunis qui sont légions en Calédonie) sont entièrement repensés. Il est aussi urgent de proposer quelque chose à la jeunesse en perdition de notre île. Je ne suis pas sûre qu'elle pense que l'urbanisme (bureaux, commerces) soit une priorité.\n",
      "(Même si je suis convaincue que l'environnement dans lequel on vit est un facteur essentiel au bien-être)\n"
     ]
    },
    {
     "name": "stdout",
     "output_type": "stream",
     "text": [
      "{'sentiment': {'document': {'score': 0.0, 'label': 'neutral'}}, 'usage': {'text_units': 1, 'features': 4, 'text_characters': 1056}, 'entities': [{'text': 'du Pacifique', 'relevance': 0.963296, 'sentiment': {'score': 0.0}, 'type': 'GeographicFeature', 'count': 1}, {'text': 'Calédonie', 'sentiment': {'score': 0.0}, 'relevance': 0.408444, 'count': 1, 'disambiguation': {'subtype': ['City']}, 'type': 'Location'}], 'language': 'fr', 'categories': [{'score': 0.462313, 'label': '/family and parenting/children'}, {'score': 0.262611, 'label': '/finance/personal finance/financial planning/retirement and pension'}, {'score': 0.255561, 'label': '/finance/personal finance/financial planning/estate planning'}], 'keywords': [{'text': 'Un projet ambitieux', 'relevance': 0.994408}, {'text': 'sûrement utile', 'relevance': 0.841905}]}\n",
      "Analyzing text... Pourquoi ne pas transformer l'ancien hôpital en gare d'échange, c'est l'entrée de la ville pour le Néobus, Car sud et Rai et ensuite c'est le bus Karuia qui prend le relais. En plus dans la baie, les bateaux de croisières s'accostent.\n",
      "{'sentiment': {'document': {'score': 0.0, 'label': 'neutral'}}, 'usage': {'text_units': 1, 'features': 4, 'text_characters': 234}, 'entities': [{'text': 'sud', 'sentiment': {'score': 0.0}, 'relevance': 0.978347, 'count': 1, 'disambiguation': {'subtype': ['Region']}, 'type': 'Location'}], 'language': 'fr', 'categories': [{'score': 0.520049, 'label': '/travel/transports/sea travel/cruises'}, {'score': 0.208468, 'label': '/society/welfare/healthcare/hospital'}, {'score': 0.197938, 'label': '/automotive and vehicles/boats and watercraft'}], 'keywords': [{'text': 'bus karuia', 'relevance': 0.994825}, {'text': \"l'ancien hôpital\", 'relevance': 0.987029}]}\n",
      "Analyzing text... Prevoir des arbres qui feront de l'ombre dans le futur. Remarque annexe:  bravo pour l'espace vert créé devant le Village en centre-ville, mais les arbres ne semblent pas pouvoir grandir or ce lieu serait beaucoup plus agréable avec de l'ombre . Merci de votre ecoute\n",
      "{'sentiment': {'document': {'score': 0.927685, 'label': 'positive'}}, 'usage': {'text_units': 1, 'features': 4, 'text_characters': 267}, 'entities': [], 'language': 'fr', 'categories': [{'score': 0.581346, 'label': '/home and garden'}, {'score': 0.577302, 'label': '/art and entertainment/music/music genres/easy listening'}, {'score': 0.175281, 'label': '/home and garden/gardening and landscaping/landscaping'}], 'keywords': [{'text': \"l'espace vert\", 'relevance': 0.831554}]}\n",
      "Analyzing text... C'est un brau projet. Prevoir ke olys d'espaces verts possibles. Pourquoi pas un cafe donnant devant, sur les espaces verts?\n",
      "{'sentiment': {'document': {'score': 0.580799, 'label': 'positive'}}, 'usage': {'text_units': 1, 'features': 4, 'text_characters': 124}, 'entities': [], 'language': 'fr', 'categories': [{'score': 0.707132, 'label': '/business and industrial/business operations/management/project management'}, {'score': 0.330603, 'label': '/business and industrial/green solutions'}, {'score': 0.206457, 'label': '/food and drink/beverages/non alcoholic beverages/coffee and tea'}], 'keywords': [{'text': \"d'espaces verts possibles\", 'relevance': 0.934983}, {'text': 'espaces verts', 'relevance': 0.729034}]}\n",
      "Analyzing text... Les cafés devraient être plus près des commerces\n",
      "{'sentiment': {'document': {'score': 0.0, 'label': 'neutral'}}, 'usage': {'text_units': 1, 'features': 4, 'text_characters': 48}, 'entities': [], 'language': 'fr', 'categories': [{'score': 0.996652, 'label': '/food and drink/food and grocery retailers/bakeries'}, {'score': 0.0633606, 'label': '/travel/hotels'}, {'score': 0.0257479, 'label': '/food and drink/food and grocery retailers/convenience stores'}], 'keywords': [{'text': 'Les cafés', 'relevance': 0.939031}]}\n",
      "Analyzing text... Difficile de comprendre vos nouveaux aménagements notamment pour la partie voie express, trop de voie piétonnes coupant la voie express, au vu de l'état des gares routières de nouméa (fortes dégradations) , en mettre une à côté de ce dispositif est une bonne idée si seulement si un dispositif de surveillance est mis en place pour éviter qu'il deviennent à l'image des gares routières actuelles (insalubres, graffitis de partout...)\n",
      "{'sentiment': {'document': {'score': 0.0, 'label': 'neutral'}}, 'usage': {'text_units': 1, 'features': 4, 'text_characters': 433}, 'entities': [{'text': 'de nouméa', 'sentiment': {'score': 0.0}, 'relevance': 0.978347, 'count': 1, 'disambiguation': {'subtype': ['City']}, 'type': 'Location'}], 'language': 'fr', 'categories': [{'score': 0.108081, 'label': '/technology and computing/software'}, {'score': 0.101888, 'label': '/technology and computing'}, {'score': 0.0991137, 'label': '/science/ecology/pollution'}], 'keywords': [{'text': 'gares routières', 'relevance': 0.952856}, {'text': 'voie express', 'relevance': 0.89466}]}\n",
      "Analyzing text... Pas fan de la Zone sport urbains, il y a d'autres endroits pour faire du sport. Rester dans le thème parc...\n",
      "Quid de l'usine SLN ? belles projections face à une verrue polluante....\n",
      "{'sentiment': {'document': {'score': 0.0, 'label': 'neutral'}}, 'usage': {'text_units': 1, 'features': 4, 'text_characters': 181}, 'entities': [], 'language': 'fr', 'categories': [{'score': 0.57027, 'label': '/travel/tourist destinations/theme parks'}, {'score': 0.567745, 'label': '/business and industrial/energy/nuclear power'}, {'score': 0.309735, 'label': '/sports/fishing/sport fishing'}], 'keywords': [{'text': 'Zone sport urbains', 'relevance': 0.997874}, {'text': 'belles projections face', 'relevance': 0.855373}]}\n",
      "Analyzing text... Les zones de café sont trop excentrées de l'entrée. elles pourraient se situer idéalement au niveau de : Espace à usage pluriel et/ou Friche artistique-studios et/ou RDC espace public ouvert polyvalent\n",
      "Les jardins potagers à côté de la voie des bus c'est moyen....créer autre chose en restant dans la botanique, mais pas à usage alimentaire...\n",
      "{'sentiment': {'document': {'score': 0.0, 'label': 'neutral'}}, 'usage': {'text_units': 1, 'features': 4, 'text_characters': 343}, 'entities': [{'text': 'RDC', 'sentiment': {'score': 0.0}, 'relevance': 0.978347, 'count': 1, 'disambiguation': {'subtype': ['Country']}, 'type': 'Location'}], 'language': 'fr', 'categories': [{'score': 0.161106, 'label': '/home and garden'}, {'score': 0.12556, 'label': '/technology and computing'}, {'score': 0.114876, 'label': '/food and drink/beverages/non alcoholic beverages/coffee and tea'}], 'keywords': [{'text': 'RDC espace public', 'relevance': 0.90665}, {'text': 'Les jardins potagers', 'relevance': 0.767501}]}\n",
      "Analyzing text... Salle de sport, café, commerces \n",
      "{'sentiment': {'document': {'score': 0.542809, 'label': 'positive'}}, 'usage': {'text_units': 1, 'features': 4, 'text_characters': 32}, 'entities': [], 'language': 'fr', 'categories': [{'score': 0.826495, 'label': '/food and drink/beverages/non alcoholic beverages/coffee and tea'}, {'score': 0.125413, 'label': '/sports/fishing/sport fishing'}, {'score': 0.113111, 'label': '/sports'}], 'keywords': []}\n"
     ]
    }
   ],
   "source": [
    "comments = []\n",
    "analysis = []\n",
    "\n",
    "natural_language_understanding = NaturalLanguageUnderstandingV1(\n",
    "  username=\"ed5feef2-992f-4bce-bcf6-84fbbfe3ee4c\",\n",
    "  password=\"KSrLtnB5kamx\",\n",
    "  version=\"2017-02-27\")\n",
    "\n",
    "def parse_columns(json_file):\n",
    "    for info in json_file:\n",
    "        answers = info['answers']\n",
    "        for y in answers:\n",
    "            questionNumber = y['question']['question_number']\n",
    "            questionBody = y['question']['body']\n",
    "            textAnswer = y['body']\n",
    "            if textAnswer:\n",
    "                comments.append({'participant_id': info['id'], \n",
    "                                 'age': info['age'], \n",
    "                                 'neighbourhood': info['neighboorhood'],\n",
    "                                 'lives_in_noumea': info['lives_in_noumea'],\n",
    "                                 'months_lived_in_noumea': info['months_lived_in_noumea'],\n",
    "                                 'email': info['email'],\n",
    "                                 'enable_receive_emails': info['enable_receive_emails'],\n",
    "                                 'question_number': questionNumber,\n",
    "                                 'question_body': questionBody,\n",
    "                                 'text': textAnswer})\n",
    "    return call_watson(comments)\n",
    "            \n",
    "def call_watson(comments):\n",
    "    for comment in comments:\n",
    "        text = comment['text']\n",
    "        if not (text.isdigit()) and len(comment['text']) > 5:\n",
    "            print(\"Analyzing text...\", text)\n",
    "            response = natural_language_understanding.analyze(\n",
    "              text=comment['text'],\n",
    "              features=[\n",
    "                Features.Entities(\n",
    "                    emotion=True,\n",
    "                    sentiment=True,\n",
    "                    limit=2\n",
    "                ),\n",
    "                Features.Keywords(\n",
    "                    emotion=True,\n",
    "                    sentiment=True,\n",
    "                    limit=2\n",
    "                ),\n",
    "                Features.Sentiment(\n",
    "                    document=True\n",
    "                ),\n",
    "                Features.Categories()\n",
    "              ],\n",
    "              language=\"fr\"\n",
    "            )\n",
    "            print(response)\n",
    "            comment['watson_score'] = response['sentiment']['document']['score']\n",
    "            comment['watson_keywords'] = response['keywords']\n",
    "            comment['watson_entities'] = response['entities']\n",
    "            comment['watson_entities'] = response['categories']\n",
    "            analysis.append(comment)\n",
    "        else:\n",
    "            analysis.append(comment)\n",
    "    return analysis\n",
    "            \n",
    "\n",
    "parse_columns(json_file)\n",
    "pp = pprint.PrettyPrinter(indent=4)\n",
    "# pp.pprint(analysis)"
   ]
  },
  {
   "cell_type": "code",
   "execution_count": 59,
   "metadata": {},
   "outputs": [
    {
     "ename": "KeyError",
     "evalue": "'watson_entities'",
     "output_type": "error",
     "traceback": [
      "\u001b[0;31m---------------------------------------------------------------------------\u001b[0m",
      "\u001b[0;31mKeyError\u001b[0m                                  Traceback (most recent call last)",
      "\u001b[0;32m<ipython-input-59-3f61d14a2f6e>\u001b[0m in \u001b[0;36m<module>\u001b[0;34m()\u001b[0m\n\u001b[1;32m      9\u001b[0m \u001b[0;34m\u001b[0m\u001b[0m\n\u001b[1;32m     10\u001b[0m \u001b[0;34m\u001b[0m\u001b[0m\n\u001b[0;32m---> 11\u001b[0;31m \u001b[0mprint_things\u001b[0m\u001b[0;34m(\u001b[0m\u001b[0manalysis\u001b[0m\u001b[0;34m)\u001b[0m\u001b[0;34m\u001b[0m\u001b[0m\n\u001b[0m\u001b[1;32m     12\u001b[0m \u001b[0;31m# pp.pprint(analysis)\u001b[0m\u001b[0;34m\u001b[0m\u001b[0;34m\u001b[0m\u001b[0m\n",
      "\u001b[0;32m<ipython-input-59-3f61d14a2f6e>\u001b[0m in \u001b[0;36mprint_things\u001b[0;34m(analysis)\u001b[0m\n\u001b[1;32m      1\u001b[0m \u001b[0;32mdef\u001b[0m \u001b[0mprint_things\u001b[0m\u001b[0;34m(\u001b[0m\u001b[0manalysis\u001b[0m\u001b[0;34m)\u001b[0m\u001b[0;34m:\u001b[0m\u001b[0;34m\u001b[0m\u001b[0m\n\u001b[1;32m      2\u001b[0m     \u001b[0;32mfor\u001b[0m \u001b[0mthing\u001b[0m \u001b[0;32min\u001b[0m \u001b[0manalysis\u001b[0m\u001b[0;34m:\u001b[0m\u001b[0;34m\u001b[0m\u001b[0m\n\u001b[0;32m----> 3\u001b[0;31m         \u001b[0;32mif\u001b[0m \u001b[0mthing\u001b[0m\u001b[0;34m[\u001b[0m\u001b[0;34m'watson_entities'\u001b[0m\u001b[0;34m]\u001b[0m \u001b[0;32min\u001b[0m \u001b[0manalysis\u001b[0m\u001b[0;34m:\u001b[0m\u001b[0;34m\u001b[0m\u001b[0m\n\u001b[0m\u001b[1;32m      4\u001b[0m             pp.pprint({thing['text']: [{\"entities\": thing['watson_entities'], \n\u001b[1;32m      5\u001b[0m                                         \u001b[0;34m\"keywords\"\u001b[0m\u001b[0;34m:\u001b[0m \u001b[0mthing\u001b[0m\u001b[0;34m[\u001b[0m\u001b[0;34m'watson_keywords'\u001b[0m\u001b[0;34m]\u001b[0m\u001b[0;34m,\u001b[0m\u001b[0;34m\u001b[0m\u001b[0m\n",
      "\u001b[0;31mKeyError\u001b[0m: 'watson_entities'"
     ]
    }
   ],
   "source": [
    "def print_things(analysis):\n",
    "    for thing in analysis:\n",
    "        if thing['watson_entities'] in analysis:\n",
    "            pp.pprint({thing['text']: [{\"entities\": thing['watson_entities'], \n",
    "                                        \"keywords\": thing['watson_keywords'],\n",
    "                                        \"score\": thing['watson_score']}]})\n",
    "        pp.pprint(thing)\n",
    "\n",
    "\n",
    "\n",
    "print_things(analysis)\n",
    "# pp.pprint(analysis)"
   ]
  },
  {
   "cell_type": "code",
   "execution_count": null,
   "metadata": {
    "collapsed": true
   },
   "outputs": [],
   "source": []
  },
  {
   "cell_type": "code",
   "execution_count": null,
   "metadata": {
    "collapsed": true
   },
   "outputs": [],
   "source": []
  },
  {
   "cell_type": "code",
   "execution_count": null,
   "metadata": {
    "collapsed": true
   },
   "outputs": [],
   "source": []
  },
  {
   "cell_type": "code",
   "execution_count": null,
   "metadata": {
    "collapsed": true
   },
   "outputs": [],
   "source": []
  },
  {
   "cell_type": "code",
   "execution_count": null,
   "metadata": {
    "collapsed": true
   },
   "outputs": [],
   "source": []
  },
  {
   "cell_type": "code",
   "execution_count": null,
   "metadata": {
    "collapsed": true
   },
   "outputs": [],
   "source": []
  },
  {
   "cell_type": "code",
   "execution_count": null,
   "metadata": {
    "collapsed": true
   },
   "outputs": [],
   "source": []
  },
  {
   "cell_type": "code",
   "execution_count": null,
   "metadata": {
    "collapsed": true
   },
   "outputs": [],
   "source": []
  },
  {
   "cell_type": "code",
   "execution_count": null,
   "metadata": {
    "collapsed": true
   },
   "outputs": [],
   "source": []
  },
  {
   "cell_type": "code",
   "execution_count": null,
   "metadata": {
    "collapsed": true
   },
   "outputs": [],
   "source": []
  },
  {
   "cell_type": "code",
   "execution_count": null,
   "metadata": {
    "collapsed": true
   },
   "outputs": [],
   "source": []
  },
  {
   "cell_type": "code",
   "execution_count": null,
   "metadata": {
    "collapsed": true
   },
   "outputs": [],
   "source": []
  },
  {
   "cell_type": "code",
   "execution_count": null,
   "metadata": {
    "collapsed": true
   },
   "outputs": [],
   "source": []
  },
  {
   "cell_type": "code",
   "execution_count": null,
   "metadata": {
    "collapsed": true
   },
   "outputs": [],
   "source": []
  },
  {
   "cell_type": "code",
   "execution_count": null,
   "metadata": {
    "collapsed": true
   },
   "outputs": [],
   "source": []
  },
  {
   "cell_type": "code",
   "execution_count": null,
   "metadata": {
    "collapsed": true
   },
   "outputs": [],
   "source": []
  },
  {
   "cell_type": "code",
   "execution_count": null,
   "metadata": {
    "collapsed": true
   },
   "outputs": [],
   "source": []
  },
  {
   "cell_type": "code",
   "execution_count": null,
   "metadata": {
    "collapsed": true
   },
   "outputs": [],
   "source": []
  },
  {
   "cell_type": "code",
   "execution_count": null,
   "metadata": {
    "collapsed": true
   },
   "outputs": [],
   "source": []
  },
  {
   "cell_type": "code",
   "execution_count": null,
   "metadata": {
    "collapsed": true
   },
   "outputs": [],
   "source": []
  },
  {
   "cell_type": "code",
   "execution_count": null,
   "metadata": {
    "collapsed": true
   },
   "outputs": [],
   "source": []
  },
  {
   "cell_type": "code",
   "execution_count": null,
   "metadata": {
    "collapsed": true
   },
   "outputs": [],
   "source": []
  },
  {
   "cell_type": "code",
   "execution_count": null,
   "metadata": {
    "collapsed": true
   },
   "outputs": [],
   "source": []
  },
  {
   "cell_type": "code",
   "execution_count": null,
   "metadata": {
    "collapsed": true
   },
   "outputs": [],
   "source": []
  },
  {
   "cell_type": "code",
   "execution_count": null,
   "metadata": {
    "collapsed": true
   },
   "outputs": [],
   "source": []
  },
  {
   "cell_type": "code",
   "execution_count": null,
   "metadata": {
    "collapsed": true
   },
   "outputs": [],
   "source": []
  },
  {
   "cell_type": "code",
   "execution_count": null,
   "metadata": {
    "collapsed": true
   },
   "outputs": [],
   "source": []
  },
  {
   "cell_type": "code",
   "execution_count": null,
   "metadata": {
    "collapsed": true
   },
   "outputs": [],
   "source": []
  },
  {
   "cell_type": "code",
   "execution_count": null,
   "metadata": {
    "collapsed": true
   },
   "outputs": [],
   "source": []
  },
  {
   "cell_type": "code",
   "execution_count": null,
   "metadata": {
    "collapsed": true
   },
   "outputs": [],
   "source": []
  },
  {
   "cell_type": "code",
   "execution_count": null,
   "metadata": {
    "collapsed": true
   },
   "outputs": [],
   "source": []
  },
  {
   "cell_type": "code",
   "execution_count": null,
   "metadata": {
    "collapsed": true
   },
   "outputs": [],
   "source": []
  },
  {
   "cell_type": "code",
   "execution_count": null,
   "metadata": {
    "collapsed": true
   },
   "outputs": [],
   "source": []
  },
  {
   "cell_type": "code",
   "execution_count": null,
   "metadata": {
    "collapsed": true
   },
   "outputs": [],
   "source": []
  },
  {
   "cell_type": "code",
   "execution_count": null,
   "metadata": {
    "collapsed": true
   },
   "outputs": [],
   "source": []
  },
  {
   "cell_type": "code",
   "execution_count": null,
   "metadata": {
    "collapsed": true
   },
   "outputs": [],
   "source": []
  },
  {
   "cell_type": "code",
   "execution_count": null,
   "metadata": {
    "collapsed": true
   },
   "outputs": [],
   "source": []
  },
  {
   "cell_type": "code",
   "execution_count": null,
   "metadata": {
    "collapsed": true
   },
   "outputs": [],
   "source": []
  },
  {
   "cell_type": "code",
   "execution_count": null,
   "metadata": {
    "collapsed": true
   },
   "outputs": [],
   "source": []
  },
  {
   "cell_type": "code",
   "execution_count": null,
   "metadata": {
    "collapsed": true
   },
   "outputs": [],
   "source": []
  }
 ],
 "metadata": {
  "kernelspec": {
   "display_name": "Python 3",
   "language": "python",
   "name": "python3"
  },
  "language_info": {
   "codemirror_mode": {
    "name": "ipython",
    "version": 3
   },
   "file_extension": ".py",
   "mimetype": "text/x-python",
   "name": "python",
   "nbconvert_exporter": "python",
   "pygments_lexer": "ipython3",
   "version": "3.5.2"
  }
 },
 "nbformat": 4,
 "nbformat_minor": 2
}
